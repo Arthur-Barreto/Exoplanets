{
  "nbformat": 4,
  "nbformat_minor": 0,
  "metadata": {
    "colab": {
      "provenance": [],
      "authorship_tag": "ABX9TyP3GXZu3xnXLX2tq5trV3H3",
      "include_colab_link": true
    },
    "kernelspec": {
      "name": "python3",
      "display_name": "Python 3"
    },
    "language_info": {
      "name": "python"
    }
  },
  "cells": [
    {
      "cell_type": "markdown",
      "metadata": {
        "id": "view-in-github",
        "colab_type": "text"
      },
      "source": [
        "<a href=\"https://colab.research.google.com/github/Arthur-Barreto/Exoplanets/blob/main/RedeNeural/pyTorch.ipynb\" target=\"_parent\"><img src=\"https://colab.research.google.com/assets/colab-badge.svg\" alt=\"Open In Colab\"/></a>"
      ]
    },
    {
      "cell_type": "markdown",
      "source": [
        "# Creating my own model using pytorch"
      ],
      "metadata": {
        "id": "3TcAgJA2PQUD"
      }
    },
    {
      "cell_type": "markdown",
      "source": [
        "## This notebook is based on the link: https://machinelearningmastery.com/building-a-binary-classification-model-in-pytorch/\n",
        "\n",
        "### The goal is to make a better classifier than using the random forest model."
      ],
      "metadata": {
        "id": "j1xzcoi2Pbxw"
      }
    },
    {
      "cell_type": "markdown",
      "source": [
        "## Loading dataset\n",
        "> The dataframe"
      ],
      "metadata": {
        "id": "w4Tss-GcP8m0"
      }
    },
    {
      "cell_type": "code",
      "source": [
        "import pandas as pd\n",
        "\n",
        "from google.colab import drive\n",
        "drive.mount('/content/gdrive')"
      ],
      "metadata": {
        "colab": {
          "base_uri": "https://localhost:8080/"
        },
        "id": "4TZBdNvJZD02",
        "outputId": "d415b6c5-457d-4f18-efad-ecb5a7a2bdda"
      },
      "execution_count": 1,
      "outputs": [
        {
          "output_type": "stream",
          "name": "stdout",
          "text": [
            "Mounted at /content/gdrive\n"
          ]
        }
      ]
    },
    {
      "cell_type": "code",
      "source": [
        "df_filtered = pd.read_pickle(\"/content/gdrive/MyDrive/logArthur/df_filtered.pkl\")"
      ],
      "metadata": {
        "id": "7TJ7w60jZf7w"
      },
      "execution_count": 8,
      "outputs": []
    },
    {
      "cell_type": "code",
      "source": [
        "df_filtered.head()"
      ],
      "metadata": {
        "colab": {
          "base_uri": "https://localhost:8080/",
          "height": 206
        },
        "id": "OWzKwDgWZh56",
        "outputId": "c7bcd3fd-7b20-4517-ee14-ff5981881c83"
      },
      "execution_count": 9,
      "outputs": [
        {
          "output_type": "execute_result",
          "data": {
            "text/plain": [
              "   sky_position      max_power    period_at_max_power  \\\n",
              "8      Kepler-9   27691.850489   19.276027602760276 d   \n",
              "10    Kepler-11    3323.241291   45.373237323732376 d   \n",
              "15    Kepler-16  150214.702840   359.41764176417644 d   \n",
              "18    Kepler-19    2198.032117       65.00600060006 d   \n",
              "19    Kepler-20   22398.128200   10.856285628562857 d   \n",
              "\n",
              "    transit_time_at_max_power duration_at_max_power  has_flux  \\\n",
              "8                  143.898013                0.15 d         1   \n",
              "10                 148.472045                 0.2 d         1   \n",
              "15                 352.263886                0.33 d         1   \n",
              "18                 145.319322                0.15 d         1   \n",
              "19                 138.472644                0.33 d         1   \n",
              "\n",
              "                                              lc_flux  \\\n",
              "8   [0.9975966720091157, 0.9973999922352278, 0.997...   \n",
              "10  [1.0001171265268693, 1.0000895883816208, 0.999...   \n",
              "15  [1.000646710395813, 1.000847578048706, 1.00074...   \n",
              "18  [1.0004145645415485, 1.0001728345558498, 1.000...   \n",
              "19  [0.9999672136385541, 0.9999018197503611, 0.999...   \n",
              "\n",
              "                                            lc_flux_2  \n",
              "8   [0.9975966720091157, 0.9973999922352278, 0.997...  \n",
              "10  [1.0001171265268693, 1.0000895883816208, 0.999...  \n",
              "15  [1.000646710395813, 1.000847578048706, 1.00074...  \n",
              "18  [1.0004145645415485, 1.0001728345558498, 1.000...  \n",
              "19  [0.9999672136385541, 0.9999018197503611, 0.999...  "
            ],
            "text/html": [
              "\n",
              "  <div id=\"df-8894060e-005c-44e1-a200-fb0ee74c4ab9\">\n",
              "    <div class=\"colab-df-container\">\n",
              "      <div>\n",
              "<style scoped>\n",
              "    .dataframe tbody tr th:only-of-type {\n",
              "        vertical-align: middle;\n",
              "    }\n",
              "\n",
              "    .dataframe tbody tr th {\n",
              "        vertical-align: top;\n",
              "    }\n",
              "\n",
              "    .dataframe thead th {\n",
              "        text-align: right;\n",
              "    }\n",
              "</style>\n",
              "<table border=\"1\" class=\"dataframe\">\n",
              "  <thead>\n",
              "    <tr style=\"text-align: right;\">\n",
              "      <th></th>\n",
              "      <th>sky_position</th>\n",
              "      <th>max_power</th>\n",
              "      <th>period_at_max_power</th>\n",
              "      <th>transit_time_at_max_power</th>\n",
              "      <th>duration_at_max_power</th>\n",
              "      <th>has_flux</th>\n",
              "      <th>lc_flux</th>\n",
              "      <th>lc_flux_2</th>\n",
              "    </tr>\n",
              "  </thead>\n",
              "  <tbody>\n",
              "    <tr>\n",
              "      <th>8</th>\n",
              "      <td>Kepler-9</td>\n",
              "      <td>27691.850489</td>\n",
              "      <td>19.276027602760276 d</td>\n",
              "      <td>143.898013</td>\n",
              "      <td>0.15 d</td>\n",
              "      <td>1</td>\n",
              "      <td>[0.9975966720091157, 0.9973999922352278, 0.997...</td>\n",
              "      <td>[0.9975966720091157, 0.9973999922352278, 0.997...</td>\n",
              "    </tr>\n",
              "    <tr>\n",
              "      <th>10</th>\n",
              "      <td>Kepler-11</td>\n",
              "      <td>3323.241291</td>\n",
              "      <td>45.373237323732376 d</td>\n",
              "      <td>148.472045</td>\n",
              "      <td>0.2 d</td>\n",
              "      <td>1</td>\n",
              "      <td>[1.0001171265268693, 1.0000895883816208, 0.999...</td>\n",
              "      <td>[1.0001171265268693, 1.0000895883816208, 0.999...</td>\n",
              "    </tr>\n",
              "    <tr>\n",
              "      <th>15</th>\n",
              "      <td>Kepler-16</td>\n",
              "      <td>150214.702840</td>\n",
              "      <td>359.41764176417644 d</td>\n",
              "      <td>352.263886</td>\n",
              "      <td>0.33 d</td>\n",
              "      <td>1</td>\n",
              "      <td>[1.000646710395813, 1.000847578048706, 1.00074...</td>\n",
              "      <td>[1.000646710395813, 1.000847578048706, 1.00074...</td>\n",
              "    </tr>\n",
              "    <tr>\n",
              "      <th>18</th>\n",
              "      <td>Kepler-19</td>\n",
              "      <td>2198.032117</td>\n",
              "      <td>65.00600060006 d</td>\n",
              "      <td>145.319322</td>\n",
              "      <td>0.15 d</td>\n",
              "      <td>1</td>\n",
              "      <td>[1.0004145645415485, 1.0001728345558498, 1.000...</td>\n",
              "      <td>[1.0004145645415485, 1.0001728345558498, 1.000...</td>\n",
              "    </tr>\n",
              "    <tr>\n",
              "      <th>19</th>\n",
              "      <td>Kepler-20</td>\n",
              "      <td>22398.128200</td>\n",
              "      <td>10.856285628562857 d</td>\n",
              "      <td>138.472644</td>\n",
              "      <td>0.33 d</td>\n",
              "      <td>1</td>\n",
              "      <td>[0.9999672136385541, 0.9999018197503611, 0.999...</td>\n",
              "      <td>[0.9999672136385541, 0.9999018197503611, 0.999...</td>\n",
              "    </tr>\n",
              "  </tbody>\n",
              "</table>\n",
              "</div>\n",
              "      <button class=\"colab-df-convert\" onclick=\"convertToInteractive('df-8894060e-005c-44e1-a200-fb0ee74c4ab9')\"\n",
              "              title=\"Convert this dataframe to an interactive table.\"\n",
              "              style=\"display:none;\">\n",
              "        \n",
              "  <svg xmlns=\"http://www.w3.org/2000/svg\" height=\"24px\"viewBox=\"0 0 24 24\"\n",
              "       width=\"24px\">\n",
              "    <path d=\"M0 0h24v24H0V0z\" fill=\"none\"/>\n",
              "    <path d=\"M18.56 5.44l.94 2.06.94-2.06 2.06-.94-2.06-.94-.94-2.06-.94 2.06-2.06.94zm-11 1L8.5 8.5l.94-2.06 2.06-.94-2.06-.94L8.5 2.5l-.94 2.06-2.06.94zm10 10l.94 2.06.94-2.06 2.06-.94-2.06-.94-.94-2.06-.94 2.06-2.06.94z\"/><path d=\"M17.41 7.96l-1.37-1.37c-.4-.4-.92-.59-1.43-.59-.52 0-1.04.2-1.43.59L10.3 9.45l-7.72 7.72c-.78.78-.78 2.05 0 2.83L4 21.41c.39.39.9.59 1.41.59.51 0 1.02-.2 1.41-.59l7.78-7.78 2.81-2.81c.8-.78.8-2.07 0-2.86zM5.41 20L4 18.59l7.72-7.72 1.47 1.35L5.41 20z\"/>\n",
              "  </svg>\n",
              "      </button>\n",
              "      \n",
              "  <style>\n",
              "    .colab-df-container {\n",
              "      display:flex;\n",
              "      flex-wrap:wrap;\n",
              "      gap: 12px;\n",
              "    }\n",
              "\n",
              "    .colab-df-convert {\n",
              "      background-color: #E8F0FE;\n",
              "      border: none;\n",
              "      border-radius: 50%;\n",
              "      cursor: pointer;\n",
              "      display: none;\n",
              "      fill: #1967D2;\n",
              "      height: 32px;\n",
              "      padding: 0 0 0 0;\n",
              "      width: 32px;\n",
              "    }\n",
              "\n",
              "    .colab-df-convert:hover {\n",
              "      background-color: #E2EBFA;\n",
              "      box-shadow: 0px 1px 2px rgba(60, 64, 67, 0.3), 0px 1px 3px 1px rgba(60, 64, 67, 0.15);\n",
              "      fill: #174EA6;\n",
              "    }\n",
              "\n",
              "    [theme=dark] .colab-df-convert {\n",
              "      background-color: #3B4455;\n",
              "      fill: #D2E3FC;\n",
              "    }\n",
              "\n",
              "    [theme=dark] .colab-df-convert:hover {\n",
              "      background-color: #434B5C;\n",
              "      box-shadow: 0px 1px 3px 1px rgba(0, 0, 0, 0.15);\n",
              "      filter: drop-shadow(0px 1px 2px rgba(0, 0, 0, 0.3));\n",
              "      fill: #FFFFFF;\n",
              "    }\n",
              "  </style>\n",
              "\n",
              "      <script>\n",
              "        const buttonEl =\n",
              "          document.querySelector('#df-8894060e-005c-44e1-a200-fb0ee74c4ab9 button.colab-df-convert');\n",
              "        buttonEl.style.display =\n",
              "          google.colab.kernel.accessAllowed ? 'block' : 'none';\n",
              "\n",
              "        async function convertToInteractive(key) {\n",
              "          const element = document.querySelector('#df-8894060e-005c-44e1-a200-fb0ee74c4ab9');\n",
              "          const dataTable =\n",
              "            await google.colab.kernel.invokeFunction('convertToInteractive',\n",
              "                                                     [key], {});\n",
              "          if (!dataTable) return;\n",
              "\n",
              "          const docLinkHtml = 'Like what you see? Visit the ' +\n",
              "            '<a target=\"_blank\" href=https://colab.research.google.com/notebooks/data_table.ipynb>data table notebook</a>'\n",
              "            + ' to learn more about interactive tables.';\n",
              "          element.innerHTML = '';\n",
              "          dataTable['output_type'] = 'display_data';\n",
              "          await google.colab.output.renderOutput(dataTable, element);\n",
              "          const docLink = document.createElement('div');\n",
              "          docLink.innerHTML = docLinkHtml;\n",
              "          element.appendChild(docLink);\n",
              "        }\n",
              "      </script>\n",
              "    </div>\n",
              "  </div>\n",
              "  "
            ]
          },
          "metadata": {},
          "execution_count": 9
        }
      ]
    },
    {
      "cell_type": "markdown",
      "source": [
        "## Now, check the number of 0 and 1, then filter do aplly our models"
      ],
      "metadata": {
        "id": "_mHqrpAqZsFK"
      }
    },
    {
      "cell_type": "code",
      "source": [
        "zeros = df_filtered[df_filtered['has_flux'] == 0]\n",
        "ones = df_filtered[df_filtered['has_flux'] == 1]\n",
        "\n",
        "num_zeros = len(zeros)\n",
        "num_ones = len(ones)\n",
        "\n",
        "print(f'num_zeros= {num_zeros} | num_ones= {num_ones}\\n')"
      ],
      "metadata": {
        "colab": {
          "base_uri": "https://localhost:8080/"
        },
        "id": "QiZHie-aZrr0",
        "outputId": "35c1696d-107e-4fa2-f4e7-44fe6b6e6d06"
      },
      "execution_count": 10,
      "outputs": [
        {
          "output_type": "stream",
          "name": "stdout",
          "text": [
            "num_zeros= 300 | num_ones= 248\n",
            "\n"
          ]
        }
      ]
    },
    {
      "cell_type": "code",
      "source": [
        "selected_zeros = zeros.sample(n=248)\n",
        "selected_ones = ones.sample(n=248)\n",
        "\n",
        "selected_data = pd.concat([selected_zeros, selected_ones])\n",
        "selected_data = selected_data.reset_index()\n",
        "\n",
        "selected_data.describe()"
      ],
      "metadata": {
        "colab": {
          "base_uri": "https://localhost:8080/",
          "height": 300
        },
        "id": "_uQ1lxFlZvoP",
        "outputId": "ce6fd535-b935-43a8-bf2e-4966fa04f360"
      },
      "execution_count": 11,
      "outputs": [
        {
          "output_type": "execute_result",
          "data": {
            "text/plain": [
              "            index     max_power  transit_time_at_max_power    has_flux\n",
              "count  496.000000  4.960000e+02                 496.000000  496.000000\n",
              "mean   510.441532  4.850446e+04                 183.565930    0.500000\n",
              "std    283.738485  2.807711e+05                  77.921522    0.500505\n",
              "min      8.000000  3.053407e+01                 120.754127    0.000000\n",
              "25%    253.750000  3.179336e+02                 138.124859    0.000000\n",
              "50%    526.500000  1.002148e+03                 148.416880    0.500000\n",
              "75%    755.250000  4.222253e+03                 188.113336    1.000000\n",
              "max    983.000000  4.499717e+06                 509.292285    1.000000"
            ],
            "text/html": [
              "\n",
              "  <div id=\"df-e41957be-3058-4086-b7a6-68ce29634244\">\n",
              "    <div class=\"colab-df-container\">\n",
              "      <div>\n",
              "<style scoped>\n",
              "    .dataframe tbody tr th:only-of-type {\n",
              "        vertical-align: middle;\n",
              "    }\n",
              "\n",
              "    .dataframe tbody tr th {\n",
              "        vertical-align: top;\n",
              "    }\n",
              "\n",
              "    .dataframe thead th {\n",
              "        text-align: right;\n",
              "    }\n",
              "</style>\n",
              "<table border=\"1\" class=\"dataframe\">\n",
              "  <thead>\n",
              "    <tr style=\"text-align: right;\">\n",
              "      <th></th>\n",
              "      <th>index</th>\n",
              "      <th>max_power</th>\n",
              "      <th>transit_time_at_max_power</th>\n",
              "      <th>has_flux</th>\n",
              "    </tr>\n",
              "  </thead>\n",
              "  <tbody>\n",
              "    <tr>\n",
              "      <th>count</th>\n",
              "      <td>496.000000</td>\n",
              "      <td>4.960000e+02</td>\n",
              "      <td>496.000000</td>\n",
              "      <td>496.000000</td>\n",
              "    </tr>\n",
              "    <tr>\n",
              "      <th>mean</th>\n",
              "      <td>510.441532</td>\n",
              "      <td>4.850446e+04</td>\n",
              "      <td>183.565930</td>\n",
              "      <td>0.500000</td>\n",
              "    </tr>\n",
              "    <tr>\n",
              "      <th>std</th>\n",
              "      <td>283.738485</td>\n",
              "      <td>2.807711e+05</td>\n",
              "      <td>77.921522</td>\n",
              "      <td>0.500505</td>\n",
              "    </tr>\n",
              "    <tr>\n",
              "      <th>min</th>\n",
              "      <td>8.000000</td>\n",
              "      <td>3.053407e+01</td>\n",
              "      <td>120.754127</td>\n",
              "      <td>0.000000</td>\n",
              "    </tr>\n",
              "    <tr>\n",
              "      <th>25%</th>\n",
              "      <td>253.750000</td>\n",
              "      <td>3.179336e+02</td>\n",
              "      <td>138.124859</td>\n",
              "      <td>0.000000</td>\n",
              "    </tr>\n",
              "    <tr>\n",
              "      <th>50%</th>\n",
              "      <td>526.500000</td>\n",
              "      <td>1.002148e+03</td>\n",
              "      <td>148.416880</td>\n",
              "      <td>0.500000</td>\n",
              "    </tr>\n",
              "    <tr>\n",
              "      <th>75%</th>\n",
              "      <td>755.250000</td>\n",
              "      <td>4.222253e+03</td>\n",
              "      <td>188.113336</td>\n",
              "      <td>1.000000</td>\n",
              "    </tr>\n",
              "    <tr>\n",
              "      <th>max</th>\n",
              "      <td>983.000000</td>\n",
              "      <td>4.499717e+06</td>\n",
              "      <td>509.292285</td>\n",
              "      <td>1.000000</td>\n",
              "    </tr>\n",
              "  </tbody>\n",
              "</table>\n",
              "</div>\n",
              "      <button class=\"colab-df-convert\" onclick=\"convertToInteractive('df-e41957be-3058-4086-b7a6-68ce29634244')\"\n",
              "              title=\"Convert this dataframe to an interactive table.\"\n",
              "              style=\"display:none;\">\n",
              "        \n",
              "  <svg xmlns=\"http://www.w3.org/2000/svg\" height=\"24px\"viewBox=\"0 0 24 24\"\n",
              "       width=\"24px\">\n",
              "    <path d=\"M0 0h24v24H0V0z\" fill=\"none\"/>\n",
              "    <path d=\"M18.56 5.44l.94 2.06.94-2.06 2.06-.94-2.06-.94-.94-2.06-.94 2.06-2.06.94zm-11 1L8.5 8.5l.94-2.06 2.06-.94-2.06-.94L8.5 2.5l-.94 2.06-2.06.94zm10 10l.94 2.06.94-2.06 2.06-.94-2.06-.94-.94-2.06-.94 2.06-2.06.94z\"/><path d=\"M17.41 7.96l-1.37-1.37c-.4-.4-.92-.59-1.43-.59-.52 0-1.04.2-1.43.59L10.3 9.45l-7.72 7.72c-.78.78-.78 2.05 0 2.83L4 21.41c.39.39.9.59 1.41.59.51 0 1.02-.2 1.41-.59l7.78-7.78 2.81-2.81c.8-.78.8-2.07 0-2.86zM5.41 20L4 18.59l7.72-7.72 1.47 1.35L5.41 20z\"/>\n",
              "  </svg>\n",
              "      </button>\n",
              "      \n",
              "  <style>\n",
              "    .colab-df-container {\n",
              "      display:flex;\n",
              "      flex-wrap:wrap;\n",
              "      gap: 12px;\n",
              "    }\n",
              "\n",
              "    .colab-df-convert {\n",
              "      background-color: #E8F0FE;\n",
              "      border: none;\n",
              "      border-radius: 50%;\n",
              "      cursor: pointer;\n",
              "      display: none;\n",
              "      fill: #1967D2;\n",
              "      height: 32px;\n",
              "      padding: 0 0 0 0;\n",
              "      width: 32px;\n",
              "    }\n",
              "\n",
              "    .colab-df-convert:hover {\n",
              "      background-color: #E2EBFA;\n",
              "      box-shadow: 0px 1px 2px rgba(60, 64, 67, 0.3), 0px 1px 3px 1px rgba(60, 64, 67, 0.15);\n",
              "      fill: #174EA6;\n",
              "    }\n",
              "\n",
              "    [theme=dark] .colab-df-convert {\n",
              "      background-color: #3B4455;\n",
              "      fill: #D2E3FC;\n",
              "    }\n",
              "\n",
              "    [theme=dark] .colab-df-convert:hover {\n",
              "      background-color: #434B5C;\n",
              "      box-shadow: 0px 1px 3px 1px rgba(0, 0, 0, 0.15);\n",
              "      filter: drop-shadow(0px 1px 2px rgba(0, 0, 0, 0.3));\n",
              "      fill: #FFFFFF;\n",
              "    }\n",
              "  </style>\n",
              "\n",
              "      <script>\n",
              "        const buttonEl =\n",
              "          document.querySelector('#df-e41957be-3058-4086-b7a6-68ce29634244 button.colab-df-convert');\n",
              "        buttonEl.style.display =\n",
              "          google.colab.kernel.accessAllowed ? 'block' : 'none';\n",
              "\n",
              "        async function convertToInteractive(key) {\n",
              "          const element = document.querySelector('#df-e41957be-3058-4086-b7a6-68ce29634244');\n",
              "          const dataTable =\n",
              "            await google.colab.kernel.invokeFunction('convertToInteractive',\n",
              "                                                     [key], {});\n",
              "          if (!dataTable) return;\n",
              "\n",
              "          const docLinkHtml = 'Like what you see? Visit the ' +\n",
              "            '<a target=\"_blank\" href=https://colab.research.google.com/notebooks/data_table.ipynb>data table notebook</a>'\n",
              "            + ' to learn more about interactive tables.';\n",
              "          element.innerHTML = '';\n",
              "          dataTable['output_type'] = 'display_data';\n",
              "          await google.colab.output.renderOutput(dataTable, element);\n",
              "          const docLink = document.createElement('div');\n",
              "          docLink.innerHTML = docLinkHtml;\n",
              "          element.appendChild(docLink);\n",
              "        }\n",
              "      </script>\n",
              "    </div>\n",
              "  </div>\n",
              "  "
            ]
          },
          "metadata": {},
          "execution_count": 11
        }
      ]
    },
    {
      "cell_type": "markdown",
      "source": [
        "## Importing PyTorch"
      ],
      "metadata": {
        "id": "a4QTuIkyZ6H1"
      }
    },
    {
      "cell_type": "code",
      "source": [
        "import torch\n",
        "import numpy as np\n",
        " \n",
        "X = torch.tensor(selected_data.lc_flux_2, dtype=torch.float32)\n",
        "y = torch.tensor(selected_data.has_flux, dtype=torch.float32).reshape(-1, 1)"
      ],
      "metadata": {
        "id": "jdn4NXuIZ_wD"
      },
      "execution_count": 12,
      "outputs": []
    },
    {
      "cell_type": "markdown",
      "source": [
        "## Creating a Model"
      ],
      "metadata": {
        "id": "liWb9Eu_afCR"
      }
    },
    {
      "cell_type": "code",
      "source": [
        "# import torch.nn as nn\n",
        " \n",
        "# class Wide(nn.Module):\n",
        "#     def __init__(self):\n",
        "#         super().__init__()\n",
        "#         self.hidden = nn.Linear(64000, 10)\n",
        "#         self.relu = nn.ReLU()\n",
        "#         self.output = nn.Linear(10, 10)\n",
        "#         self.sigmoid = nn.Sigmoid()\n",
        " \n",
        "#     def forward(self, x):\n",
        "#         x = self.relu(self.hidden(x))\n",
        "#         x = self.sigmoid(self.output(x))\n",
        "#         return x"
      ],
      "metadata": {
        "id": "TRoG-GmYapMQ"
      },
      "execution_count": null,
      "outputs": []
    },
    {
      "cell_type": "code",
      "source": [
        "import torch.nn as nn\n",
        "\n",
        "class Deep(nn.Module):\n",
        "    def __init__(self):\n",
        "        super().__init__()\n",
        "        self.layer1 = nn.Linear(64000, 250)\n",
        "        self.act1 = nn.ReLU()\n",
        "        self.layer2 = nn.Linear(250, 250)\n",
        "        self.act2 = nn.ReLU()\n",
        "        self.layer3 = nn.Linear(250, 250)\n",
        "        self.act3 = nn.ReLU()\n",
        "        self.output = nn.Linear(250, 1)\n",
        "        self.sigmoid = nn.Sigmoid()\n",
        " \n",
        "    def forward(self, x):\n",
        "        x = self.act1(self.layer1(x))\n",
        "        x = self.act2(self.layer2(x))\n",
        "        x = self.act3(self.layer3(x))\n",
        "        x = self.sigmoid(self.output(x))\n",
        "        return x"
      ],
      "metadata": {
        "id": "yB7TVmpqaxdO"
      },
      "execution_count": 13,
      "outputs": []
    },
    {
      "cell_type": "code",
      "source": [
        "# Compare model sizes\n",
        "# model1 = Wide()\n",
        "model2 = Deep()\n",
        "# print(sum([x.reshape(-1).shape[0] for x in model1.parameters()]))  # 11161\n",
        "print(sum([x.reshape(-1).shape[0] for x in model2.parameters()]))  # 11041"
      ],
      "metadata": {
        "colab": {
          "base_uri": "https://localhost:8080/"
        },
        "id": "e7-gWzv6a071",
        "outputId": "014cd607-e1cc-4b2c-9fd2-47e387377cf9"
      },
      "execution_count": 14,
      "outputs": [
        {
          "output_type": "stream",
          "name": "stdout",
          "text": [
            "16126001\n"
          ]
        }
      ]
    },
    {
      "cell_type": "markdown",
      "source": [
        "## Comparing Models with Cross-Validation"
      ],
      "metadata": {
        "id": "INlEbisYa-SP"
      }
    },
    {
      "cell_type": "code",
      "source": [
        "import copy\n",
        "import numpy as np\n",
        "import torch\n",
        "import torch.nn as nn\n",
        "import torch.optim as optim\n",
        "import tqdm\n",
        "\n",
        "def model_train(model, X_train, y_train, X_val, y_val):\n",
        "    # loss function and optimizer\n",
        "    loss_fn = nn.BCELoss()  # binary cross entropy\n",
        "    optimizer = optim.Adam(model.parameters(), lr=0.0001)\n",
        "\n",
        "    n_epochs = 250   # number of epochs to run\n",
        "    batch_size = 10  # size of each batch\n",
        "    batch_start = torch.arange(0, len(X_train), batch_size)\n",
        "\n",
        "    # Hold the best model\n",
        "    best_acc = - np.inf   # init to negative infinity\n",
        "    best_weights = None\n",
        "\n",
        "    for epoch in range(n_epochs):\n",
        "        model.train()\n",
        "        with tqdm.tqdm(batch_start, unit=\"batch\", mininterval=0, disable=True) as bar:\n",
        "            bar.set_description(f\"Epoch {epoch}\")\n",
        "            for start in bar:\n",
        "                # take a batch\n",
        "                X_batch = X_train[start:start+batch_size]\n",
        "                y_batch = y_train[start:start+batch_size]\n",
        "                # forward pass\n",
        "                y_pred = model(X_batch)\n",
        "                loss = loss_fn(y_pred, y_batch)\n",
        "                # backward pass\n",
        "                optimizer.zero_grad()\n",
        "                loss.backward()\n",
        "                # update weights\n",
        "                optimizer.step()\n",
        "                # print progress\n",
        "                acc = (y_pred.round() == y_batch).float().mean()\n",
        "                bar.set_postfix(\n",
        "                    loss=float(loss),\n",
        "                    acc=float(acc)\n",
        "                )\n",
        "        # evaluate accuracy at end of each epoch\n",
        "        model.eval()\n",
        "        y_pred = model(X_val)\n",
        "        acc = (y_pred.round() == y_val).float().mean()\n",
        "        acc = float(acc)\n",
        "        if acc > best_acc:\n",
        "            best_acc = acc\n",
        "            best_weights = copy.deepcopy(model.state_dict())\n",
        "    # restore model and return best accuracy\n",
        "    model.load_state_dict(best_weights)\n",
        "    return best_acc"
      ],
      "metadata": {
        "id": "7rgXGaTKcVmy"
      },
      "execution_count": 15,
      "outputs": []
    },
    {
      "cell_type": "code",
      "source": [
        "from sklearn.model_selection import StratifiedKFold\n",
        "\n",
        "# define 5-fold cross validation test harness\n",
        "kfold = StratifiedKFold(n_splits=10, shuffle=True)\n",
        "cv_scores = []\n",
        "for train, test in kfold.split(X, y):\n",
        "    # create model, train, and get accuracy\n",
        "    model = Deep()\n",
        "    acc = model_train(model, X[train], y[train], X[test], y[test])\n",
        "    print(\"Accuracy (Deep): %.2f\" % acc)\n",
        "    cv_scores.append(acc)\n",
        " \n",
        "# evaluate the model\n",
        "acc = np.mean(cv_scores)\n",
        "std = np.std(cv_scores)\n",
        "print(\"Model accuracy: %.2f%% (+/- %.2f%%)\" % (acc*100, std*100))"
      ],
      "metadata": {
        "id": "guUnfEUha5vp"
      },
      "execution_count": null,
      "outputs": []
    }
  ]
}
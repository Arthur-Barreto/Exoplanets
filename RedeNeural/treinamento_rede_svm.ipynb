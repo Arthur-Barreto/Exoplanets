{
  "nbformat": 4,
  "nbformat_minor": 0,
  "metadata": {
    "colab": {
      "provenance": []
    },
    "kernelspec": {
      "name": "python3",
      "display_name": "Python 3"
    },
    "language_info": {
      "name": "python"
    }
  },
  "cells": [
    {
      "cell_type": "code",
      "execution_count": 1,
      "metadata": {
        "id": "ZjhZUzMOZDDE"
      },
      "outputs": [],
      "source": [
        "import numpy as np\n",
        "import pandas as pd"
      ]
    },
    {
      "cell_type": "markdown",
      "source": [
        "# Importando a base de dados"
      ],
      "metadata": {
        "id": "y7RaLj4KZWl8"
      }
    },
    {
      "cell_type": "code",
      "source": [
        "from google.colab import drive\n",
        "drive.mount('/content/gdrive')"
      ],
      "metadata": {
        "colab": {
          "base_uri": "https://localhost:8080/"
        },
        "id": "G1ZfI3llZVIu",
        "outputId": "74fea190-f155-4fcb-85a7-091f1197b7dc"
      },
      "execution_count": 2,
      "outputs": [
        {
          "output_type": "stream",
          "name": "stdout",
          "text": [
            "Mounted at /content/gdrive\n"
          ]
        }
      ]
    },
    {
      "cell_type": "code",
      "source": [
        "df = pd.read_csv(\"/content/gdrive/MyDrive/logArthur/kepler.csv\")"
      ],
      "metadata": {
        "id": "QaXk3BP3ceX3"
      },
      "execution_count": 3,
      "outputs": []
    },
    {
      "cell_type": "code",
      "source": [
        "df.tail()"
      ],
      "metadata": {
        "colab": {
          "base_uri": "https://localhost:8080/",
          "height": 206
        },
        "id": "A69GOP-icu1H",
        "outputId": "c60f85e9-3141-4735-d0c2-b934110536ee"
      },
      "execution_count": 4,
      "outputs": [
        {
          "output_type": "execute_result",
          "data": {
            "text/plain": [
              "    sky_position     max_power    period_at_max_power  \\\n",
              "980   Kepler-995  65057.308271     18.3981398139814 d   \n",
              "981   Kepler-996     48.911612    22.62796279627963 d   \n",
              "982   Kepler-997   3093.543031    283.1611161116112 d   \n",
              "983   Kepler-998    253.822173    16.96159615961596 d   \n",
              "984   Kepler-999   1077.210705   328.45214521452147 d   \n",
              "\n",
              "     transit_time_at_max_power duration_at_max_power  \n",
              "980                 140.928033                0.33 d  \n",
              "981                 144.567433                0.25 d  \n",
              "982                 284.028951                0.33 d  \n",
              "983                 143.011726                 0.1 d  \n",
              "984                 245.593376                0.33 d  "
            ],
            "text/html": [
              "\n",
              "  <div id=\"df-70ded565-cf4e-49af-b8fd-1c3081bdfee3\">\n",
              "    <div class=\"colab-df-container\">\n",
              "      <div>\n",
              "<style scoped>\n",
              "    .dataframe tbody tr th:only-of-type {\n",
              "        vertical-align: middle;\n",
              "    }\n",
              "\n",
              "    .dataframe tbody tr th {\n",
              "        vertical-align: top;\n",
              "    }\n",
              "\n",
              "    .dataframe thead th {\n",
              "        text-align: right;\n",
              "    }\n",
              "</style>\n",
              "<table border=\"1\" class=\"dataframe\">\n",
              "  <thead>\n",
              "    <tr style=\"text-align: right;\">\n",
              "      <th></th>\n",
              "      <th>sky_position</th>\n",
              "      <th>max_power</th>\n",
              "      <th>period_at_max_power</th>\n",
              "      <th>transit_time_at_max_power</th>\n",
              "      <th>duration_at_max_power</th>\n",
              "    </tr>\n",
              "  </thead>\n",
              "  <tbody>\n",
              "    <tr>\n",
              "      <th>980</th>\n",
              "      <td>Kepler-995</td>\n",
              "      <td>65057.308271</td>\n",
              "      <td>18.3981398139814 d</td>\n",
              "      <td>140.928033</td>\n",
              "      <td>0.33 d</td>\n",
              "    </tr>\n",
              "    <tr>\n",
              "      <th>981</th>\n",
              "      <td>Kepler-996</td>\n",
              "      <td>48.911612</td>\n",
              "      <td>22.62796279627963 d</td>\n",
              "      <td>144.567433</td>\n",
              "      <td>0.25 d</td>\n",
              "    </tr>\n",
              "    <tr>\n",
              "      <th>982</th>\n",
              "      <td>Kepler-997</td>\n",
              "      <td>3093.543031</td>\n",
              "      <td>283.1611161116112 d</td>\n",
              "      <td>284.028951</td>\n",
              "      <td>0.33 d</td>\n",
              "    </tr>\n",
              "    <tr>\n",
              "      <th>983</th>\n",
              "      <td>Kepler-998</td>\n",
              "      <td>253.822173</td>\n",
              "      <td>16.96159615961596 d</td>\n",
              "      <td>143.011726</td>\n",
              "      <td>0.1 d</td>\n",
              "    </tr>\n",
              "    <tr>\n",
              "      <th>984</th>\n",
              "      <td>Kepler-999</td>\n",
              "      <td>1077.210705</td>\n",
              "      <td>328.45214521452147 d</td>\n",
              "      <td>245.593376</td>\n",
              "      <td>0.33 d</td>\n",
              "    </tr>\n",
              "  </tbody>\n",
              "</table>\n",
              "</div>\n",
              "      <button class=\"colab-df-convert\" onclick=\"convertToInteractive('df-70ded565-cf4e-49af-b8fd-1c3081bdfee3')\"\n",
              "              title=\"Convert this dataframe to an interactive table.\"\n",
              "              style=\"display:none;\">\n",
              "        \n",
              "  <svg xmlns=\"http://www.w3.org/2000/svg\" height=\"24px\"viewBox=\"0 0 24 24\"\n",
              "       width=\"24px\">\n",
              "    <path d=\"M0 0h24v24H0V0z\" fill=\"none\"/>\n",
              "    <path d=\"M18.56 5.44l.94 2.06.94-2.06 2.06-.94-2.06-.94-.94-2.06-.94 2.06-2.06.94zm-11 1L8.5 8.5l.94-2.06 2.06-.94-2.06-.94L8.5 2.5l-.94 2.06-2.06.94zm10 10l.94 2.06.94-2.06 2.06-.94-2.06-.94-.94-2.06-.94 2.06-2.06.94z\"/><path d=\"M17.41 7.96l-1.37-1.37c-.4-.4-.92-.59-1.43-.59-.52 0-1.04.2-1.43.59L10.3 9.45l-7.72 7.72c-.78.78-.78 2.05 0 2.83L4 21.41c.39.39.9.59 1.41.59.51 0 1.02-.2 1.41-.59l7.78-7.78 2.81-2.81c.8-.78.8-2.07 0-2.86zM5.41 20L4 18.59l7.72-7.72 1.47 1.35L5.41 20z\"/>\n",
              "  </svg>\n",
              "      </button>\n",
              "      \n",
              "  <style>\n",
              "    .colab-df-container {\n",
              "      display:flex;\n",
              "      flex-wrap:wrap;\n",
              "      gap: 12px;\n",
              "    }\n",
              "\n",
              "    .colab-df-convert {\n",
              "      background-color: #E8F0FE;\n",
              "      border: none;\n",
              "      border-radius: 50%;\n",
              "      cursor: pointer;\n",
              "      display: none;\n",
              "      fill: #1967D2;\n",
              "      height: 32px;\n",
              "      padding: 0 0 0 0;\n",
              "      width: 32px;\n",
              "    }\n",
              "\n",
              "    .colab-df-convert:hover {\n",
              "      background-color: #E2EBFA;\n",
              "      box-shadow: 0px 1px 2px rgba(60, 64, 67, 0.3), 0px 1px 3px 1px rgba(60, 64, 67, 0.15);\n",
              "      fill: #174EA6;\n",
              "    }\n",
              "\n",
              "    [theme=dark] .colab-df-convert {\n",
              "      background-color: #3B4455;\n",
              "      fill: #D2E3FC;\n",
              "    }\n",
              "\n",
              "    [theme=dark] .colab-df-convert:hover {\n",
              "      background-color: #434B5C;\n",
              "      box-shadow: 0px 1px 3px 1px rgba(0, 0, 0, 0.15);\n",
              "      filter: drop-shadow(0px 1px 2px rgba(0, 0, 0, 0.3));\n",
              "      fill: #FFFFFF;\n",
              "    }\n",
              "  </style>\n",
              "\n",
              "      <script>\n",
              "        const buttonEl =\n",
              "          document.querySelector('#df-70ded565-cf4e-49af-b8fd-1c3081bdfee3 button.colab-df-convert');\n",
              "        buttonEl.style.display =\n",
              "          google.colab.kernel.accessAllowed ? 'block' : 'none';\n",
              "\n",
              "        async function convertToInteractive(key) {\n",
              "          const element = document.querySelector('#df-70ded565-cf4e-49af-b8fd-1c3081bdfee3');\n",
              "          const dataTable =\n",
              "            await google.colab.kernel.invokeFunction('convertToInteractive',\n",
              "                                                     [key], {});\n",
              "          if (!dataTable) return;\n",
              "\n",
              "          const docLinkHtml = 'Like what you see? Visit the ' +\n",
              "            '<a target=\"_blank\" href=https://colab.research.google.com/notebooks/data_table.ipynb>data table notebook</a>'\n",
              "            + ' to learn more about interactive tables.';\n",
              "          element.innerHTML = '';\n",
              "          dataTable['output_type'] = 'display_data';\n",
              "          await google.colab.output.renderOutput(dataTable, element);\n",
              "          const docLink = document.createElement('div');\n",
              "          docLink.innerHTML = docLinkHtml;\n",
              "          element.appendChild(docLink);\n",
              "        }\n",
              "      </script>\n",
              "    </div>\n",
              "  </div>\n",
              "  "
            ]
          },
          "metadata": {},
          "execution_count": 4
        }
      ]
    },
    {
      "cell_type": "code",
      "source": [
        "array1 = np.loadtxt(f'/content/gdrive/MyDrive/log_lc_flux/Kepler-69.csv')#.astype(np.float64)\n",
        "import matplotlib.pyplot as plt\n",
        "\n",
        "plt.specgram(array1,Fs=1,cmap=\"rainbow\")\n",
        "plt.show()\n",
        "\n",
        "# plt.plot(range(len(array1)),array1, 'ro')"
      ],
      "metadata": {
        "colab": {
          "base_uri": "https://localhost:8080/",
          "height": 435
        },
        "id": "dRMmLJdIjSow",
        "outputId": "b2289f4e-112a-4b61-85f8-2e74c3b0bbc0"
      },
      "execution_count": 5,
      "outputs": [
        {
          "output_type": "display_data",
          "data": {
            "text/plain": [
              "<Figure size 640x480 with 1 Axes>"
            ],
            "image/png": "[encoded data removed]"
          },
          "metadata": {}
        }
      ]
    },
    {
      "cell_type": "code",
      "source": [
        "cutoff_value = 1000\n",
        "has_flux = []\n",
        "\n",
        "for value in df['max_power']:\n",
        "    if value > cutoff_value:\n",
        "        has_flux.append(1)\n",
        "    else:\n",
        "        has_flux.append(0) "
      ],
      "metadata": {
        "id": "50z6y1ETc1sQ"
      },
      "execution_count": null,
      "outputs": []
    },
    {
      "cell_type": "code",
      "source": [
        "df_labeled = df\n",
        "\n",
        "df_labeled['has_flux'] = has_flux\n",
        "\n",
        "df_labeled.tail()"
      ],
      "metadata": {
        "colab": {
          "base_uri": "https://localhost:8080/",
          "height": 206
        },
        "id": "vKZ3DVEjdZgB",
        "outputId": "c5bbf782-11bb-443b-c3a7-36cce829a8bb"
      },
      "execution_count": null,
      "outputs": [
        {
          "output_type": "execute_result",
          "data": {
            "text/plain": [
              "    sky_position     max_power    period_at_max_power  \\\n",
              "980   Kepler-995  65057.308271     18.3981398139814 d   \n",
              "981   Kepler-996     48.911612    22.62796279627963 d   \n",
              "982   Kepler-997   3093.543031    283.1611161116112 d   \n",
              "983   Kepler-998    253.822173    16.96159615961596 d   \n",
              "984   Kepler-999   1077.210705   328.45214521452147 d   \n",
              "\n",
              "     transit_time_at_max_power duration_at_max_power  has_flux  \n",
              "980                 140.928033                0.33 d         1  \n",
              "981                 144.567433                0.25 d         0  \n",
              "982                 284.028951                0.33 d         1  \n",
              "983                 143.011726                 0.1 d         0  \n",
              "984                 245.593376                0.33 d         1  "
            ],
            "text/html": [
              "\n",
              "  <div id=\"df-db73c97e-5018-4db3-b438-7da8c62f4e49\">\n",
              "    <div class=\"colab-df-container\">\n",
              "      <div>\n",
              "<style scoped>\n",
              "    .dataframe tbody tr th:only-of-type {\n",
              "        vertical-align: middle;\n",
              "    }\n",
              "\n",
              "    .dataframe tbody tr th {\n",
              "        vertical-align: top;\n",
              "    }\n",
              "\n",
              "    .dataframe thead th {\n",
              "        text-align: right;\n",
              "    }\n",
              "</style>\n",
              "<table border=\"1\" class=\"dataframe\">\n",
              "  <thead>\n",
              "    <tr style=\"text-align: right;\">\n",
              "      <th></th>\n",
              "      <th>sky_position</th>\n",
              "      <th>max_power</th>\n",
              "      <th>period_at_max_power</th>\n",
              "      <th>transit_time_at_max_power</th>\n",
              "      <th>duration_at_max_power</th>\n",
              "      <th>has_flux</th>\n",
              "    </tr>\n",
              "  </thead>\n",
              "  <tbody>\n",
              "    <tr>\n",
              "      <th>980</th>\n",
              "      <td>Kepler-995</td>\n",
              "      <td>65057.308271</td>\n",
              "      <td>18.3981398139814 d</td>\n",
              "      <td>140.928033</td>\n",
              "      <td>0.33 d</td>\n",
              "      <td>1</td>\n",
              "    </tr>\n",
              "    <tr>\n",
              "      <th>981</th>\n",
              "      <td>Kepler-996</td>\n",
              "      <td>48.911612</td>\n",
              "      <td>22.62796279627963 d</td>\n",
              "      <td>144.567433</td>\n",
              "      <td>0.25 d</td>\n",
              "      <td>0</td>\n",
              "    </tr>\n",
              "    <tr>\n",
              "      <th>982</th>\n",
              "      <td>Kepler-997</td>\n",
              "      <td>3093.543031</td>\n",
              "      <td>283.1611161116112 d</td>\n",
              "      <td>284.028951</td>\n",
              "      <td>0.33 d</td>\n",
              "      <td>1</td>\n",
              "    </tr>\n",
              "    <tr>\n",
              "      <th>983</th>\n",
              "      <td>Kepler-998</td>\n",
              "      <td>253.822173</td>\n",
              "      <td>16.96159615961596 d</td>\n",
              "      <td>143.011726</td>\n",
              "      <td>0.1 d</td>\n",
              "      <td>0</td>\n",
              "    </tr>\n",
              "    <tr>\n",
              "      <th>984</th>\n",
              "      <td>Kepler-999</td>\n",
              "      <td>1077.210705</td>\n",
              "      <td>328.45214521452147 d</td>\n",
              "      <td>245.593376</td>\n",
              "      <td>0.33 d</td>\n",
              "      <td>1</td>\n",
              "    </tr>\n",
              "  </tbody>\n",
              "</table>\n",
              "</div>\n",
              "      <button class=\"colab-df-convert\" onclick=\"convertToInteractive('df-db73c97e-5018-4db3-b438-7da8c62f4e49')\"\n",
              "              title=\"Convert this dataframe to an interactive table.\"\n",
              "              style=\"display:none;\">\n",
              "        \n",
              "  <svg xmlns=\"http://www.w3.org/2000/svg\" height=\"24px\"viewBox=\"0 0 24 24\"\n",
              "       width=\"24px\">\n",
              "    <path d=\"M0 0h24v24H0V0z\" fill=\"none\"/>\n",
              "    <path d=\"M18.56 5.44l.94 2.06.94-2.06 2.06-.94-2.06-.94-.94-2.06-.94 2.06-2.06.94zm-11 1L8.5 8.5l.94-2.06 2.06-.94-2.06-.94L8.5 2.5l-.94 2.06-2.06.94zm10 10l.94 2.06.94-2.06 2.06-.94-2.06-.94-.94-2.06-.94 2.06-2.06.94z\"/><path d=\"M17.41 7.96l-1.37-1.37c-.4-.4-.92-.59-1.43-.59-.52 0-1.04.2-1.43.59L10.3 9.45l-7.72 7.72c-.78.78-.78 2.05 0 2.83L4 21.41c.39.39.9.59 1.41.59.51 0 1.02-.2 1.41-.59l7.78-7.78 2.81-2.81c.8-.78.8-2.07 0-2.86zM5.41 20L4 18.59l7.72-7.72 1.47 1.35L5.41 20z\"/>\n",
              "  </svg>\n",
              "      </button>\n",
              "      \n",
              "  <style>\n",
              "    .colab-df-container {\n",
              "      display:flex;\n",
              "      flex-wrap:wrap;\n",
              "      gap: 12px;\n",
              "    }\n",
              "\n",
              "    .colab-df-convert {\n",
              "      background-color: #E8F0FE;\n",
              "      border: none;\n",
              "      border-radius: 50%;\n",
              "      cursor: pointer;\n",
              "      display: none;\n",
              "      fill: #1967D2;\n",
              "      height: 32px;\n",
              "      padding: 0 0 0 0;\n",
              "      width: 32px;\n",
              "    }\n",
              "\n",
              "    .colab-df-convert:hover {\n",
              "      background-color: #E2EBFA;\n",
              "      box-shadow: 0px 1px 2px rgba(60, 64, 67, 0.3), 0px 1px 3px 1px rgba(60, 64, 67, 0.15);\n",
              "      fill: #174EA6;\n",
              "    }\n",
              "\n",
              "    [theme=dark] .colab-df-convert {\n",
              "      background-color: #3B4455;\n",
              "      fill: #D2E3FC;\n",
              "    }\n",
              "\n",
              "    [theme=dark] .colab-df-convert:hover {\n",
              "      background-color: #434B5C;\n",
              "      box-shadow: 0px 1px 3px 1px rgba(0, 0, 0, 0.15);\n",
              "      filter: drop-shadow(0px 1px 2px rgba(0, 0, 0, 0.3));\n",
              "      fill: #FFFFFF;\n",
              "    }\n",
              "  </style>\n",
              "\n",
              "      <script>\n",
              "        const buttonEl =\n",
              "          document.querySelector('#df-db73c97e-5018-4db3-b438-7da8c62f4e49 button.colab-df-convert');\n",
              "        buttonEl.style.display =\n",
              "          google.colab.kernel.accessAllowed ? 'block' : 'none';\n",
              "\n",
              "        async function convertToInteractive(key) {\n",
              "          const element = document.querySelector('#df-db73c97e-5018-4db3-b438-7da8c62f4e49');\n",
              "          const dataTable =\n",
              "            await google.colab.kernel.invokeFunction('convertToInteractive',\n",
              "                                                     [key], {});\n",
              "          if (!dataTable) return;\n",
              "\n",
              "          const docLinkHtml = 'Like what you see? Visit the ' +\n",
              "            '<a target=\"_blank\" href=https://colab.research.google.com/notebooks/data_table.ipynb>data table notebook</a>'\n",
              "            + ' to learn more about interactive tables.';\n",
              "          element.innerHTML = '';\n",
              "          dataTable['output_type'] = 'display_data';\n",
              "          await google.colab.output.renderOutput(dataTable, element);\n",
              "          const docLink = document.createElement('div');\n",
              "          docLink.innerHTML = docLinkHtml;\n",
              "          element.appendChild(docLink);\n",
              "        }\n",
              "      </script>\n",
              "    </div>\n",
              "  </div>\n",
              "  "
            ]
          },
          "metadata": {},
          "execution_count": 66
        }
      ]
    },
    {
      "cell_type": "markdown",
      "source": [
        "## Salvando o df criado "
      ],
      "metadata": {
        "id": "sJQTG27fieEm"
      }
    },
    {
      "cell_type": "code",
      "source": [
        "df_labeled.to_csv(\"/content/gdrive/MyDrive/logArthur/df_labeled\",index=False)"
      ],
      "metadata": {
        "id": "VOLjMc7Figzx"
      },
      "execution_count": null,
      "outputs": []
    },
    {
      "cell_type": "markdown",
      "source": [
        "## Lendo do df criado"
      ],
      "metadata": {
        "id": "DtA6maxGisYp"
      }
    },
    {
      "cell_type": "code",
      "source": [
        "df_labeled = pd.read_csv(\"/content/gdrive/MyDrive/logArthur/df_labeled\")\n",
        "df_labeled.tail()"
      ],
      "metadata": {
        "colab": {
          "base_uri": "https://localhost:8080/",
          "height": 206
        },
        "id": "4t_UcaBCiuKx",
        "outputId": "38ae596c-af5e-41ec-82f8-b18879b9e8a5"
      },
      "execution_count": null,
      "outputs": [
        {
          "output_type": "execute_result",
          "data": {
            "text/plain": [
              "    sky_position     max_power    period_at_max_power  \\\n",
              "980   Kepler-995  65057.308271     18.3981398139814 d   \n",
              "981   Kepler-996     48.911612    22.62796279627963 d   \n",
              "982   Kepler-997   3093.543031    283.1611161116112 d   \n",
              "983   Kepler-998    253.822173    16.96159615961596 d   \n",
              "984   Kepler-999   1077.210705   328.45214521452147 d   \n",
              "\n",
              "     transit_time_at_max_power duration_at_max_power  has_flux  \n",
              "980                 140.928033                0.33 d         1  \n",
              "981                 144.567433                0.25 d         0  \n",
              "982                 284.028951                0.33 d         1  \n",
              "983                 143.011726                 0.1 d         0  \n",
              "984                 245.593376                0.33 d         1  "
            ],
            "text/html": [
              "\n",
              "  <div id=\"df-56ef09e9-9adc-437b-9588-02ff0ef42e75\">\n",
              "    <div class=\"colab-df-container\">\n",
              "      <div>\n",
              "<style scoped>\n",
              "    .dataframe tbody tr th:only-of-type {\n",
              "        vertical-align: middle;\n",
              "    }\n",
              "\n",
              "    .dataframe tbody tr th {\n",
              "        vertical-align: top;\n",
              "    }\n",
              "\n",
              "    .dataframe thead th {\n",
              "        text-align: right;\n",
              "    }\n",
              "</style>\n",
              "<table border=\"1\" class=\"dataframe\">\n",
              "  <thead>\n",
              "    <tr style=\"text-align: right;\">\n",
              "      <th></th>\n",
              "      <th>sky_position</th>\n",
              "      <th>max_power</th>\n",
              "      <th>period_at_max_power</th>\n",
              "      <th>transit_time_at_max_power</th>\n",
              "      <th>duration_at_max_power</th>\n",
              "      <th>has_flux</th>\n",
              "    </tr>\n",
              "  </thead>\n",
              "  <tbody>\n",
              "    <tr>\n",
              "      <th>980</th>\n",
              "      <td>Kepler-995</td>\n",
              "      <td>65057.308271</td>\n",
              "      <td>18.3981398139814 d</td>\n",
              "      <td>140.928033</td>\n",
              "      <td>0.33 d</td>\n",
              "      <td>1</td>\n",
              "    </tr>\n",
              "    <tr>\n",
              "      <th>981</th>\n",
              "      <td>Kepler-996</td>\n",
              "      <td>48.911612</td>\n",
              "      <td>22.62796279627963 d</td>\n",
              "      <td>144.567433</td>\n",
              "      <td>0.25 d</td>\n",
              "      <td>0</td>\n",
              "    </tr>\n",
              "    <tr>\n",
              "      <th>982</th>\n",
              "      <td>Kepler-997</td>\n",
              "      <td>3093.543031</td>\n",
              "      <td>283.1611161116112 d</td>\n",
              "      <td>284.028951</td>\n",
              "      <td>0.33 d</td>\n",
              "      <td>1</td>\n",
              "    </tr>\n",
              "    <tr>\n",
              "      <th>983</th>\n",
              "      <td>Kepler-998</td>\n",
              "      <td>253.822173</td>\n",
              "      <td>16.96159615961596 d</td>\n",
              "      <td>143.011726</td>\n",
              "      <td>0.1 d</td>\n",
              "      <td>0</td>\n",
              "    </tr>\n",
              "    <tr>\n",
              "      <th>984</th>\n",
              "      <td>Kepler-999</td>\n",
              "      <td>1077.210705</td>\n",
              "      <td>328.45214521452147 d</td>\n",
              "      <td>245.593376</td>\n",
              "      <td>0.33 d</td>\n",
              "      <td>1</td>\n",
              "    </tr>\n",
              "  </tbody>\n",
              "</table>\n",
              "</div>\n",
              "      <button class=\"colab-df-convert\" onclick=\"convertToInteractive('df-56ef09e9-9adc-437b-9588-02ff0ef42e75')\"\n",
              "              title=\"Convert this dataframe to an interactive table.\"\n",
              "              style=\"display:none;\">\n",
              "        \n",
              "  <svg xmlns=\"http://www.w3.org/2000/svg\" height=\"24px\"viewBox=\"0 0 24 24\"\n",
              "       width=\"24px\">\n",
              "    <path d=\"M0 0h24v24H0V0z\" fill=\"none\"/>\n",
              "    <path d=\"M18.56 5.44l.94 2.06.94-2.06 2.06-.94-2.06-.94-.94-2.06-.94 2.06-2.06.94zm-11 1L8.5 8.5l.94-2.06 2.06-.94-2.06-.94L8.5 2.5l-.94 2.06-2.06.94zm10 10l.94 2.06.94-2.06 2.06-.94-2.06-.94-.94-2.06-.94 2.06-2.06.94z\"/><path d=\"M17.41 7.96l-1.37-1.37c-.4-.4-.92-.59-1.43-.59-.52 0-1.04.2-1.43.59L10.3 9.45l-7.72 7.72c-.78.78-.78 2.05 0 2.83L4 21.41c.39.39.9.59 1.41.59.51 0 1.02-.2 1.41-.59l7.78-7.78 2.81-2.81c.8-.78.8-2.07 0-2.86zM5.41 20L4 18.59l7.72-7.72 1.47 1.35L5.41 20z\"/>\n",
              "  </svg>\n",
              "      </button>\n",
              "      \n",
              "  <style>\n",
              "    .colab-df-container {\n",
              "      display:flex;\n",
              "      flex-wrap:wrap;\n",
              "      gap: 12px;\n",
              "    }\n",
              "\n",
              "    .colab-df-convert {\n",
              "      background-color: #E8F0FE;\n",
              "      border: none;\n",
              "      border-radius: 50%;\n",
              "      cursor: pointer;\n",
              "      display: none;\n",
              "      fill: #1967D2;\n",
              "      height: 32px;\n",
              "      padding: 0 0 0 0;\n",
              "      width: 32px;\n",
              "    }\n",
              "\n",
              "    .colab-df-convert:hover {\n",
              "      background-color: #E2EBFA;\n",
              "      box-shadow: 0px 1px 2px rgba(60, 64, 67, 0.3), 0px 1px 3px 1px rgba(60, 64, 67, 0.15);\n",
              "      fill: #174EA6;\n",
              "    }\n",
              "\n",
              "    [theme=dark] .colab-df-convert {\n",
              "      background-color: #3B4455;\n",
              "      fill: #D2E3FC;\n",
              "    }\n",
              "\n",
              "    [theme=dark] .colab-df-convert:hover {\n",
              "      background-color: #434B5C;\n",
              "      box-shadow: 0px 1px 3px 1px rgba(0, 0, 0, 0.15);\n",
              "      filter: drop-shadow(0px 1px 2px rgba(0, 0, 0, 0.3));\n",
              "      fill: #FFFFFF;\n",
              "    }\n",
              "  </style>\n",
              "\n",
              "      <script>\n",
              "        const buttonEl =\n",
              "          document.querySelector('#df-56ef09e9-9adc-437b-9588-02ff0ef42e75 button.colab-df-convert');\n",
              "        buttonEl.style.display =\n",
              "          google.colab.kernel.accessAllowed ? 'block' : 'none';\n",
              "\n",
              "        async function convertToInteractive(key) {\n",
              "          const element = document.querySelector('#df-56ef09e9-9adc-437b-9588-02ff0ef42e75');\n",
              "          const dataTable =\n",
              "            await google.colab.kernel.invokeFunction('convertToInteractive',\n",
              "                                                     [key], {});\n",
              "          if (!dataTable) return;\n",
              "\n",
              "          const docLinkHtml = 'Like what you see? Visit the ' +\n",
              "            '<a target=\"_blank\" href=https://colab.research.google.com/notebooks/data_table.ipynb>data table notebook</a>'\n",
              "            + ' to learn more about interactive tables.';\n",
              "          element.innerHTML = '';\n",
              "          dataTable['output_type'] = 'display_data';\n",
              "          await google.colab.output.renderOutput(dataTable, element);\n",
              "          const docLink = document.createElement('div');\n",
              "          docLink.innerHTML = docLinkHtml;\n",
              "          element.appendChild(docLink);\n",
              "        }\n",
              "      </script>\n",
              "    </div>\n",
              "  </div>\n",
              "  "
            ]
          },
          "metadata": {},
          "execution_count": 68
        }
      ]
    },
    {
      "cell_type": "markdown",
      "source": [
        "## Criando a coluna com os dados da curva de luz"
      ],
      "metadata": {
        "id": "aFQ4U3TnG9ps"
      }
    },
    {
      "cell_type": "code",
      "source": [
        "data_flux = []\n",
        "\n",
        "for i in range (1,1000):\n",
        "    sky_position = \"Kepler-\" + str(i) \n",
        "    try:\n",
        "        actual = np.loadtxt(f'/content/gdrive/MyDrive/log_lc_flux/{sky_position}.csv').astype(np.float64)\n",
        "        data_flux.append(actual)\n",
        "    except:\n",
        "        print(f'Failed to {sky_position}')"
      ],
      "metadata": {
        "id": "SZoBKYkyHDeN",
        "colab": {
          "base_uri": "https://localhost:8080/"
        },
        "outputId": "4d3b7b69-093d-4558-b09d-cf02999fc02d"
      },
      "execution_count": null,
      "outputs": [
        {
          "output_type": "stream",
          "name": "stdout",
          "text": [
            "Failed to Kepler-72\n",
            "Failed to Kepler-73\n",
            "Failed to Kepler-203\n",
            "Failed to Kepler-204\n",
            "Failed to Kepler-205\n",
            "Failed to Kepler-317\n",
            "Failed to Kepler-611\n",
            "Failed to Kepler-612\n",
            "Failed to Kepler-613\n",
            "Failed to Kepler-941\n",
            "Failed to Kepler-942\n",
            "Failed to Kepler-943\n",
            "Failed to Kepler-944\n",
            "Failed to Kepler-945\n"
          ]
        }
      ]
    },
    {
      "cell_type": "code",
      "source": [
        "df_final = df_labeled\n",
        "\n",
        "df_final['lc_flux'] = data_flux\n",
        "\n",
        "df_final.tail()"
      ],
      "metadata": {
        "colab": {
          "base_uri": "https://localhost:8080/",
          "height": 206
        },
        "id": "7z-bXXYrN5Zz",
        "outputId": "390abb94-479e-49de-e96d-214df4e9d09b"
      },
      "execution_count": null,
      "outputs": [
        {
          "output_type": "execute_result",
          "data": {
            "text/plain": [
              "    sky_position     max_power    period_at_max_power  \\\n",
              "980   Kepler-995  65057.308271     18.3981398139814 d   \n",
              "981   Kepler-996     48.911612    22.62796279627963 d   \n",
              "982   Kepler-997   3093.543031    283.1611161116112 d   \n",
              "983   Kepler-998    253.822173    16.96159615961596 d   \n",
              "984   Kepler-999   1077.210705   328.45214521452147 d   \n",
              "\n",
              "     transit_time_at_max_power duration_at_max_power  has_flux  \\\n",
              "980                 140.928033                0.33 d         1   \n",
              "981                 144.567433                0.25 d         0   \n",
              "982                 284.028951                0.33 d         1   \n",
              "983                 143.011726                 0.1 d         0   \n",
              "984                 245.593376                0.33 d         1   \n",
              "\n",
              "                                               lc_flux  \n",
              "980  [0.9999604452048021, 1.0000610666857797, 0.999...  \n",
              "981  [1.0000429087866467, 0.999736766387529, 0.9998...  \n",
              "982  [0.9998879432678223, 0.9998437166213989, 0.999...  \n",
              "983  [1.0000904203054084, 1.0000009536748848, 1.000...  \n",
              "984  [0.9999930262565613, 1.0000970363616943, 0.999...  "
            ],
            "text/html": [
              "\n",
              "  <div id=\"df-63b2dc4c-04a5-4975-9225-a4ecf970a9b4\">\n",
              "    <div class=\"colab-df-container\">\n",
              "      <div>\n",
              "<style scoped>\n",
              "    .dataframe tbody tr th:only-of-type {\n",
              "        vertical-align: middle;\n",
              "    }\n",
              "\n",
              "    .dataframe tbody tr th {\n",
              "        vertical-align: top;\n",
              "    }\n",
              "\n",
              "    .dataframe thead th {\n",
              "        text-align: right;\n",
              "    }\n",
              "</style>\n",
              "<table border=\"1\" class=\"dataframe\">\n",
              "  <thead>\n",
              "    <tr style=\"text-align: right;\">\n",
              "      <th></th>\n",
              "      <th>sky_position</th>\n",
              "      <th>max_power</th>\n",
              "      <th>period_at_max_power</th>\n",
              "      <th>transit_time_at_max_power</th>\n",
              "      <th>duration_at_max_power</th>\n",
              "      <th>has_flux</th>\n",
              "      <th>lc_flux</th>\n",
              "    </tr>\n",
              "  </thead>\n",
              "  <tbody>\n",
              "    <tr>\n",
              "      <th>980</th>\n",
              "      <td>Kepler-995</td>\n",
              "      <td>65057.308271</td>\n",
              "      <td>18.3981398139814 d</td>\n",
              "      <td>140.928033</td>\n",
              "      <td>0.33 d</td>\n",
              "      <td>1</td>\n",
              "      <td>[0.9999604452048021, 1.0000610666857797, 0.999...</td>\n",
              "    </tr>\n",
              "    <tr>\n",
              "      <th>981</th>\n",
              "      <td>Kepler-996</td>\n",
              "      <td>48.911612</td>\n",
              "      <td>22.62796279627963 d</td>\n",
              "      <td>144.567433</td>\n",
              "      <td>0.25 d</td>\n",
              "      <td>0</td>\n",
              "      <td>[1.0000429087866467, 0.999736766387529, 0.9998...</td>\n",
              "    </tr>\n",
              "    <tr>\n",
              "      <th>982</th>\n",
              "      <td>Kepler-997</td>\n",
              "      <td>3093.543031</td>\n",
              "      <td>283.1611161116112 d</td>\n",
              "      <td>284.028951</td>\n",
              "      <td>0.33 d</td>\n",
              "      <td>1</td>\n",
              "      <td>[0.9998879432678223, 0.9998437166213989, 0.999...</td>\n",
              "    </tr>\n",
              "    <tr>\n",
              "      <th>983</th>\n",
              "      <td>Kepler-998</td>\n",
              "      <td>253.822173</td>\n",
              "      <td>16.96159615961596 d</td>\n",
              "      <td>143.011726</td>\n",
              "      <td>0.1 d</td>\n",
              "      <td>0</td>\n",
              "      <td>[1.0000904203054084, 1.0000009536748848, 1.000...</td>\n",
              "    </tr>\n",
              "    <tr>\n",
              "      <th>984</th>\n",
              "      <td>Kepler-999</td>\n",
              "      <td>1077.210705</td>\n",
              "      <td>328.45214521452147 d</td>\n",
              "      <td>245.593376</td>\n",
              "      <td>0.33 d</td>\n",
              "      <td>1</td>\n",
              "      <td>[0.9999930262565613, 1.0000970363616943, 0.999...</td>\n",
              "    </tr>\n",
              "  </tbody>\n",
              "</table>\n",
              "</div>\n",
              "      <button class=\"colab-df-convert\" onclick=\"convertToInteractive('df-63b2dc4c-04a5-4975-9225-a4ecf970a9b4')\"\n",
              "              title=\"Convert this dataframe to an interactive table.\"\n",
              "              style=\"display:none;\">\n",
              "        \n",
              "  <svg xmlns=\"http://www.w3.org/2000/svg\" height=\"24px\"viewBox=\"0 0 24 24\"\n",
              "       width=\"24px\">\n",
              "    <path d=\"M0 0h24v24H0V0z\" fill=\"none\"/>\n",
              "    <path d=\"M18.56 5.44l.94 2.06.94-2.06 2.06-.94-2.06-.94-.94-2.06-.94 2.06-2.06.94zm-11 1L8.5 8.5l.94-2.06 2.06-.94-2.06-.94L8.5 2.5l-.94 2.06-2.06.94zm10 10l.94 2.06.94-2.06 2.06-.94-2.06-.94-.94-2.06-.94 2.06-2.06.94z\"/><path d=\"M17.41 7.96l-1.37-1.37c-.4-.4-.92-.59-1.43-.59-.52 0-1.04.2-1.43.59L10.3 9.45l-7.72 7.72c-.78.78-.78 2.05 0 2.83L4 21.41c.39.39.9.59 1.41.59.51 0 1.02-.2 1.41-.59l7.78-7.78 2.81-2.81c.8-.78.8-2.07 0-2.86zM5.41 20L4 18.59l7.72-7.72 1.47 1.35L5.41 20z\"/>\n",
              "  </svg>\n",
              "      </button>\n",
              "      \n",
              "  <style>\n",
              "    .colab-df-container {\n",
              "      display:flex;\n",
              "      flex-wrap:wrap;\n",
              "      gap: 12px;\n",
              "    }\n",
              "\n",
              "    .colab-df-convert {\n",
              "      background-color: #E8F0FE;\n",
              "      border: none;\n",
              "      border-radius: 50%;\n",
              "      cursor: pointer;\n",
              "      display: none;\n",
              "      fill: #1967D2;\n",
              "      height: 32px;\n",
              "      padding: 0 0 0 0;\n",
              "      width: 32px;\n",
              "    }\n",
              "\n",
              "    .colab-df-convert:hover {\n",
              "      background-color: #E2EBFA;\n",
              "      box-shadow: 0px 1px 2px rgba(60, 64, 67, 0.3), 0px 1px 3px 1px rgba(60, 64, 67, 0.15);\n",
              "      fill: #174EA6;\n",
              "    }\n",
              "\n",
              "    [theme=dark] .colab-df-convert {\n",
              "      background-color: #3B4455;\n",
              "      fill: #D2E3FC;\n",
              "    }\n",
              "\n",
              "    [theme=dark] .colab-df-convert:hover {\n",
              "      background-color: #434B5C;\n",
              "      box-shadow: 0px 1px 3px 1px rgba(0, 0, 0, 0.15);\n",
              "      filter: drop-shadow(0px 1px 2px rgba(0, 0, 0, 0.3));\n",
              "      fill: #FFFFFF;\n",
              "    }\n",
              "  </style>\n",
              "\n",
              "      <script>\n",
              "        const buttonEl =\n",
              "          document.querySelector('#df-63b2dc4c-04a5-4975-9225-a4ecf970a9b4 button.colab-df-convert');\n",
              "        buttonEl.style.display =\n",
              "          google.colab.kernel.accessAllowed ? 'block' : 'none';\n",
              "\n",
              "        async function convertToInteractive(key) {\n",
              "          const element = document.querySelector('#df-63b2dc4c-04a5-4975-9225-a4ecf970a9b4');\n",
              "          const dataTable =\n",
              "            await google.colab.kernel.invokeFunction('convertToInteractive',\n",
              "                                                     [key], {});\n",
              "          if (!dataTable) return;\n",
              "\n",
              "          const docLinkHtml = 'Like what you see? Visit the ' +\n",
              "            '<a target=\"_blank\" href=https://colab.research.google.com/notebooks/data_table.ipynb>data table notebook</a>'\n",
              "            + ' to learn more about interactive tables.';\n",
              "          element.innerHTML = '';\n",
              "          dataTable['output_type'] = 'display_data';\n",
              "          await google.colab.output.renderOutput(dataTable, element);\n",
              "          const docLink = document.createElement('div');\n",
              "          docLink.innerHTML = docLinkHtml;\n",
              "          element.appendChild(docLink);\n",
              "        }\n",
              "      </script>\n",
              "    </div>\n",
              "  </div>\n",
              "  "
            ]
          },
          "metadata": {},
          "execution_count": 70
        }
      ]
    },
    {
      "cell_type": "code",
      "source": [
        "print(len(df_final.iloc[-1]['lc_flux']))\n",
        "df_final.lc_flux.dtype"
      ],
      "metadata": {
        "colab": {
          "base_uri": "https://localhost:8080/"
        },
        "id": "BbVclkcoVUAh",
        "outputId": "ac2ed104-bbfd-4614-c0be-61a601aecb21"
      },
      "execution_count": null,
      "outputs": [
        {
          "output_type": "stream",
          "name": "stdout",
          "text": [
            "65205\n"
          ]
        },
        {
          "output_type": "execute_result",
          "data": {
            "text/plain": [
              "dtype('O')"
            ]
          },
          "metadata": {},
          "execution_count": 71
        }
      ]
    },
    {
      "cell_type": "markdown",
      "source": [
        "## salvando a base de dados com a coluna usada para o treinamento"
      ],
      "metadata": {
        "id": "oqcrlEO9O-6x"
      }
    },
    {
      "cell_type": "code",
      "source": [
        "from operator import index\n",
        "# como o arquivo é grande, iremos salvar no formato hdf5\n",
        "# para mais informações acessar link: https://en.moonbooks.org/Articles/How-to-save-a-large-dataset-in-a-hdf5-file-using-python--Quick-Guide/\n",
        "# import h5py\n",
        "\n",
        "# with h5py.File('/content/gdrive/MyDrive/logArthur/df_final.h5', 'w') as hf:\n",
        "#     hf.create_dataset('df_final', data=df_final,shape=(985,7))\n",
        "\n",
        "df_labeled.to_pickle(\"/content/gdrive/MyDrive/logArthur/df_final.pkl\")"
      ],
      "metadata": {
        "id": "zwGlwTAWPDh7"
      },
      "execution_count": null,
      "outputs": []
    },
    {
      "cell_type": "markdown",
      "source": [
        "## lendo o df final"
      ],
      "metadata": {
        "id": "ezv-6Wm7PMBk"
      }
    },
    {
      "cell_type": "code",
      "source": [
        "df_final = pd.read_pickle(\"/content/gdrive/MyDrive/logArthur/df_final.pkl\")\n",
        "df_final.tail()"
      ],
      "metadata": {
        "colab": {
          "base_uri": "https://localhost:8080/",
          "height": 206
        },
        "id": "V23envEUPOC8",
        "outputId": "870d1deb-a39e-4d0b-f3f7-dbfa687dc913"
      },
      "execution_count": 6,
      "outputs": [
        {
          "output_type": "execute_result",
          "data": {
            "text/plain": [
              "    sky_position     max_power    period_at_max_power  \\\n",
              "980   Kepler-995  65057.308271     18.3981398139814 d   \n",
              "981   Kepler-996     48.911612    22.62796279627963 d   \n",
              "982   Kepler-997   3093.543031    283.1611161116112 d   \n",
              "983   Kepler-998    253.822173    16.96159615961596 d   \n",
              "984   Kepler-999   1077.210705   328.45214521452147 d   \n",
              "\n",
              "     transit_time_at_max_power duration_at_max_power  has_flux  \\\n",
              "980                 140.928033                0.33 d         1   \n",
              "981                 144.567433                0.25 d         0   \n",
              "982                 284.028951                0.33 d         1   \n",
              "983                 143.011726                 0.1 d         0   \n",
              "984                 245.593376                0.33 d         1   \n",
              "\n",
              "                                               lc_flux  \n",
              "980  [0.9999604452048021, 1.0000610666857797, 0.999...  \n",
              "981  [1.0000429087866467, 0.999736766387529, 0.9998...  \n",
              "982  [0.9998879432678223, 0.9998437166213989, 0.999...  \n",
              "983  [1.0000904203054084, 1.0000009536748848, 1.000...  \n",
              "984  [0.9999930262565613, 1.0000970363616943, 0.999...  "
            ],
            "text/html": [
              "\n",
              "  <div id=\"df-416aa807-1917-42a1-92fc-d9aa67217fe2\">\n",
              "    <div class=\"colab-df-container\">\n",
              "      <div>\n",
              "<style scoped>\n",
              "    .dataframe tbody tr th:only-of-type {\n",
              "        vertical-align: middle;\n",
              "    }\n",
              "\n",
              "    .dataframe tbody tr th {\n",
              "        vertical-align: top;\n",
              "    }\n",
              "\n",
              "    .dataframe thead th {\n",
              "        text-align: right;\n",
              "    }\n",
              "</style>\n",
              "<table border=\"1\" class=\"dataframe\">\n",
              "  <thead>\n",
              "    <tr style=\"text-align: right;\">\n",
              "      <th></th>\n",
              "      <th>sky_position</th>\n",
              "      <th>max_power</th>\n",
              "      <th>period_at_max_power</th>\n",
              "      <th>transit_time_at_max_power</th>\n",
              "      <th>duration_at_max_power</th>\n",
              "      <th>has_flux</th>\n",
              "      <th>lc_flux</th>\n",
              "    </tr>\n",
              "  </thead>\n",
              "  <tbody>\n",
              "    <tr>\n",
              "      <th>980</th>\n",
              "      <td>Kepler-995</td>\n",
              "      <td>65057.308271</td>\n",
              "      <td>18.3981398139814 d</td>\n",
              "      <td>140.928033</td>\n",
              "      <td>0.33 d</td>\n",
              "      <td>1</td>\n",
              "      <td>[0.9999604452048021, 1.0000610666857797, 0.999...</td>\n",
              "    </tr>\n",
              "    <tr>\n",
              "      <th>981</th>\n",
              "      <td>Kepler-996</td>\n",
              "      <td>48.911612</td>\n",
              "      <td>22.62796279627963 d</td>\n",
              "      <td>144.567433</td>\n",
              "      <td>0.25 d</td>\n",
              "      <td>0</td>\n",
              "      <td>[1.0000429087866467, 0.999736766387529, 0.9998...</td>\n",
              "    </tr>\n",
              "    <tr>\n",
              "      <th>982</th>\n",
              "      <td>Kepler-997</td>\n",
              "      <td>3093.543031</td>\n",
              "      <td>283.1611161116112 d</td>\n",
              "      <td>284.028951</td>\n",
              "      <td>0.33 d</td>\n",
              "      <td>1</td>\n",
              "      <td>[0.9998879432678223, 0.9998437166213989, 0.999...</td>\n",
              "    </tr>\n",
              "    <tr>\n",
              "      <th>983</th>\n",
              "      <td>Kepler-998</td>\n",
              "      <td>253.822173</td>\n",
              "      <td>16.96159615961596 d</td>\n",
              "      <td>143.011726</td>\n",
              "      <td>0.1 d</td>\n",
              "      <td>0</td>\n",
              "      <td>[1.0000904203054084, 1.0000009536748848, 1.000...</td>\n",
              "    </tr>\n",
              "    <tr>\n",
              "      <th>984</th>\n",
              "      <td>Kepler-999</td>\n",
              "      <td>1077.210705</td>\n",
              "      <td>328.45214521452147 d</td>\n",
              "      <td>245.593376</td>\n",
              "      <td>0.33 d</td>\n",
              "      <td>1</td>\n",
              "      <td>[0.9999930262565613, 1.0000970363616943, 0.999...</td>\n",
              "    </tr>\n",
              "  </tbody>\n",
              "</table>\n",
              "</div>\n",
              "      <button class=\"colab-df-convert\" onclick=\"convertToInteractive('df-416aa807-1917-42a1-92fc-d9aa67217fe2')\"\n",
              "              title=\"Convert this dataframe to an interactive table.\"\n",
              "              style=\"display:none;\">\n",
              "        \n",
              "  <svg xmlns=\"http://www.w3.org/2000/svg\" height=\"24px\"viewBox=\"0 0 24 24\"\n",
              "       width=\"24px\">\n",
              "    <path d=\"M0 0h24v24H0V0z\" fill=\"none\"/>\n",
              "    <path d=\"M18.56 5.44l.94 2.06.94-2.06 2.06-.94-2.06-.94-.94-2.06-.94 2.06-2.06.94zm-11 1L8.5 8.5l.94-2.06 2.06-.94-2.06-.94L8.5 2.5l-.94 2.06-2.06.94zm10 10l.94 2.06.94-2.06 2.06-.94-2.06-.94-.94-2.06-.94 2.06-2.06.94z\"/><path d=\"M17.41 7.96l-1.37-1.37c-.4-.4-.92-.59-1.43-.59-.52 0-1.04.2-1.43.59L10.3 9.45l-7.72 7.72c-.78.78-.78 2.05 0 2.83L4 21.41c.39.39.9.59 1.41.59.51 0 1.02-.2 1.41-.59l7.78-7.78 2.81-2.81c.8-.78.8-2.07 0-2.86zM5.41 20L4 18.59l7.72-7.72 1.47 1.35L5.41 20z\"/>\n",
              "  </svg>\n",
              "      </button>\n",
              "      \n",
              "  <style>\n",
              "    .colab-df-container {\n",
              "      display:flex;\n",
              "      flex-wrap:wrap;\n",
              "      gap: 12px;\n",
              "    }\n",
              "\n",
              "    .colab-df-convert {\n",
              "      background-color: #E8F0FE;\n",
              "      border: none;\n",
              "      border-radius: 50%;\n",
              "      cursor: pointer;\n",
              "      display: none;\n",
              "      fill: #1967D2;\n",
              "      height: 32px;\n",
              "      padding: 0 0 0 0;\n",
              "      width: 32px;\n",
              "    }\n",
              "\n",
              "    .colab-df-convert:hover {\n",
              "      background-color: #E2EBFA;\n",
              "      box-shadow: 0px 1px 2px rgba(60, 64, 67, 0.3), 0px 1px 3px 1px rgba(60, 64, 67, 0.15);\n",
              "      fill: #174EA6;\n",
              "    }\n",
              "\n",
              "    [theme=dark] .colab-df-convert {\n",
              "      background-color: #3B4455;\n",
              "      fill: #D2E3FC;\n",
              "    }\n",
              "\n",
              "    [theme=dark] .colab-df-convert:hover {\n",
              "      background-color: #434B5C;\n",
              "      box-shadow: 0px 1px 3px 1px rgba(0, 0, 0, 0.15);\n",
              "      filter: drop-shadow(0px 1px 2px rgba(0, 0, 0, 0.3));\n",
              "      fill: #FFFFFF;\n",
              "    }\n",
              "  </style>\n",
              "\n",
              "      <script>\n",
              "        const buttonEl =\n",
              "          document.querySelector('#df-416aa807-1917-42a1-92fc-d9aa67217fe2 button.colab-df-convert');\n",
              "        buttonEl.style.display =\n",
              "          google.colab.kernel.accessAllowed ? 'block' : 'none';\n",
              "\n",
              "        async function convertToInteractive(key) {\n",
              "          const element = document.querySelector('#df-416aa807-1917-42a1-92fc-d9aa67217fe2');\n",
              "          const dataTable =\n",
              "            await google.colab.kernel.invokeFunction('convertToInteractive',\n",
              "                                                     [key], {});\n",
              "          if (!dataTable) return;\n",
              "\n",
              "          const docLinkHtml = 'Like what you see? Visit the ' +\n",
              "            '<a target=\"_blank\" href=https://colab.research.google.com/notebooks/data_table.ipynb>data table notebook</a>'\n",
              "            + ' to learn more about interactive tables.';\n",
              "          element.innerHTML = '';\n",
              "          dataTable['output_type'] = 'display_data';\n",
              "          await google.colab.output.renderOutput(dataTable, element);\n",
              "          const docLink = document.createElement('div');\n",
              "          docLink.innerHTML = docLinkHtml;\n",
              "          element.appendChild(docLink);\n",
              "        }\n",
              "      </script>\n",
              "    </div>\n",
              "  </div>\n",
              "  "
            ]
          },
          "metadata": {},
          "execution_count": 6
        }
      ]
    },
    {
      "cell_type": "code",
      "source": [
        "df_final.describe()"
      ],
      "metadata": {
        "colab": {
          "base_uri": "https://localhost:8080/",
          "height": 300
        },
        "id": "ic_8beWxDYiZ",
        "outputId": "6e95805d-242a-456f-888c-f2d97b4aebab"
      },
      "execution_count": 7,
      "outputs": [
        {
          "output_type": "execute_result",
          "data": {
            "text/plain": [
              "          max_power  transit_time_at_max_power    has_flux\n",
              "count  9.850000e+02                 985.000000  985.000000\n",
              "mean   1.681102e+05                 192.708075    0.450761\n",
              "std    1.618308e+06                  97.754257    0.497822\n",
              "min    2.973308e+01                 120.754127    0.000000\n",
              "25%    2.745566e+02                 137.157342    0.000000\n",
              "50%    7.866904e+02                 149.227403    0.000000\n",
              "75%    3.485844e+03                 207.342132    1.000000\n",
              "max    3.969480e+07                1488.487233    1.000000"
            ],
            "text/html": [
              "\n",
              "  <div id=\"df-6e82e859-5044-4d5b-b763-223cc12d5346\">\n",
              "    <div class=\"colab-df-container\">\n",
              "      <div>\n",
              "<style scoped>\n",
              "    .dataframe tbody tr th:only-of-type {\n",
              "        vertical-align: middle;\n",
              "    }\n",
              "\n",
              "    .dataframe tbody tr th {\n",
              "        vertical-align: top;\n",
              "    }\n",
              "\n",
              "    .dataframe thead th {\n",
              "        text-align: right;\n",
              "    }\n",
              "</style>\n",
              "<table border=\"1\" class=\"dataframe\">\n",
              "  <thead>\n",
              "    <tr style=\"text-align: right;\">\n",
              "      <th></th>\n",
              "      <th>max_power</th>\n",
              "      <th>transit_time_at_max_power</th>\n",
              "      <th>has_flux</th>\n",
              "    </tr>\n",
              "  </thead>\n",
              "  <tbody>\n",
              "    <tr>\n",
              "      <th>count</th>\n",
              "      <td>9.850000e+02</td>\n",
              "      <td>985.000000</td>\n",
              "      <td>985.000000</td>\n",
              "    </tr>\n",
              "    <tr>\n",
              "      <th>mean</th>\n",
              "      <td>1.681102e+05</td>\n",
              "      <td>192.708075</td>\n",
              "      <td>0.450761</td>\n",
              "    </tr>\n",
              "    <tr>\n",
              "      <th>std</th>\n",
              "      <td>1.618308e+06</td>\n",
              "      <td>97.754257</td>\n",
              "      <td>0.497822</td>\n",
              "    </tr>\n",
              "    <tr>\n",
              "      <th>min</th>\n",
              "      <td>2.973308e+01</td>\n",
              "      <td>120.754127</td>\n",
              "      <td>0.000000</td>\n",
              "    </tr>\n",
              "    <tr>\n",
              "      <th>25%</th>\n",
              "      <td>2.745566e+02</td>\n",
              "      <td>137.157342</td>\n",
              "      <td>0.000000</td>\n",
              "    </tr>\n",
              "    <tr>\n",
              "      <th>50%</th>\n",
              "      <td>7.866904e+02</td>\n",
              "      <td>149.227403</td>\n",
              "      <td>0.000000</td>\n",
              "    </tr>\n",
              "    <tr>\n",
              "      <th>75%</th>\n",
              "      <td>3.485844e+03</td>\n",
              "      <td>207.342132</td>\n",
              "      <td>1.000000</td>\n",
              "    </tr>\n",
              "    <tr>\n",
              "      <th>max</th>\n",
              "      <td>3.969480e+07</td>\n",
              "      <td>1488.487233</td>\n",
              "      <td>1.000000</td>\n",
              "    </tr>\n",
              "  </tbody>\n",
              "</table>\n",
              "</div>\n",
              "      <button class=\"colab-df-convert\" onclick=\"convertToInteractive('df-6e82e859-5044-4d5b-b763-223cc12d5346')\"\n",
              "              title=\"Convert this dataframe to an interactive table.\"\n",
              "              style=\"display:none;\">\n",
              "        \n",
              "  <svg xmlns=\"http://www.w3.org/2000/svg\" height=\"24px\"viewBox=\"0 0 24 24\"\n",
              "       width=\"24px\">\n",
              "    <path d=\"M0 0h24v24H0V0z\" fill=\"none\"/>\n",
              "    <path d=\"M18.56 5.44l.94 2.06.94-2.06 2.06-.94-2.06-.94-.94-2.06-.94 2.06-2.06.94zm-11 1L8.5 8.5l.94-2.06 2.06-.94-2.06-.94L8.5 2.5l-.94 2.06-2.06.94zm10 10l.94 2.06.94-2.06 2.06-.94-2.06-.94-.94-2.06-.94 2.06-2.06.94z\"/><path d=\"M17.41 7.96l-1.37-1.37c-.4-.4-.92-.59-1.43-.59-.52 0-1.04.2-1.43.59L10.3 9.45l-7.72 7.72c-.78.78-.78 2.05 0 2.83L4 21.41c.39.39.9.59 1.41.59.51 0 1.02-.2 1.41-.59l7.78-7.78 2.81-2.81c.8-.78.8-2.07 0-2.86zM5.41 20L4 18.59l7.72-7.72 1.47 1.35L5.41 20z\"/>\n",
              "  </svg>\n",
              "      </button>\n",
              "      \n",
              "  <style>\n",
              "    .colab-df-container {\n",
              "      display:flex;\n",
              "      flex-wrap:wrap;\n",
              "      gap: 12px;\n",
              "    }\n",
              "\n",
              "    .colab-df-convert {\n",
              "      background-color: #E8F0FE;\n",
              "      border: none;\n",
              "      border-radius: 50%;\n",
              "      cursor: pointer;\n",
              "      display: none;\n",
              "      fill: #1967D2;\n",
              "      height: 32px;\n",
              "      padding: 0 0 0 0;\n",
              "      width: 32px;\n",
              "    }\n",
              "\n",
              "    .colab-df-convert:hover {\n",
              "      background-color: #E2EBFA;\n",
              "      box-shadow: 0px 1px 2px rgba(60, 64, 67, 0.3), 0px 1px 3px 1px rgba(60, 64, 67, 0.15);\n",
              "      fill: #174EA6;\n",
              "    }\n",
              "\n",
              "    [theme=dark] .colab-df-convert {\n",
              "      background-color: #3B4455;\n",
              "      fill: #D2E3FC;\n",
              "    }\n",
              "\n",
              "    [theme=dark] .colab-df-convert:hover {\n",
              "      background-color: #434B5C;\n",
              "      box-shadow: 0px 1px 3px 1px rgba(0, 0, 0, 0.15);\n",
              "      filter: drop-shadow(0px 1px 2px rgba(0, 0, 0, 0.3));\n",
              "      fill: #FFFFFF;\n",
              "    }\n",
              "  </style>\n",
              "\n",
              "      <script>\n",
              "        const buttonEl =\n",
              "          document.querySelector('#df-6e82e859-5044-4d5b-b763-223cc12d5346 button.colab-df-convert');\n",
              "        buttonEl.style.display =\n",
              "          google.colab.kernel.accessAllowed ? 'block' : 'none';\n",
              "\n",
              "        async function convertToInteractive(key) {\n",
              "          const element = document.querySelector('#df-6e82e859-5044-4d5b-b763-223cc12d5346');\n",
              "          const dataTable =\n",
              "            await google.colab.kernel.invokeFunction('convertToInteractive',\n",
              "                                                     [key], {});\n",
              "          if (!dataTable) return;\n",
              "\n",
              "          const docLinkHtml = 'Like what you see? Visit the ' +\n",
              "            '<a target=\"_blank\" href=https://colab.research.google.com/notebooks/data_table.ipynb>data table notebook</a>'\n",
              "            + ' to learn more about interactive tables.';\n",
              "          element.innerHTML = '';\n",
              "          dataTable['output_type'] = 'display_data';\n",
              "          await google.colab.output.renderOutput(dataTable, element);\n",
              "          const docLink = document.createElement('div');\n",
              "          docLink.innerHTML = docLinkHtml;\n",
              "          element.appendChild(docLink);\n",
              "        }\n",
              "      </script>\n",
              "    </div>\n",
              "  </div>\n",
              "  "
            ]
          },
          "metadata": {},
          "execution_count": 7
        }
      ]
    },
    {
      "cell_type": "code",
      "source": [
        "df_final.shape"
      ],
      "metadata": {
        "colab": {
          "base_uri": "https://localhost:8080/"
        },
        "id": "eTJy8POziKUu",
        "outputId": "fcd57029-00bc-4b8f-bad6-ab7652a4bfc9"
      },
      "execution_count": 8,
      "outputs": [
        {
          "output_type": "execute_result",
          "data": {
            "text/plain": [
              "(985, 7)"
            ]
          },
          "metadata": {},
          "execution_count": 8
        }
      ]
    },
    {
      "cell_type": "code",
      "source": [
        "print(len(df_final.iloc[-1].lc_flux))"
      ],
      "metadata": {
        "colab": {
          "base_uri": "https://localhost:8080/"
        },
        "id": "gBwFuuboe2vJ",
        "outputId": "491e6823-6ba6-4418-abb6-7b65b4dcd23b"
      },
      "execution_count": 9,
      "outputs": [
        {
          "output_type": "stream",
          "name": "stdout",
          "text": [
            "65205\n"
          ]
        }
      ]
    },
    {
      "cell_type": "code",
      "source": [
        "info = []\n",
        "for data in df_final['lc_flux']:\n",
        "    info.append(len(data))"
      ],
      "metadata": {
        "id": "CuvdwTqVSknD"
      },
      "execution_count": 35,
      "outputs": []
    },
    {
      "cell_type": "code",
      "source": [
        "faixa = np.arange(50e3,53e3,100)\n",
        "plt.hist(info, bins=faixa);"
      ],
      "metadata": {
        "colab": {
          "base_uri": "https://localhost:8080/",
          "height": 430
        },
        "id": "d78xaGRxSy3p",
        "outputId": "1b3d754d-d3a1-4ed6-ba44-ea57f6eac8f1"
      },
      "execution_count": 41,
      "outputs": [
        {
          "output_type": "display_data",
          "data": {
            "text/plain": [
              "<Figure size 640x480 with 1 Axes>"
            ],
            "image/png": "[encoded data removed]"
          },
          "metadata": {}
        }
      ]
    },
    {
      "cell_type": "markdown",
      "source": [
        "## Vamos filtrar o df para que tenha apenas fluxos com pelo menos 64k pontos, e quem tiver mais, pegar só os 64k primeiros"
      ],
      "metadata": {
        "id": "Keq9ABU2h6Qn"
      }
    },
    {
      "cell_type": "code",
      "source": [
        "conditional_array = [((len(data) > 64000) & (len(data) < 65000)) for data in df_final['lc_flux']]\n",
        "\n",
        "conditional_array.count(1)"
      ],
      "metadata": {
        "colab": {
          "base_uri": "https://localhost:8080/"
        },
        "id": "meUvEXjIh54D",
        "outputId": "7397d7ef-a470-4749-bf59-67e03d982776"
      },
      "execution_count": 13,
      "outputs": [
        {
          "output_type": "execute_result",
          "data": {
            "text/plain": [
              "548"
            ]
          },
          "metadata": {},
          "execution_count": 13
        }
      ]
    },
    {
      "cell_type": "code",
      "source": [
        "df_filtered = df_final[conditional_array]\n",
        "\n",
        "df_filtered.describe()"
      ],
      "metadata": {
        "colab": {
          "base_uri": "https://localhost:8080/",
          "height": 300
        },
        "id": "AKT2NoykkAov",
        "outputId": "0adb704b-25e9-4ff7-fc86-3ddf64f586ac"
      },
      "execution_count": 14,
      "outputs": [
        {
          "output_type": "execute_result",
          "data": {
            "text/plain": [
              "          max_power  transit_time_at_max_power    has_flux\n",
              "count  5.480000e+02                 548.000000  548.000000\n",
              "mean   4.392938e+04                 185.054270    0.452555\n",
              "std    2.674665e+05                  78.707839    0.498199\n",
              "min    2.973308e+01                 120.754127    0.000000\n",
              "25%    2.735718e+02                 138.170839    0.000000\n",
              "50%    7.635670e+02                 148.887245    0.000000\n",
              "75%    3.508068e+03                 189.943774    1.000000\n",
              "max    4.499717e+06                 509.292285    1.000000"
            ],
            "text/html": [
              "\n",
              "  <div id=\"df-c866796e-d1f4-47be-89ec-3aeba92158de\">\n",
              "    <div class=\"colab-df-container\">\n",
              "      <div>\n",
              "<style scoped>\n",
              "    .dataframe tbody tr th:only-of-type {\n",
              "        vertical-align: middle;\n",
              "    }\n",
              "\n",
              "    .dataframe tbody tr th {\n",
              "        vertical-align: top;\n",
              "    }\n",
              "\n",
              "    .dataframe thead th {\n",
              "        text-align: right;\n",
              "    }\n",
              "</style>\n",
              "<table border=\"1\" class=\"dataframe\">\n",
              "  <thead>\n",
              "    <tr style=\"text-align: right;\">\n",
              "      <th></th>\n",
              "      <th>max_power</th>\n",
              "      <th>transit_time_at_max_power</th>\n",
              "      <th>has_flux</th>\n",
              "    </tr>\n",
              "  </thead>\n",
              "  <tbody>\n",
              "    <tr>\n",
              "      <th>count</th>\n",
              "      <td>5.480000e+02</td>\n",
              "      <td>548.000000</td>\n",
              "      <td>548.000000</td>\n",
              "    </tr>\n",
              "    <tr>\n",
              "      <th>mean</th>\n",
              "      <td>4.392938e+04</td>\n",
              "      <td>185.054270</td>\n",
              "      <td>0.452555</td>\n",
              "    </tr>\n",
              "    <tr>\n",
              "      <th>std</th>\n",
              "      <td>2.674665e+05</td>\n",
              "      <td>78.707839</td>\n",
              "      <td>0.498199</td>\n",
              "    </tr>\n",
              "    <tr>\n",
              "      <th>min</th>\n",
              "      <td>2.973308e+01</td>\n",
              "      <td>120.754127</td>\n",
              "      <td>0.000000</td>\n",
              "    </tr>\n",
              "    <tr>\n",
              "      <th>25%</th>\n",
              "      <td>2.735718e+02</td>\n",
              "      <td>138.170839</td>\n",
              "      <td>0.000000</td>\n",
              "    </tr>\n",
              "    <tr>\n",
              "      <th>50%</th>\n",
              "      <td>7.635670e+02</td>\n",
              "      <td>148.887245</td>\n",
              "      <td>0.000000</td>\n",
              "    </tr>\n",
              "    <tr>\n",
              "      <th>75%</th>\n",
              "      <td>3.508068e+03</td>\n",
              "      <td>189.943774</td>\n",
              "      <td>1.000000</td>\n",
              "    </tr>\n",
              "    <tr>\n",
              "      <th>max</th>\n",
              "      <td>4.499717e+06</td>\n",
              "      <td>509.292285</td>\n",
              "      <td>1.000000</td>\n",
              "    </tr>\n",
              "  </tbody>\n",
              "</table>\n",
              "</div>\n",
              "      <button class=\"colab-df-convert\" onclick=\"convertToInteractive('df-c866796e-d1f4-47be-89ec-3aeba92158de')\"\n",
              "              title=\"Convert this dataframe to an interactive table.\"\n",
              "              style=\"display:none;\">\n",
              "        \n",
              "  <svg xmlns=\"http://www.w3.org/2000/svg\" height=\"24px\"viewBox=\"0 0 24 24\"\n",
              "       width=\"24px\">\n",
              "    <path d=\"M0 0h24v24H0V0z\" fill=\"none\"/>\n",
              "    <path d=\"M18.56 5.44l.94 2.06.94-2.06 2.06-.94-2.06-.94-.94-2.06-.94 2.06-2.06.94zm-11 1L8.5 8.5l.94-2.06 2.06-.94-2.06-.94L8.5 2.5l-.94 2.06-2.06.94zm10 10l.94 2.06.94-2.06 2.06-.94-2.06-.94-.94-2.06-.94 2.06-2.06.94z\"/><path d=\"M17.41 7.96l-1.37-1.37c-.4-.4-.92-.59-1.43-.59-.52 0-1.04.2-1.43.59L10.3 9.45l-7.72 7.72c-.78.78-.78 2.05 0 2.83L4 21.41c.39.39.9.59 1.41.59.51 0 1.02-.2 1.41-.59l7.78-7.78 2.81-2.81c.8-.78.8-2.07 0-2.86zM5.41 20L4 18.59l7.72-7.72 1.47 1.35L5.41 20z\"/>\n",
              "  </svg>\n",
              "      </button>\n",
              "      \n",
              "  <style>\n",
              "    .colab-df-container {\n",
              "      display:flex;\n",
              "      flex-wrap:wrap;\n",
              "      gap: 12px;\n",
              "    }\n",
              "\n",
              "    .colab-df-convert {\n",
              "      background-color: #E8F0FE;\n",
              "      border: none;\n",
              "      border-radius: 50%;\n",
              "      cursor: pointer;\n",
              "      display: none;\n",
              "      fill: #1967D2;\n",
              "      height: 32px;\n",
              "      padding: 0 0 0 0;\n",
              "      width: 32px;\n",
              "    }\n",
              "\n",
              "    .colab-df-convert:hover {\n",
              "      background-color: #E2EBFA;\n",
              "      box-shadow: 0px 1px 2px rgba(60, 64, 67, 0.3), 0px 1px 3px 1px rgba(60, 64, 67, 0.15);\n",
              "      fill: #174EA6;\n",
              "    }\n",
              "\n",
              "    [theme=dark] .colab-df-convert {\n",
              "      background-color: #3B4455;\n",
              "      fill: #D2E3FC;\n",
              "    }\n",
              "\n",
              "    [theme=dark] .colab-df-convert:hover {\n",
              "      background-color: #434B5C;\n",
              "      box-shadow: 0px 1px 3px 1px rgba(0, 0, 0, 0.15);\n",
              "      filter: drop-shadow(0px 1px 2px rgba(0, 0, 0, 0.3));\n",
              "      fill: #FFFFFF;\n",
              "    }\n",
              "  </style>\n",
              "\n",
              "      <script>\n",
              "        const buttonEl =\n",
              "          document.querySelector('#df-c866796e-d1f4-47be-89ec-3aeba92158de button.colab-df-convert');\n",
              "        buttonEl.style.display =\n",
              "          google.colab.kernel.accessAllowed ? 'block' : 'none';\n",
              "\n",
              "        async function convertToInteractive(key) {\n",
              "          const element = document.querySelector('#df-c866796e-d1f4-47be-89ec-3aeba92158de');\n",
              "          const dataTable =\n",
              "            await google.colab.kernel.invokeFunction('convertToInteractive',\n",
              "                                                     [key], {});\n",
              "          if (!dataTable) return;\n",
              "\n",
              "          const docLinkHtml = 'Like what you see? Visit the ' +\n",
              "            '<a target=\"_blank\" href=https://colab.research.google.com/notebooks/data_table.ipynb>data table notebook</a>'\n",
              "            + ' to learn more about interactive tables.';\n",
              "          element.innerHTML = '';\n",
              "          dataTable['output_type'] = 'display_data';\n",
              "          await google.colab.output.renderOutput(dataTable, element);\n",
              "          const docLink = document.createElement('div');\n",
              "          docLink.innerHTML = docLinkHtml;\n",
              "          element.appendChild(docLink);\n",
              "        }\n",
              "      </script>\n",
              "    </div>\n",
              "  </div>\n",
              "  "
            ]
          },
          "metadata": {},
          "execution_count": 14
        }
      ]
    },
    {
      "cell_type": "code",
      "source": [
        "df_filtered.shape"
      ],
      "metadata": {
        "colab": {
          "base_uri": "https://localhost:8080/"
        },
        "id": "YRx6DcTXntiK",
        "outputId": "c585eb7b-3ed0-468e-f09e-a96016483bd1"
      },
      "execution_count": 16,
      "outputs": [
        {
          "output_type": "execute_result",
          "data": {
            "text/plain": [
              "(548, 7)"
            ]
          },
          "metadata": {},
          "execution_count": 16
        }
      ]
    },
    {
      "cell_type": "code",
      "source": [
        "df_filtered.tail()"
      ],
      "metadata": {
        "colab": {
          "base_uri": "https://localhost:8080/",
          "height": 206
        },
        "id": "FcZDe7TJpeXq",
        "outputId": "3ce867ef-dc64-4421-8dbb-aa9a0afd75cb"
      },
      "execution_count": 17,
      "outputs": [
        {
          "output_type": "execute_result",
          "data": {
            "text/plain": [
              "    sky_position     max_power    period_at_max_power  \\\n",
              "977   Kepler-992  70047.332502    26.17941794179418 d   \n",
              "979   Kepler-994  13975.840513   347.96519651965195 d   \n",
              "980   Kepler-995  65057.308271     18.3981398139814 d   \n",
              "981   Kepler-996     48.911612    22.62796279627963 d   \n",
              "983   Kepler-998    253.822173    16.96159615961596 d   \n",
              "\n",
              "     transit_time_at_max_power duration_at_max_power  has_flux  \\\n",
              "977                 143.109335                0.33 d         1   \n",
              "979                 381.677266                0.33 d         1   \n",
              "980                 140.928033                0.33 d         1   \n",
              "981                 144.567433                0.25 d         0   \n",
              "983                 143.011726                 0.1 d         0   \n",
              "\n",
              "                                               lc_flux  \n",
              "977  [1.0008823871612549, 1.0000814199447632, 0.999...  \n",
              "979  [1.0026289861438968, 1.0031007410387198, 1.002...  \n",
              "980  [0.9999604452048021, 1.0000610666857797, 0.999...  \n",
              "981  [1.0000429087866467, 0.999736766387529, 0.9998...  \n",
              "983  [1.0000904203054084, 1.0000009536748848, 1.000...  "
            ],
            "text/html": [
              "\n",
              "  <div id=\"df-61c38e22-993a-42f6-8454-a76e88985775\">\n",
              "    <div class=\"colab-df-container\">\n",
              "      <div>\n",
              "<style scoped>\n",
              "    .dataframe tbody tr th:only-of-type {\n",
              "        vertical-align: middle;\n",
              "    }\n",
              "\n",
              "    .dataframe tbody tr th {\n",
              "        vertical-align: top;\n",
              "    }\n",
              "\n",
              "    .dataframe thead th {\n",
              "        text-align: right;\n",
              "    }\n",
              "</style>\n",
              "<table border=\"1\" class=\"dataframe\">\n",
              "  <thead>\n",
              "    <tr style=\"text-align: right;\">\n",
              "      <th></th>\n",
              "      <th>sky_position</th>\n",
              "      <th>max_power</th>\n",
              "      <th>period_at_max_power</th>\n",
              "      <th>transit_time_at_max_power</th>\n",
              "      <th>duration_at_max_power</th>\n",
              "      <th>has_flux</th>\n",
              "      <th>lc_flux</th>\n",
              "    </tr>\n",
              "  </thead>\n",
              "  <tbody>\n",
              "    <tr>\n",
              "      <th>977</th>\n",
              "      <td>Kepler-992</td>\n",
              "      <td>70047.332502</td>\n",
              "      <td>26.17941794179418 d</td>\n",
              "      <td>143.109335</td>\n",
              "      <td>0.33 d</td>\n",
              "      <td>1</td>\n",
              "      <td>[1.0008823871612549, 1.0000814199447632, 0.999...</td>\n",
              "    </tr>\n",
              "    <tr>\n",
              "      <th>979</th>\n",
              "      <td>Kepler-994</td>\n",
              "      <td>13975.840513</td>\n",
              "      <td>347.96519651965195 d</td>\n",
              "      <td>381.677266</td>\n",
              "      <td>0.33 d</td>\n",
              "      <td>1</td>\n",
              "      <td>[1.0026289861438968, 1.0031007410387198, 1.002...</td>\n",
              "    </tr>\n",
              "    <tr>\n",
              "      <th>980</th>\n",
              "      <td>Kepler-995</td>\n",
              "      <td>65057.308271</td>\n",
              "      <td>18.3981398139814 d</td>\n",
              "      <td>140.928033</td>\n",
              "      <td>0.33 d</td>\n",
              "      <td>1</td>\n",
              "      <td>[0.9999604452048021, 1.0000610666857797, 0.999...</td>\n",
              "    </tr>\n",
              "    <tr>\n",
              "      <th>981</th>\n",
              "      <td>Kepler-996</td>\n",
              "      <td>48.911612</td>\n",
              "      <td>22.62796279627963 d</td>\n",
              "      <td>144.567433</td>\n",
              "      <td>0.25 d</td>\n",
              "      <td>0</td>\n",
              "      <td>[1.0000429087866467, 0.999736766387529, 0.9998...</td>\n",
              "    </tr>\n",
              "    <tr>\n",
              "      <th>983</th>\n",
              "      <td>Kepler-998</td>\n",
              "      <td>253.822173</td>\n",
              "      <td>16.96159615961596 d</td>\n",
              "      <td>143.011726</td>\n",
              "      <td>0.1 d</td>\n",
              "      <td>0</td>\n",
              "      <td>[1.0000904203054084, 1.0000009536748848, 1.000...</td>\n",
              "    </tr>\n",
              "  </tbody>\n",
              "</table>\n",
              "</div>\n",
              "      <button class=\"colab-df-convert\" onclick=\"convertToInteractive('df-61c38e22-993a-42f6-8454-a76e88985775')\"\n",
              "              title=\"Convert this dataframe to an interactive table.\"\n",
              "              style=\"display:none;\">\n",
              "        \n",
              "  <svg xmlns=\"http://www.w3.org/2000/svg\" height=\"24px\"viewBox=\"0 0 24 24\"\n",
              "       width=\"24px\">\n",
              "    <path d=\"M0 0h24v24H0V0z\" fill=\"none\"/>\n",
              "    <path d=\"M18.56 5.44l.94 2.06.94-2.06 2.06-.94-2.06-.94-.94-2.06-.94 2.06-2.06.94zm-11 1L8.5 8.5l.94-2.06 2.06-.94-2.06-.94L8.5 2.5l-.94 2.06-2.06.94zm10 10l.94 2.06.94-2.06 2.06-.94-2.06-.94-.94-2.06-.94 2.06-2.06.94z\"/><path d=\"M17.41 7.96l-1.37-1.37c-.4-.4-.92-.59-1.43-.59-.52 0-1.04.2-1.43.59L10.3 9.45l-7.72 7.72c-.78.78-.78 2.05 0 2.83L4 21.41c.39.39.9.59 1.41.59.51 0 1.02-.2 1.41-.59l7.78-7.78 2.81-2.81c.8-.78.8-2.07 0-2.86zM5.41 20L4 18.59l7.72-7.72 1.47 1.35L5.41 20z\"/>\n",
              "  </svg>\n",
              "      </button>\n",
              "      \n",
              "  <style>\n",
              "    .colab-df-container {\n",
              "      display:flex;\n",
              "      flex-wrap:wrap;\n",
              "      gap: 12px;\n",
              "    }\n",
              "\n",
              "    .colab-df-convert {\n",
              "      background-color: #E8F0FE;\n",
              "      border: none;\n",
              "      border-radius: 50%;\n",
              "      cursor: pointer;\n",
              "      display: none;\n",
              "      fill: #1967D2;\n",
              "      height: 32px;\n",
              "      padding: 0 0 0 0;\n",
              "      width: 32px;\n",
              "    }\n",
              "\n",
              "    .colab-df-convert:hover {\n",
              "      background-color: #E2EBFA;\n",
              "      box-shadow: 0px 1px 2px rgba(60, 64, 67, 0.3), 0px 1px 3px 1px rgba(60, 64, 67, 0.15);\n",
              "      fill: #174EA6;\n",
              "    }\n",
              "\n",
              "    [theme=dark] .colab-df-convert {\n",
              "      background-color: #3B4455;\n",
              "      fill: #D2E3FC;\n",
              "    }\n",
              "\n",
              "    [theme=dark] .colab-df-convert:hover {\n",
              "      background-color: #434B5C;\n",
              "      box-shadow: 0px 1px 3px 1px rgba(0, 0, 0, 0.15);\n",
              "      filter: drop-shadow(0px 1px 2px rgba(0, 0, 0, 0.3));\n",
              "      fill: #FFFFFF;\n",
              "    }\n",
              "  </style>\n",
              "\n",
              "      <script>\n",
              "        const buttonEl =\n",
              "          document.querySelector('#df-61c38e22-993a-42f6-8454-a76e88985775 button.colab-df-convert');\n",
              "        buttonEl.style.display =\n",
              "          google.colab.kernel.accessAllowed ? 'block' : 'none';\n",
              "\n",
              "        async function convertToInteractive(key) {\n",
              "          const element = document.querySelector('#df-61c38e22-993a-42f6-8454-a76e88985775');\n",
              "          const dataTable =\n",
              "            await google.colab.kernel.invokeFunction('convertToInteractive',\n",
              "                                                     [key], {});\n",
              "          if (!dataTable) return;\n",
              "\n",
              "          const docLinkHtml = 'Like what you see? Visit the ' +\n",
              "            '<a target=\"_blank\" href=https://colab.research.google.com/notebooks/data_table.ipynb>data table notebook</a>'\n",
              "            + ' to learn more about interactive tables.';\n",
              "          element.innerHTML = '';\n",
              "          dataTable['output_type'] = 'display_data';\n",
              "          await google.colab.output.renderOutput(dataTable, element);\n",
              "          const docLink = document.createElement('div');\n",
              "          docLink.innerHTML = docLinkHtml;\n",
              "          element.appendChild(docLink);\n",
              "        }\n",
              "      </script>\n",
              "    </div>\n",
              "  </div>\n",
              "  "
            ]
          },
          "metadata": {},
          "execution_count": 17
        }
      ]
    },
    {
      "cell_type": "code",
      "source": [
        "len(df_filtered.iloc[-1].lc_flux)"
      ],
      "metadata": {
        "colab": {
          "base_uri": "https://localhost:8080/"
        },
        "id": "XIVYamHOpjDR",
        "outputId": "4c2cf2fd-ba59-42bd-ac7d-9153c22f128e"
      },
      "execution_count": 18,
      "outputs": [
        {
          "output_type": "execute_result",
          "data": {
            "text/plain": [
              "64730"
            ]
          },
          "metadata": {},
          "execution_count": 18
        }
      ]
    },
    {
      "cell_type": "markdown",
      "source": [
        "### agora que temos filtrado por pelo menos 64k, quem tiver mais que isso, vamos considerar somente os primeiros 64k valores."
      ],
      "metadata": {
        "id": "PreQYtVfkVZM"
      }
    },
    {
      "cell_type": "code",
      "source": [
        "df_filtered['lc_flux_2'] = df_filtered['lc_flux']\n",
        "df_filtered['lc_flux_2'] = [lista[:64000] for lista in df_filtered['lc_flux']]\n",
        "df_filtered['lc_flux_2'] = [np.array(lista) for lista in df_filtered['lc_flux_2']]"
      ],
      "metadata": {
        "colab": {
          "base_uri": "https://localhost:8080/"
        },
        "id": "Fgs9Np0OkU40",
        "outputId": "5fb2f0bc-80ed-4ed9-e9fc-33cb02b81ab6"
      },
      "execution_count": 19,
      "outputs": [
        {
          "output_type": "stream",
          "name": "stderr",
          "text": [
            "<ipython-input-19-5a8801457114>:1: SettingWithCopyWarning: \n",
            "A value is trying to be set on a copy of a slice from a DataFrame.\n",
            "Try using .loc[row_indexer,col_indexer] = value instead\n",
            "\n",
            "See the caveats in the documentation: https://pandas.pydata.org/pandas-docs/stable/user_guide/indexing.html#returning-a-view-versus-a-copy\n",
            "  df_filtered['lc_flux_2'] = df_filtered['lc_flux']\n",
            "<ipython-input-19-5a8801457114>:2: SettingWithCopyWarning: \n",
            "A value is trying to be set on a copy of a slice from a DataFrame.\n",
            "Try using .loc[row_indexer,col_indexer] = value instead\n",
            "\n",
            "See the caveats in the documentation: https://pandas.pydata.org/pandas-docs/stable/user_guide/indexing.html#returning-a-view-versus-a-copy\n",
            "  df_filtered['lc_flux_2'] = [lista[:64000] for lista in df_filtered['lc_flux']]\n",
            "<ipython-input-19-5a8801457114>:3: SettingWithCopyWarning: \n",
            "A value is trying to be set on a copy of a slice from a DataFrame.\n",
            "Try using .loc[row_indexer,col_indexer] = value instead\n",
            "\n",
            "See the caveats in the documentation: https://pandas.pydata.org/pandas-docs/stable/user_guide/indexing.html#returning-a-view-versus-a-copy\n",
            "  df_filtered['lc_flux_2'] = [np.array(lista) for lista in df_filtered['lc_flux_2']]\n"
          ]
        }
      ]
    },
    {
      "cell_type": "code",
      "source": [
        "type(df_filtered['lc_flux_2'])"
      ],
      "metadata": {
        "colab": {
          "base_uri": "https://localhost:8080/"
        },
        "id": "bC7VeaLpiVx5",
        "outputId": "3fcfd24a-f435-4efa-a92c-92495c1dbbdd"
      },
      "execution_count": 20,
      "outputs": [
        {
          "output_type": "execute_result",
          "data": {
            "text/plain": [
              "pandas.core.series.Series"
            ]
          },
          "metadata": {},
          "execution_count": 20
        }
      ]
    },
    {
      "cell_type": "code",
      "source": [
        "len(df_filtered.iloc[0].lc_flux_2)"
      ],
      "metadata": {
        "colab": {
          "base_uri": "https://localhost:8080/"
        },
        "id": "s_nZaLelsAb9",
        "outputId": "7db114db-a575-448f-aeec-fc84ad2d6b69"
      },
      "execution_count": 21,
      "outputs": [
        {
          "output_type": "execute_result",
          "data": {
            "text/plain": [
              "64000"
            ]
          },
          "metadata": {},
          "execution_count": 21
        }
      ]
    },
    {
      "cell_type": "code",
      "source": [
        "info = []\n",
        "for data in df_filtered['lc_flux_2']:\n",
        "    info.append(len(data))\n",
        "\n",
        "plt.plot(np.arange(0,len(info)),info)"
      ],
      "metadata": {
        "colab": {
          "base_uri": "https://localhost:8080/",
          "height": 447
        },
        "id": "L0565_mVlWEs",
        "outputId": "687f76ed-e88f-4309-9774-76fea298df66"
      },
      "execution_count": 22,
      "outputs": [
        {
          "output_type": "execute_result",
          "data": {
            "text/plain": [
              "[<matplotlib.lines.Line2D at 0x7ffa54122370>]"
            ]
          },
          "metadata": {},
          "execution_count": 22
        },
        {
          "output_type": "display_data",
          "data": {
            "text/plain": [
              "<Figure size 640x480 with 1 Axes>"
            ],
            "image/png": "[encoded data removed]"
          },
          "metadata": {}
        }
      ]
    },
    {
      "cell_type": "markdown",
      "source": [
        "# Treinando a base em si\n",
        "## usando tutorial do link: https://www.datacamp.com/tutorial/svm-classification-scikit-learn-python\n"
      ],
      "metadata": {
        "id": "4x-I57uKluiv"
      }
    },
    {
      "cell_type": "markdown",
      "source": [
        "## primeiro vamos organizar o dataset, para ter valores iguais de 0 e 1. Nessa primeira abordagem vamos treinar com 250 valores de cada tipo"
      ],
      "metadata": {
        "id": "Nvs_RZIqRI1I"
      }
    },
    {
      "cell_type": "code",
      "source": [
        "# separate the dataset into two subsets based on the values in the \"labeled\" column\n",
        "zeros = df_filtered[df_filtered['has_flux'] == 0]\n",
        "ones = df_filtered[df_filtered['has_flux'] == 1]\n",
        "\n",
        "num_zeros = len(zeros)\n",
        "num_ones = len(ones)\n",
        "\n",
        "print(num_zeros, num_ones)"
      ],
      "metadata": {
        "colab": {
          "base_uri": "https://localhost:8080/"
        },
        "id": "Md2ZKQE9RH_F",
        "outputId": "23280216-827d-415e-b7d2-92f50822adce"
      },
      "execution_count": 23,
      "outputs": [
        {
          "output_type": "stream",
          "name": "stdout",
          "text": [
            "300 248\n"
          ]
        }
      ]
    },
    {
      "cell_type": "code",
      "source": [
        "selected_zeros = zeros.sample(n=248)\n",
        "selected_ones = ones.sample(n=248)\n",
        "\n",
        "selected_data = pd.concat([selected_zeros, selected_ones])\n",
        "selected_data = selected_data.reset_index()\n",
        "# transform the column of string arrays to numpy arrays\n",
        "# selected_data['lc_flux'] = selected_data['lc_flux'].apply(lambda x: np.fromstring(x[1:-1], sep=','))\n",
        "\n",
        "selected_data.describe()"
      ],
      "metadata": {
        "colab": {
          "base_uri": "https://localhost:8080/",
          "height": 300
        },
        "id": "M7uIyraxRjKE",
        "outputId": "f4ea4c91-3d78-45b3-ef10-2be594677cda"
      },
      "execution_count": 24,
      "outputs": [
        {
          "output_type": "execute_result",
          "data": {
            "text/plain": [
              "            index     max_power  transit_time_at_max_power    has_flux\n",
              "count  496.000000  4.960000e+02                 496.000000  496.000000\n",
              "mean   506.191532  4.849651e+04                 183.917404    0.500000\n",
              "std    285.247753  2.807725e+05                  77.632825    0.500505\n",
              "min      8.000000  2.973308e+01                 120.754127    0.000000\n",
              "25%    249.750000  2.962581e+02                 138.124859    0.000000\n",
              "50%    512.000000  1.002148e+03                 148.578425    0.500000\n",
              "75%    755.250000  4.222253e+03                 189.683516    1.000000\n",
              "max    983.000000  4.499717e+06                 509.292285    1.000000"
            ],
            "text/html": [
              "\n",
              "  <div id=\"df-639de3ea-3209-4705-a27f-c63ab5e5ca8a\">\n",
              "    <div class=\"colab-df-container\">\n",
              "      <div>\n",
              "<style scoped>\n",
              "    .dataframe tbody tr th:only-of-type {\n",
              "        vertical-align: middle;\n",
              "    }\n",
              "\n",
              "    .dataframe tbody tr th {\n",
              "        vertical-align: top;\n",
              "    }\n",
              "\n",
              "    .dataframe thead th {\n",
              "        text-align: right;\n",
              "    }\n",
              "</style>\n",
              "<table border=\"1\" class=\"dataframe\">\n",
              "  <thead>\n",
              "    <tr style=\"text-align: right;\">\n",
              "      <th></th>\n",
              "      <th>index</th>\n",
              "      <th>max_power</th>\n",
              "      <th>transit_time_at_max_power</th>\n",
              "      <th>has_flux</th>\n",
              "    </tr>\n",
              "  </thead>\n",
              "  <tbody>\n",
              "    <tr>\n",
              "      <th>count</th>\n",
              "      <td>496.000000</td>\n",
              "      <td>4.960000e+02</td>\n",
              "      <td>496.000000</td>\n",
              "      <td>496.000000</td>\n",
              "    </tr>\n",
              "    <tr>\n",
              "      <th>mean</th>\n",
              "      <td>506.191532</td>\n",
              "      <td>4.849651e+04</td>\n",
              "      <td>183.917404</td>\n",
              "      <td>0.500000</td>\n",
              "    </tr>\n",
              "    <tr>\n",
              "      <th>std</th>\n",
              "      <td>285.247753</td>\n",
              "      <td>2.807725e+05</td>\n",
              "      <td>77.632825</td>\n",
              "      <td>0.500505</td>\n",
              "    </tr>\n",
              "    <tr>\n",
              "      <th>min</th>\n",
              "      <td>8.000000</td>\n",
              "      <td>2.973308e+01</td>\n",
              "      <td>120.754127</td>\n",
              "      <td>0.000000</td>\n",
              "    </tr>\n",
              "    <tr>\n",
              "      <th>25%</th>\n",
              "      <td>249.750000</td>\n",
              "      <td>2.962581e+02</td>\n",
              "      <td>138.124859</td>\n",
              "      <td>0.000000</td>\n",
              "    </tr>\n",
              "    <tr>\n",
              "      <th>50%</th>\n",
              "      <td>512.000000</td>\n",
              "      <td>1.002148e+03</td>\n",
              "      <td>148.578425</td>\n",
              "      <td>0.500000</td>\n",
              "    </tr>\n",
              "    <tr>\n",
              "      <th>75%</th>\n",
              "      <td>755.250000</td>\n",
              "      <td>4.222253e+03</td>\n",
              "      <td>189.683516</td>\n",
              "      <td>1.000000</td>\n",
              "    </tr>\n",
              "    <tr>\n",
              "      <th>max</th>\n",
              "      <td>983.000000</td>\n",
              "      <td>4.499717e+06</td>\n",
              "      <td>509.292285</td>\n",
              "      <td>1.000000</td>\n",
              "    </tr>\n",
              "  </tbody>\n",
              "</table>\n",
              "</div>\n",
              "      <button class=\"colab-df-convert\" onclick=\"convertToInteractive('df-639de3ea-3209-4705-a27f-c63ab5e5ca8a')\"\n",
              "              title=\"Convert this dataframe to an interactive table.\"\n",
              "              style=\"display:none;\">\n",
              "        \n",
              "  <svg xmlns=\"http://www.w3.org/2000/svg\" height=\"24px\"viewBox=\"0 0 24 24\"\n",
              "       width=\"24px\">\n",
              "    <path d=\"M0 0h24v24H0V0z\" fill=\"none\"/>\n",
              "    <path d=\"M18.56 5.44l.94 2.06.94-2.06 2.06-.94-2.06-.94-.94-2.06-.94 2.06-2.06.94zm-11 1L8.5 8.5l.94-2.06 2.06-.94-2.06-.94L8.5 2.5l-.94 2.06-2.06.94zm10 10l.94 2.06.94-2.06 2.06-.94-2.06-.94-.94-2.06-.94 2.06-2.06.94z\"/><path d=\"M17.41 7.96l-1.37-1.37c-.4-.4-.92-.59-1.43-.59-.52 0-1.04.2-1.43.59L10.3 9.45l-7.72 7.72c-.78.78-.78 2.05 0 2.83L4 21.41c.39.39.9.59 1.41.59.51 0 1.02-.2 1.41-.59l7.78-7.78 2.81-2.81c.8-.78.8-2.07 0-2.86zM5.41 20L4 18.59l7.72-7.72 1.47 1.35L5.41 20z\"/>\n",
              "  </svg>\n",
              "      </button>\n",
              "      \n",
              "  <style>\n",
              "    .colab-df-container {\n",
              "      display:flex;\n",
              "      flex-wrap:wrap;\n",
              "      gap: 12px;\n",
              "    }\n",
              "\n",
              "    .colab-df-convert {\n",
              "      background-color: #E8F0FE;\n",
              "      border: none;\n",
              "      border-radius: 50%;\n",
              "      cursor: pointer;\n",
              "      display: none;\n",
              "      fill: #1967D2;\n",
              "      height: 32px;\n",
              "      padding: 0 0 0 0;\n",
              "      width: 32px;\n",
              "    }\n",
              "\n",
              "    .colab-df-convert:hover {\n",
              "      background-color: #E2EBFA;\n",
              "      box-shadow: 0px 1px 2px rgba(60, 64, 67, 0.3), 0px 1px 3px 1px rgba(60, 64, 67, 0.15);\n",
              "      fill: #174EA6;\n",
              "    }\n",
              "\n",
              "    [theme=dark] .colab-df-convert {\n",
              "      background-color: #3B4455;\n",
              "      fill: #D2E3FC;\n",
              "    }\n",
              "\n",
              "    [theme=dark] .colab-df-convert:hover {\n",
              "      background-color: #434B5C;\n",
              "      box-shadow: 0px 1px 3px 1px rgba(0, 0, 0, 0.15);\n",
              "      filter: drop-shadow(0px 1px 2px rgba(0, 0, 0, 0.3));\n",
              "      fill: #FFFFFF;\n",
              "    }\n",
              "  </style>\n",
              "\n",
              "      <script>\n",
              "        const buttonEl =\n",
              "          document.querySelector('#df-639de3ea-3209-4705-a27f-c63ab5e5ca8a button.colab-df-convert');\n",
              "        buttonEl.style.display =\n",
              "          google.colab.kernel.accessAllowed ? 'block' : 'none';\n",
              "\n",
              "        async function convertToInteractive(key) {\n",
              "          const element = document.querySelector('#df-639de3ea-3209-4705-a27f-c63ab5e5ca8a');\n",
              "          const dataTable =\n",
              "            await google.colab.kernel.invokeFunction('convertToInteractive',\n",
              "                                                     [key], {});\n",
              "          if (!dataTable) return;\n",
              "\n",
              "          const docLinkHtml = 'Like what you see? Visit the ' +\n",
              "            '<a target=\"_blank\" href=https://colab.research.google.com/notebooks/data_table.ipynb>data table notebook</a>'\n",
              "            + ' to learn more about interactive tables.';\n",
              "          element.innerHTML = '';\n",
              "          dataTable['output_type'] = 'display_data';\n",
              "          await google.colab.output.renderOutput(dataTable, element);\n",
              "          const docLink = document.createElement('div');\n",
              "          docLink.innerHTML = docLinkHtml;\n",
              "          element.appendChild(docLink);\n",
              "        }\n",
              "      </script>\n",
              "    </div>\n",
              "  </div>\n",
              "  "
            ]
          },
          "metadata": {},
          "execution_count": 24
        }
      ]
    },
    {
      "cell_type": "code",
      "source": [
        "selected_data.tail()"
      ],
      "metadata": {
        "colab": {
          "base_uri": "https://localhost:8080/",
          "height": 206
        },
        "id": "BCfaJIzNFtgW",
        "outputId": "9d5dbdc7-4ea6-45f8-d553-453746b6fcd4"
      },
      "execution_count": 25,
      "outputs": [
        {
          "output_type": "execute_result",
          "data": {
            "text/plain": [
              "     index sky_position     max_power    period_at_max_power  \\\n",
              "491    134   Kepler-137   1658.113447    37.47224722472247 d   \n",
              "492    603   Kepler-610   6765.977340   268.31683168316835 d   \n",
              "493    699   Kepler-709  10653.949900   11.534653465346535 d   \n",
              "494     76    Kepler-79   1358.529295    82.20462046204621 d   \n",
              "495     63    Kepler-64   3369.707494   19.994299429942995 d   \n",
              "\n",
              "     transit_time_at_max_power duration_at_max_power  has_flux  \\\n",
              "491                 140.154709                 0.1 d         1   \n",
              "492                 271.137161                0.33 d         1   \n",
              "493                 140.937376                0.33 d         1   \n",
              "494                 133.656694                0.25 d         1   \n",
              "495                 142.912057                0.33 d         1   \n",
              "\n",
              "                                               lc_flux  \\\n",
              "491  [1.0001055001960992, 1.0002074241143646, 1.000...   \n",
              "492  [1.0045341750068486, 1.004287083608087, 1.0047...   \n",
              "493  [0.9999226138832843, 0.9995919297144613, 0.999...   \n",
              "494  [1.0009097679013192, 1.000123241190877, 1.0004...   \n",
              "495  [0.9997268740059236, 0.9996983749390892, 0.999...   \n",
              "\n",
              "                                             lc_flux_2  \n",
              "491  [1.0001055001960992, 1.0002074241143646, 1.000...  \n",
              "492  [1.0045341750068486, 1.004287083608087, 1.0047...  \n",
              "493  [0.9999226138832843, 0.9995919297144613, 0.999...  \n",
              "494  [1.0009097679013192, 1.000123241190877, 1.0004...  \n",
              "495  [0.9997268740059236, 0.9996983749390892, 0.999...  "
            ],
            "text/html": [
              "\n",
              "  <div id=\"df-5d2873ed-ebc7-420d-b24d-7d9e4b3f0a67\">\n",
              "    <div class=\"colab-df-container\">\n",
              "      <div>\n",
              "<style scoped>\n",
              "    .dataframe tbody tr th:only-of-type {\n",
              "        vertical-align: middle;\n",
              "    }\n",
              "\n",
              "    .dataframe tbody tr th {\n",
              "        vertical-align: top;\n",
              "    }\n",
              "\n",
              "    .dataframe thead th {\n",
              "        text-align: right;\n",
              "    }\n",
              "</style>\n",
              "<table border=\"1\" class=\"dataframe\">\n",
              "  <thead>\n",
              "    <tr style=\"text-align: right;\">\n",
              "      <th></th>\n",
              "      <th>index</th>\n",
              "      <th>sky_position</th>\n",
              "      <th>max_power</th>\n",
              "      <th>period_at_max_power</th>\n",
              "      <th>transit_time_at_max_power</th>\n",
              "      <th>duration_at_max_power</th>\n",
              "      <th>has_flux</th>\n",
              "      <th>lc_flux</th>\n",
              "      <th>lc_flux_2</th>\n",
              "    </tr>\n",
              "  </thead>\n",
              "  <tbody>\n",
              "    <tr>\n",
              "      <th>491</th>\n",
              "      <td>134</td>\n",
              "      <td>Kepler-137</td>\n",
              "      <td>1658.113447</td>\n",
              "      <td>37.47224722472247 d</td>\n",
              "      <td>140.154709</td>\n",
              "      <td>0.1 d</td>\n",
              "      <td>1</td>\n",
              "      <td>[1.0001055001960992, 1.0002074241143646, 1.000...</td>\n",
              "      <td>[1.0001055001960992, 1.0002074241143646, 1.000...</td>\n",
              "    </tr>\n",
              "    <tr>\n",
              "      <th>492</th>\n",
              "      <td>603</td>\n",
              "      <td>Kepler-610</td>\n",
              "      <td>6765.977340</td>\n",
              "      <td>268.31683168316835 d</td>\n",
              "      <td>271.137161</td>\n",
              "      <td>0.33 d</td>\n",
              "      <td>1</td>\n",
              "      <td>[1.0045341750068486, 1.004287083608087, 1.0047...</td>\n",
              "      <td>[1.0045341750068486, 1.004287083608087, 1.0047...</td>\n",
              "    </tr>\n",
              "    <tr>\n",
              "      <th>493</th>\n",
              "      <td>699</td>\n",
              "      <td>Kepler-709</td>\n",
              "      <td>10653.949900</td>\n",
              "      <td>11.534653465346535 d</td>\n",
              "      <td>140.937376</td>\n",
              "      <td>0.33 d</td>\n",
              "      <td>1</td>\n",
              "      <td>[0.9999226138832843, 0.9995919297144613, 0.999...</td>\n",
              "      <td>[0.9999226138832843, 0.9995919297144613, 0.999...</td>\n",
              "    </tr>\n",
              "    <tr>\n",
              "      <th>494</th>\n",
              "      <td>76</td>\n",
              "      <td>Kepler-79</td>\n",
              "      <td>1358.529295</td>\n",
              "      <td>82.20462046204621 d</td>\n",
              "      <td>133.656694</td>\n",
              "      <td>0.25 d</td>\n",
              "      <td>1</td>\n",
              "      <td>[1.0009097679013192, 1.000123241190877, 1.0004...</td>\n",
              "      <td>[1.0009097679013192, 1.000123241190877, 1.0004...</td>\n",
              "    </tr>\n",
              "    <tr>\n",
              "      <th>495</th>\n",
              "      <td>63</td>\n",
              "      <td>Kepler-64</td>\n",
              "      <td>3369.707494</td>\n",
              "      <td>19.994299429942995 d</td>\n",
              "      <td>142.912057</td>\n",
              "      <td>0.33 d</td>\n",
              "      <td>1</td>\n",
              "      <td>[0.9997268740059236, 0.9996983749390892, 0.999...</td>\n",
              "      <td>[0.9997268740059236, 0.9996983749390892, 0.999...</td>\n",
              "    </tr>\n",
              "  </tbody>\n",
              "</table>\n",
              "</div>\n",
              "      <button class=\"colab-df-convert\" onclick=\"convertToInteractive('df-5d2873ed-ebc7-420d-b24d-7d9e4b3f0a67')\"\n",
              "              title=\"Convert this dataframe to an interactive table.\"\n",
              "              style=\"display:none;\">\n",
              "        \n",
              "  <svg xmlns=\"http://www.w3.org/2000/svg\" height=\"24px\"viewBox=\"0 0 24 24\"\n",
              "       width=\"24px\">\n",
              "    <path d=\"M0 0h24v24H0V0z\" fill=\"none\"/>\n",
              "    <path d=\"M18.56 5.44l.94 2.06.94-2.06 2.06-.94-2.06-.94-.94-2.06-.94 2.06-2.06.94zm-11 1L8.5 8.5l.94-2.06 2.06-.94-2.06-.94L8.5 2.5l-.94 2.06-2.06.94zm10 10l.94 2.06.94-2.06 2.06-.94-2.06-.94-.94-2.06-.94 2.06-2.06.94z\"/><path d=\"M17.41 7.96l-1.37-1.37c-.4-.4-.92-.59-1.43-.59-.52 0-1.04.2-1.43.59L10.3 9.45l-7.72 7.72c-.78.78-.78 2.05 0 2.83L4 21.41c.39.39.9.59 1.41.59.51 0 1.02-.2 1.41-.59l7.78-7.78 2.81-2.81c.8-.78.8-2.07 0-2.86zM5.41 20L4 18.59l7.72-7.72 1.47 1.35L5.41 20z\"/>\n",
              "  </svg>\n",
              "      </button>\n",
              "      \n",
              "  <style>\n",
              "    .colab-df-container {\n",
              "      display:flex;\n",
              "      flex-wrap:wrap;\n",
              "      gap: 12px;\n",
              "    }\n",
              "\n",
              "    .colab-df-convert {\n",
              "      background-color: #E8F0FE;\n",
              "      border: none;\n",
              "      border-radius: 50%;\n",
              "      cursor: pointer;\n",
              "      display: none;\n",
              "      fill: #1967D2;\n",
              "      height: 32px;\n",
              "      padding: 0 0 0 0;\n",
              "      width: 32px;\n",
              "    }\n",
              "\n",
              "    .colab-df-convert:hover {\n",
              "      background-color: #E2EBFA;\n",
              "      box-shadow: 0px 1px 2px rgba(60, 64, 67, 0.3), 0px 1px 3px 1px rgba(60, 64, 67, 0.15);\n",
              "      fill: #174EA6;\n",
              "    }\n",
              "\n",
              "    [theme=dark] .colab-df-convert {\n",
              "      background-color: #3B4455;\n",
              "      fill: #D2E3FC;\n",
              "    }\n",
              "\n",
              "    [theme=dark] .colab-df-convert:hover {\n",
              "      background-color: #434B5C;\n",
              "      box-shadow: 0px 1px 3px 1px rgba(0, 0, 0, 0.15);\n",
              "      filter: drop-shadow(0px 1px 2px rgba(0, 0, 0, 0.3));\n",
              "      fill: #FFFFFF;\n",
              "    }\n",
              "  </style>\n",
              "\n",
              "      <script>\n",
              "        const buttonEl =\n",
              "          document.querySelector('#df-5d2873ed-ebc7-420d-b24d-7d9e4b3f0a67 button.colab-df-convert');\n",
              "        buttonEl.style.display =\n",
              "          google.colab.kernel.accessAllowed ? 'block' : 'none';\n",
              "\n",
              "        async function convertToInteractive(key) {\n",
              "          const element = document.querySelector('#df-5d2873ed-ebc7-420d-b24d-7d9e4b3f0a67');\n",
              "          const dataTable =\n",
              "            await google.colab.kernel.invokeFunction('convertToInteractive',\n",
              "                                                     [key], {});\n",
              "          if (!dataTable) return;\n",
              "\n",
              "          const docLinkHtml = 'Like what you see? Visit the ' +\n",
              "            '<a target=\"_blank\" href=https://colab.research.google.com/notebooks/data_table.ipynb>data table notebook</a>'\n",
              "            + ' to learn more about interactive tables.';\n",
              "          element.innerHTML = '';\n",
              "          dataTable['output_type'] = 'display_data';\n",
              "          await google.colab.output.renderOutput(dataTable, element);\n",
              "          const docLink = document.createElement('div');\n",
              "          docLink.innerHTML = docLinkHtml;\n",
              "          element.appendChild(docLink);\n",
              "        }\n",
              "      </script>\n",
              "    </div>\n",
              "  </div>\n",
              "  "
            ]
          },
          "metadata": {},
          "execution_count": 25
        }
      ]
    },
    {
      "cell_type": "code",
      "source": [
        "selected_data.shape"
      ],
      "metadata": {
        "colab": {
          "base_uri": "https://localhost:8080/"
        },
        "id": "I2QhOkwxe-W8",
        "outputId": "e984ed53-bd82-4d10-b02c-6333ac809e66"
      },
      "execution_count": 26,
      "outputs": [
        {
          "output_type": "execute_result",
          "data": {
            "text/plain": [
              "(496, 9)"
            ]
          },
          "metadata": {},
          "execution_count": 26
        }
      ]
    },
    {
      "cell_type": "markdown",
      "source": [
        "## agora estamos prontos para treinar a rede"
      ],
      "metadata": {
        "id": "qnLb-6gWSEDC"
      }
    },
    {
      "cell_type": "code",
      "source": [
        "# Import train_test_split function\n",
        "from sklearn.model_selection import train_test_split"
      ],
      "metadata": {
        "id": "D_Mq4BpRkGrW"
      },
      "execution_count": 27,
      "outputs": []
    },
    {
      "cell_type": "code",
      "source": [
        "my_list = []\n",
        "\n",
        "for data in selected_data.lc_flux_2:\n",
        "    my_list.append(data)\n",
        "\n",
        "my_list[0:5]"
      ],
      "metadata": {
        "colab": {
          "base_uri": "https://localhost:8080/"
        },
        "id": "UENFzwzEkwH8",
        "outputId": "ff34dfd3-130b-4cce-a9e7-47c9eda40cac"
      },
      "execution_count": 28,
      "outputs": [
        {
          "output_type": "execute_result",
          "data": {
            "text/plain": [
              "[array([0.99751689, 0.99744462, 0.99812163, ..., 0.9989601 , 0.99989009,\n",
              "        0.99905469]),\n",
              " array([0.99947937, 0.999853  , 1.00026631, ..., 1.00045812, 0.99992454,\n",
              "        0.99957454]),\n",
              " array([1.00086047, 0.99988481, 1.00012485, ..., 0.99988129, 0.99981133,\n",
              "        1.00006281]),\n",
              " array([0.99926233, 0.99931071, 0.9997636 , ..., 1.00000203, 0.99957945,\n",
              "        0.99969532]),\n",
              " array([0.99983949, 1.00009986, 0.9997693 , ..., 1.00025349, 0.9999216 ,\n",
              "        0.99964588])]"
            ]
          },
          "metadata": {},
          "execution_count": 28
        }
      ]
    },
    {
      "cell_type": "code",
      "source": [
        "# Split dataset into training set and test set\n",
        "X_train, X_test, y_train, y_test = train_test_split(list(selected_data.lc_flux_2), selected_data.has_flux, test_size=0.5, random_state=109) # 50% training and 50% test"
      ],
      "metadata": {
        "id": "aegl186tmJfw"
      },
      "execution_count": 29,
      "outputs": []
    },
    {
      "cell_type": "code",
      "source": [
        "print(f\"{len(X_train)}, {len(y_train)}\")"
      ],
      "metadata": {
        "colab": {
          "base_uri": "https://localhost:8080/"
        },
        "id": "xsZonrHpU0Vj",
        "outputId": "ed051878-b678-4f52-f86f-4b0b5b749149"
      },
      "execution_count": 30,
      "outputs": [
        {
          "output_type": "stream",
          "name": "stdout",
          "text": [
            "248, 248\n"
          ]
        }
      ]
    },
    {
      "cell_type": "code",
      "source": [
        "#Import svm model\n",
        "from sklearn import svm\n",
        "\n",
        "#Create a svm Classifier\n",
        "clf = svm.SVC(kernel='linear') # Linear Kernel\n",
        "\n",
        "#Train the model using the training sets\n",
        "clf.fit(X_train, y_train)\n",
        "\n",
        "#Predict the response for test dataset\n",
        "y_pred = clf.predict(X_test)"
      ],
      "metadata": {
        "id": "9I0xUwNfnE70"
      },
      "execution_count": 31,
      "outputs": []
    },
    {
      "cell_type": "code",
      "source": [
        "from sklearn import metrics\n",
        "\n",
        "# Model Accuracy: how often is the classifier correct?\n",
        "print(\"Accuracy:\",metrics.accuracy_score(y_test, y_pred))"
      ],
      "metadata": {
        "colab": {
          "base_uri": "https://localhost:8080/"
        },
        "id": "9DTGk4ZTk-Ys",
        "outputId": "0775d4ab-384a-415e-ef7c-1a3c2fbf9927"
      },
      "execution_count": 32,
      "outputs": [
        {
          "output_type": "stream",
          "name": "stdout",
          "text": [
            "Accuracy: 0.5120967741935484\n"
          ]
        }
      ]
    },
    {
      "cell_type": "code",
      "source": [
        "# aplicando o treino com o X_Train\n",
        "clf.fit(X_train, y_train)\n",
        "\n",
        "#Predict the response for test dataset\n",
        "y_pred = clf.predict(X_train)\n",
        "\n",
        "print(\"Accuracy:\",metrics.accuracy_score(y_test, y_pred))"
      ],
      "metadata": {
        "colab": {
          "base_uri": "https://localhost:8080/"
        },
        "id": "_x_UdUZ6WrHK",
        "outputId": "948a9500-060b-4952-e1d2-98bfd49c0171"
      },
      "execution_count": 33,
      "outputs": [
        {
          "output_type": "stream",
          "name": "stdout",
          "text": [
            "Accuracy: 0.5040322580645161\n"
          ]
        }
      ]
    }
  ]
}
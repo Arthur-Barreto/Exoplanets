{
 "cells": [
  {
   "cell_type": "markdown",
   "id": "84e75b14",
   "metadata": {},
   "source": [
    "# Testing my linear regression to apply on BLS"
   ]
  },
  {
   "cell_type": "markdown",
   "id": "1b51f774",
   "metadata": {},
   "source": [
    "## Let´s compare it with sklearn model"
   ]
  },
  {
   "cell_type": "code",
   "execution_count": 8,
   "id": "df73f84f",
   "metadata": {},
   "outputs": [],
   "source": [
    "from sklearn import linear_model\n",
    "import numpy as np"
   ]
  },
  {
   "cell_type": "markdown",
   "id": "16f6732f",
   "metadata": {},
   "source": [
    "### My function"
   ]
  },
  {
   "cell_type": "code",
   "execution_count": 11,
   "id": "246431d2",
   "metadata": {},
   "outputs": [],
   "source": [
    "def linearRegressionCoeficient(dataX,dataY):\n",
    "    mediaX = np.mean(dataX)\n",
    "    mediaY = np.mean(dataY)\n",
    "    SSxx = np.sum(np.fromiter(((mediaX-x)**2 for x in  dataX),dtype=float))\n",
    "    SSxy = np.sum(np.fromiter(((mediaX-x)*(mediaY-y) for x,y in zip(dataX,dataY)),dtype=float))\n",
    "    return SSxy/SSxx"
   ]
  },
  {
   "cell_type": "markdown",
   "id": "f1f0d9e9",
   "metadata": {},
   "source": [
    "### Testing"
   ]
  },
  {
   "cell_type": "code",
   "execution_count": 17,
   "id": "46f3c802",
   "metadata": {},
   "outputs": [
    {
     "name": "stdout",
     "output_type": "stream",
     "text": [
      "Usando skleran temos alpha = [1.46511628]\n",
      "Usando a minha função temos alpha = 1.4651162790697672\n"
     ]
    }
   ],
   "source": [
    "listaX = [3,5,7,11,13]\n",
    "listaY = [17,19,23,29,31]\n",
    "listaData = [[3],[5],[7],[11],[13]]\n",
    "\n",
    "model = linear_model.LinearRegression()\n",
    "model.fit(listaData,[17,19,23,29,31])\n",
    "print(f'Usando skleran temos alpha = {model.coef_}')\n",
    "myCoef = linearRegressionCoeficient(listaX,listaY)\n",
    "print(f'Usando a minha função temos alpha = {myCoef}')"
   ]
  }
 ],
 "metadata": {
  "kernelspec": {
   "display_name": "Python 3 (ipykernel)",
   "language": "python",
   "name": "python3"
  },
  "language_info": {
   "codemirror_mode": {
    "name": "ipython",
    "version": 3
   },
   "file_extension": ".py",
   "mimetype": "text/x-python",
   "name": "python",
   "nbconvert_exporter": "python",
   "pygments_lexer": "ipython3",
   "version": "3.8.13"
  }
 },
 "nbformat": 4,
 "nbformat_minor": 5
}

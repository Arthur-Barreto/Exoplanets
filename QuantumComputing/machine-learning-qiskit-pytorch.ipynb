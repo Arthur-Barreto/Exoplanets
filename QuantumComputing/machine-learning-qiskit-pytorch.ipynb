{
 "cells": [
  {
   "cell_type": "markdown",
   "metadata": {
    "tags": [
     "remove_cell"
    ]
   },
   "source": [
    "# Hybrid quantum-classical Neural Networks with PyTorch and Qiskit"
   ]
  },
  {
   "cell_type": "markdown",
   "metadata": {},
   "source": [
    "Machine learning (ML) has established itself as a successful interdisciplinary field which seeks to mathematically extract generalizable information from data. Throwing in quantum computing gives rise to interesting areas of research which seek to leverage the principles of quantum mechanics to augment machine learning or vice-versa. Whether you're aiming to enhance classical ML algorithms by outsourcing difficult calculations to a quantum computer or optimise quantum algorithms using classical ML architectures - both fall under the diverse umbrella of quantum machine learning (QML).\n",
    "\n",
    "We are going try aplly the algorithm to another trained model, CIFAR1O, and try to train the model to know the difference beetwhen birds and airplanes.\n"
   ]
  },
  {
   "cell_type": "markdown",
   "metadata": {},
   "source": [
    "##  Let's code! <a id='code'></a>\n",
    "\n",
    "\n",
    "### Imports <a id='imports'></a>\n",
    "First, we import some handy packages that we will need, including Qiskit and PyTorch."
   ]
  },
  {
   "cell_type": "code",
   "execution_count": 1,
   "metadata": {},
   "outputs": [],
   "source": [
    "import numpy as np\n",
    "import matplotlib.pyplot as plt\n",
    "\n",
    "import torch\n",
    "from torch.autograd import Function\n",
    "from torchvision import datasets, transforms\n",
    "import torch.optim as optim\n",
    "import torch.nn as nn\n",
    "import torch.nn.functional as F\n",
    "\n",
    "import qiskit\n",
    "from qiskit import transpile, assemble\n",
    "from qiskit.visualization import *"
   ]
  },
  {
   "cell_type": "markdown",
   "metadata": {},
   "source": [
    "### Create a \"Quantum Class\" with Qiskit <a id='q-class'></a>\n",
    "We can conveniently put our Qiskit quantum functions into a class. First, we specify how many trainable quantum parameters and how many shots we wish to use in our quantum circuit. In this example, we will keep it simple and use a 1-qubit circuit with one trainable quantum parameter $\\theta$. We hard code the circuit for simplicity and use a $RY-$rotation by the angle $\\theta$ to train the output of our circuit. The circuit looks like this:\n",
    "\n",
    "<img src=\"1qubitcirc.png\" width=\"400\"/>\n",
    "\n",
    "In order to measure the output in the $z-$basis, we calculate the $\\sigma_\\mathbf{z}$ expectation. \n",
    "$$\\sigma_\\mathbf{z} = \\sum_i z_i p(z_i)$$\n",
    "We will see later how this all ties into the hybrid neural network."
   ]
  },
  {
   "cell_type": "code",
   "execution_count": 2,
   "metadata": {},
   "outputs": [],
   "source": [
    "class QuantumCircuit:\n",
    "    \"\"\" \n",
    "    This class provides a simple interface for interaction \n",
    "    with the quantum circuit \n",
    "    \"\"\"\n",
    "    \n",
    "    def __init__(self, n_qubits, backend, shots):\n",
    "        # --- Circuit definition ---\n",
    "        self._circuit = qiskit.QuantumCircuit(n_qubits)\n",
    "        \n",
    "        all_qubits = [i for i in range(n_qubits)]\n",
    "        self.theta = qiskit.circuit.Parameter('theta')\n",
    "        \n",
    "        self._circuit.h(all_qubits)\n",
    "        self._circuit.barrier()\n",
    "        self._circuit.ry(self.theta, all_qubits)\n",
    "        \n",
    "        self._circuit.measure_all()\n",
    "        # ---------------------------\n",
    "\n",
    "        self.backend = backend\n",
    "        self.shots = shots\n",
    "    \n",
    "    def run(self, thetas):\n",
    "        t_qc = transpile(self._circuit,\n",
    "                         self.backend)\n",
    "        qobj = assemble(t_qc,\n",
    "                        shots=self.shots,\n",
    "                        parameter_binds = [{self.theta: theta} for theta in thetas])\n",
    "        job = self.backend.run(qobj)\n",
    "        result = job.result().get_counts()\n",
    "        \n",
    "        counts = np.array(list(result.values()))\n",
    "        states = np.array(list(result.keys())).astype(float)\n",
    "        \n",
    "        # Compute probabilities for each state\n",
    "        probabilities = counts / self.shots\n",
    "        # Get state expectation\n",
    "        expectation = np.sum(states * probabilities)\n",
    "        \n",
    "        return np.array([expectation])"
   ]
  },
  {
   "cell_type": "markdown",
   "metadata": {},
   "source": [
    "\n",
    "Let's test the implementation"
   ]
  },
  {
   "cell_type": "code",
   "execution_count": 3,
   "metadata": {},
   "outputs": [
    {
     "name": "stderr",
     "output_type": "stream",
     "text": [
      "<frozen importlib._bootstrap>:219: RuntimeWarning: scipy._lib.messagestream.MessageStream size changed, may indicate binary incompatibility. Expected 56 from C header, got 64 from PyObject\n"
     ]
    },
    {
     "name": "stdout",
     "output_type": "stream",
     "text": [
      "Expected value for rotation pi 0.47\n"
     ]
    },
    {
     "data": {
      "image/png": "[encoded data removed]",
      "text/plain": [
       "<Figure size 417.879x144.48 with 1 Axes>"
      ]
     },
     "execution_count": 3,
     "metadata": {},
     "output_type": "execute_result"
    }
   ],
   "source": [
    "simulator = qiskit.Aer.get_backend('aer_simulator')\n",
    "\n",
    "circuit = QuantumCircuit(1, simulator, 100)\n",
    "print('Expected value for rotation pi {}'.format(circuit.run([np.pi])[0]))\n",
    "circuit._circuit.draw()"
   ]
  },
  {
   "cell_type": "markdown",
   "metadata": {},
   "source": [
    "### Create a \"Quantum-Classical Class\" with PyTorch <a id='qc-class'></a>\n",
    "Now that our quantum circuit is defined, we can create the functions needed for backpropagation using PyTorch. [The forward and backward passes](http://www.ai.mit.edu/courses/6.034b/backprops.pdf) contain elements from our Qiskit class. The backward pass directly computes the analytical gradients using the finite difference formula we introduced above."
   ]
  },
  {
   "cell_type": "code",
   "execution_count": 4,
   "metadata": {},
   "outputs": [],
   "source": [
    "class HybridFunction(Function):\n",
    "    \"\"\" Hybrid quantum - classical function definition \"\"\"\n",
    "    \n",
    "    @staticmethod\n",
    "    def forward(ctx, input, quantum_circuit, shift):\n",
    "        \"\"\" Forward pass computation \"\"\"\n",
    "        ctx.shift = shift\n",
    "        ctx.quantum_circuit = quantum_circuit\n",
    "\n",
    "        expectation_z = ctx.quantum_circuit.run(input[0].tolist())\n",
    "        result = torch.tensor([expectation_z])\n",
    "        ctx.save_for_backward(input, result)\n",
    "\n",
    "        return result\n",
    "        \n",
    "    @staticmethod\n",
    "    def backward(ctx, grad_output):\n",
    "        \"\"\" Backward pass computation \"\"\"\n",
    "        input, expectation_z = ctx.saved_tensors\n",
    "        input_list = np.array(input.tolist())\n",
    "        \n",
    "        shift_right = input_list + np.ones(input_list.shape) * ctx.shift\n",
    "        shift_left = input_list - np.ones(input_list.shape) * ctx.shift\n",
    "        \n",
    "        gradients = []\n",
    "        for i in range(len(input_list)):\n",
    "            expectation_right = ctx.quantum_circuit.run(shift_right[i])\n",
    "            expectation_left  = ctx.quantum_circuit.run(shift_left[i])\n",
    "            \n",
    "            gradient = torch.tensor([expectation_right]) - torch.tensor([expectation_left])\n",
    "            gradients.append(gradient)\n",
    "        gradients = np.array([gradients]).T\n",
    "        return torch.tensor([gradients]).float() * grad_output.float(), None, None\n",
    "\n",
    "class Hybrid(nn.Module):\n",
    "    \"\"\" Hybrid quantum - classical layer definition \"\"\"\n",
    "    \n",
    "    def __init__(self, backend, shots, shift):\n",
    "        super(Hybrid, self).__init__()\n",
    "        self.quantum_circuit = QuantumCircuit(1, backend, shots)\n",
    "        self.shift = shift\n",
    "        \n",
    "    def forward(self, input):\n",
    "        return HybridFunction.apply(input, self.quantum_circuit, self.shift)"
   ]
  },
  {
   "cell_type": "markdown",
   "metadata": {},
   "source": [
    "### Data Loading and Preprocessing <a id='data-loading-preprocessing'></a>\n",
    "##### Putting this all together:\n",
    "We will create a simple hybrid neural network to classify images of two types of digits (0 or 1) from the [MNIST dataset](http://yann.lecun.com/exdb/mnist/). We first load MNIST and filter for pictures containing 0's and 1's. These will serve as inputs for our neural network to classify."
   ]
  },
  {
   "cell_type": "markdown",
   "metadata": {},
   "source": [
    "#### Training data"
   ]
  },
  {
   "cell_type": "code",
   "execution_count": 28,
   "metadata": {},
   "outputs": [
    {
     "name": "stdout",
     "output_type": "stream",
     "text": [
      "Files already downloaded and verified\n",
      "tensor([[[[ 59,  62,  63],\n",
      "          [ 43,  46,  45],\n",
      "          [ 50,  48,  43],\n",
      "          ...,\n",
      "          [158, 132, 108],\n",
      "          [152, 125, 102],\n",
      "          [148, 124, 103]],\n",
      "\n",
      "         [[ 16,  20,  20],\n",
      "          [  0,   0,   0],\n",
      "          [ 18,   8,   0],\n",
      "          ...,\n",
      "          [123,  88,  55],\n",
      "          [119,  83,  50],\n",
      "          [122,  87,  57]],\n",
      "\n",
      "         [[ 25,  24,  21],\n",
      "          [ 16,   7,   0],\n",
      "          [ 49,  27,   8],\n",
      "          ...,\n",
      "          [118,  84,  50],\n",
      "          [120,  84,  50],\n",
      "          [109,  73,  42]],\n",
      "\n",
      "         ...,\n",
      "\n",
      "         [[208, 170,  96],\n",
      "          [201, 153,  34],\n",
      "          [198, 161,  26],\n",
      "          ...,\n",
      "          [160, 133,  70],\n",
      "          [ 56,  31,   7],\n",
      "          [ 53,  34,  20]],\n",
      "\n",
      "         [[180, 139,  96],\n",
      "          [173, 123,  42],\n",
      "          [186, 144,  30],\n",
      "          ...,\n",
      "          [184, 148,  94],\n",
      "          [ 97,  62,  34],\n",
      "          [ 83,  53,  34]],\n",
      "\n",
      "         [[177, 144, 116],\n",
      "          [168, 129,  94],\n",
      "          [179, 142,  87],\n",
      "          ...,\n",
      "          [216, 184, 140],\n",
      "          [151, 118,  84],\n",
      "          [123,  92,  72]]],\n",
      "\n",
      "\n",
      "        [[[154, 177, 187],\n",
      "          [126, 137, 136],\n",
      "          [105, 104,  95],\n",
      "          ...,\n",
      "          [ 91,  95,  71],\n",
      "          [ 87,  90,  71],\n",
      "          [ 79,  81,  70]],\n",
      "\n",
      "         [[140, 160, 169],\n",
      "          [145, 153, 154],\n",
      "          [125, 125, 118],\n",
      "          ...,\n",
      "          [ 96,  99,  78],\n",
      "          [ 77,  80,  62],\n",
      "          [ 71,  73,  61]],\n",
      "\n",
      "         [[140, 155, 164],\n",
      "          [139, 146, 149],\n",
      "          [115, 115, 112],\n",
      "          ...,\n",
      "          [ 79,  82,  64],\n",
      "          [ 68,  70,  55],\n",
      "          [ 67,  69,  55]],\n",
      "\n",
      "         ...,\n",
      "\n",
      "         [[175, 167, 166],\n",
      "          [156, 154, 160],\n",
      "          [154, 160, 170],\n",
      "          ...,\n",
      "          [ 42,  34,  36],\n",
      "          [ 61,  53,  57],\n",
      "          [ 93,  83,  91]],\n",
      "\n",
      "         [[165, 154, 128],\n",
      "          [156, 152, 130],\n",
      "          [159, 161, 142],\n",
      "          ...,\n",
      "          [103,  93,  96],\n",
      "          [123, 114, 120],\n",
      "          [131, 121, 131]],\n",
      "\n",
      "         [[163, 148, 120],\n",
      "          [158, 148, 122],\n",
      "          [163, 156, 133],\n",
      "          ...,\n",
      "          [143, 133, 139],\n",
      "          [143, 134, 142],\n",
      "          [143, 133, 144]]],\n",
      "\n",
      "\n",
      "        [[[255, 255, 255],\n",
      "          [253, 253, 253],\n",
      "          [253, 253, 253],\n",
      "          ...,\n",
      "          [253, 253, 253],\n",
      "          [253, 253, 253],\n",
      "          [253, 253, 253]],\n",
      "\n",
      "         [[255, 255, 255],\n",
      "          [255, 255, 255],\n",
      "          [255, 255, 255],\n",
      "          ...,\n",
      "          [255, 255, 255],\n",
      "          [255, 255, 255],\n",
      "          [255, 255, 255]],\n",
      "\n",
      "         [[255, 255, 255],\n",
      "          [254, 254, 254],\n",
      "          [254, 254, 254],\n",
      "          ...,\n",
      "          [254, 254, 254],\n",
      "          [254, 254, 254],\n",
      "          [254, 254, 254]],\n",
      "\n",
      "         ...,\n",
      "\n",
      "         [[113, 120, 112],\n",
      "          [111, 118, 111],\n",
      "          [105, 112, 106],\n",
      "          ...,\n",
      "          [ 72,  81,  80],\n",
      "          [ 72,  80,  79],\n",
      "          [ 72,  80,  79]],\n",
      "\n",
      "         [[111, 118, 110],\n",
      "          [104, 111, 104],\n",
      "          [ 99, 106,  98],\n",
      "          ...,\n",
      "          [ 68,  75,  73],\n",
      "          [ 70,  76,  75],\n",
      "          [ 78,  84,  82]],\n",
      "\n",
      "         [[106, 113, 105],\n",
      "          [ 99, 106,  98],\n",
      "          [ 95, 102,  94],\n",
      "          ...,\n",
      "          [ 78,  85,  83],\n",
      "          [ 79,  85,  83],\n",
      "          [ 80,  86,  84]]],\n",
      "\n",
      "\n",
      "        ...,\n",
      "\n",
      "\n",
      "        [[[ 35, 178, 235],\n",
      "          [ 40, 176, 239],\n",
      "          [ 42, 176, 241],\n",
      "          ...,\n",
      "          [ 99, 177, 219],\n",
      "          [ 79, 147, 197],\n",
      "          [ 89, 148, 189]],\n",
      "\n",
      "         [[ 57, 182, 234],\n",
      "          [ 44, 184, 250],\n",
      "          [ 50, 183, 240],\n",
      "          ...,\n",
      "          [156, 182, 200],\n",
      "          [141, 177, 206],\n",
      "          [116, 149, 175]],\n",
      "\n",
      "         [[ 98, 197, 237],\n",
      "          [ 64, 189, 252],\n",
      "          [ 69, 192, 245],\n",
      "          ...,\n",
      "          [188, 195, 206],\n",
      "          [119, 135, 147],\n",
      "          [ 61,  79,  90]],\n",
      "\n",
      "         ...,\n",
      "\n",
      "         [[ 73,  79,  77],\n",
      "          [ 53,  63,  68],\n",
      "          [ 54,  68,  80],\n",
      "          ...,\n",
      "          [ 17,  40,  64],\n",
      "          [ 21,  36,  51],\n",
      "          [ 33,  48,  49]],\n",
      "\n",
      "         [[ 61,  68,  75],\n",
      "          [ 55,  70,  86],\n",
      "          [ 57,  79, 103],\n",
      "          ...,\n",
      "          [ 24,  48,  72],\n",
      "          [ 17,  35,  53],\n",
      "          [  7,  23,  32]],\n",
      "\n",
      "         [[ 44,  56,  73],\n",
      "          [ 46,  66,  88],\n",
      "          [ 49,  77, 105],\n",
      "          ...,\n",
      "          [ 27,  52,  77],\n",
      "          [ 21,  43,  66],\n",
      "          [ 12,  31,  50]]],\n",
      "\n",
      "\n",
      "        [[[189, 211, 240],\n",
      "          [186, 208, 236],\n",
      "          [185, 207, 235],\n",
      "          ...,\n",
      "          [175, 195, 224],\n",
      "          [172, 194, 222],\n",
      "          [169, 194, 220]],\n",
      "\n",
      "         [[194, 210, 239],\n",
      "          [191, 207, 236],\n",
      "          [190, 206, 235],\n",
      "          ...,\n",
      "          [173, 192, 220],\n",
      "          [171, 191, 218],\n",
      "          [167, 190, 216]],\n",
      "\n",
      "         [[208, 219, 244],\n",
      "          [205, 216, 240],\n",
      "          [204, 215, 239],\n",
      "          ...,\n",
      "          [175, 191, 217],\n",
      "          [172, 190, 216],\n",
      "          [169, 191, 215]],\n",
      "\n",
      "         ...,\n",
      "\n",
      "         [[207, 199, 181],\n",
      "          [203, 195, 175],\n",
      "          [203, 196, 173],\n",
      "          ...,\n",
      "          [135, 132, 127],\n",
      "          [162, 158, 150],\n",
      "          [168, 163, 151]],\n",
      "\n",
      "         [[198, 190, 170],\n",
      "          [189, 181, 159],\n",
      "          [180, 172, 147],\n",
      "          ...,\n",
      "          [178, 171, 160],\n",
      "          [175, 169, 156],\n",
      "          [175, 169, 154]],\n",
      "\n",
      "         [[198, 189, 173],\n",
      "          [189, 181, 162],\n",
      "          [178, 170, 149],\n",
      "          ...,\n",
      "          [195, 184, 169],\n",
      "          [196, 189, 171],\n",
      "          [195, 190, 171]]],\n",
      "\n",
      "\n",
      "        [[[229, 229, 239],\n",
      "          [236, 237, 247],\n",
      "          [234, 236, 247],\n",
      "          ...,\n",
      "          [217, 219, 233],\n",
      "          [221, 223, 234],\n",
      "          [222, 223, 233]],\n",
      "\n",
      "         [[222, 221, 229],\n",
      "          [239, 239, 249],\n",
      "          [233, 234, 246],\n",
      "          ...,\n",
      "          [223, 223, 236],\n",
      "          [227, 228, 238],\n",
      "          [210, 211, 220]],\n",
      "\n",
      "         [[213, 206, 211],\n",
      "          [234, 232, 239],\n",
      "          [231, 233, 244],\n",
      "          ...,\n",
      "          [220, 220, 232],\n",
      "          [220, 219, 232],\n",
      "          [202, 203, 215]],\n",
      "\n",
      "         ...,\n",
      "\n",
      "         [[150, 143, 135],\n",
      "          [140, 135, 127],\n",
      "          [132, 127, 120],\n",
      "          ...,\n",
      "          [224, 222, 218],\n",
      "          [230, 228, 225],\n",
      "          [241, 241, 238]],\n",
      "\n",
      "         [[137, 132, 126],\n",
      "          [130, 127, 120],\n",
      "          [125, 121, 115],\n",
      "          ...,\n",
      "          [181, 180, 178],\n",
      "          [202, 201, 198],\n",
      "          [212, 211, 207]],\n",
      "\n",
      "         [[122, 119, 114],\n",
      "          [118, 116, 110],\n",
      "          [120, 116, 111],\n",
      "          ...,\n",
      "          [179, 177, 173],\n",
      "          [164, 164, 162],\n",
      "          [163, 163, 161]]]], dtype=torch.uint8)\n"
     ]
    }
   ],
   "source": [
    "# Concentrating on the first 100 samples\n",
    "n_samples = 100\n",
    "\n",
    "X_train = datasets.CIFAR10(root='./data', train=True, download=True,\n",
    "                         transform=transforms.Compose([transforms.ToTensor()]))\n",
    "\n",
    "# aux = torch.tensor(X_train.targets)\n",
    "\n",
    "# print(aux)\n",
    "\n",
    "# print(X_train.targets)\n",
    "\n",
    "# Leaving only labels 0 and 1 \n",
    "\n",
    "# idx = []\n",
    "\n",
    "# idx = np.append(np.where(X_train.targets == np.array(0)))[:n_samples].astype(int)\n",
    "\n",
    "# idx = np.append(np.where(X_train.targets == np.array(2)))[:n_samples].astype(int)\n",
    "\n",
    "aux_data = torch.tensor(X_train.data, dtype=torch.uint8)\n",
    "\n",
    "print(aux_data)\n",
    "\n",
    "aux = torch.tensor(X_train.targets, dtype=torch.uint8)\n",
    "\n",
    "idx = np.append(np.where(aux == np.array(0))[0][:n_samples].astype(int), \n",
    "                np.where(aux == np.array(2))[0][:n_samples].astype(int))\n",
    "\n",
    "# print(idx)\n",
    "# print(type(X_train.targets[0]))\n",
    "\n",
    "# print(np.array(X_train.targets[0]).astype(int))\n",
    "\n",
    "aux_data = aux_data[idx]\n",
    "aux = au[idx]\n",
    "\n",
    "train_loader = torch.utils.data.DataLoader(X_train, batch_size=1, shuffle=True)"
   ]
  },
  {
   "cell_type": "code",
   "execution_count": 23,
   "metadata": {},
   "outputs": [
    {
     "name": "stdout",
     "output_type": "stream",
     "text": [
      "tensor([5, 0, 4,  ..., 5, 6, 8])\n"
     ]
    }
   ],
   "source": [
    "X_train_m = datasets.MNIST(root='./data', train=True, download=True,\n",
    "                         transform=transforms.Compose([transforms.ToTensor()]))\n",
    "\n",
    "print(X_train_m.targets)"
   ]
  },
  {
   "cell_type": "code",
   "execution_count": 6,
   "metadata": {},
   "outputs": [
    {
     "data": {
      "image/png": "[encoded data removed]",
      "text/plain": [
       "<Figure size 720x216 with 6 Axes>"
      ]
     },
     "metadata": {},
     "output_type": "display_data"
    }
   ],
   "source": [
    "n_samples_show = 6\n",
    "\n",
    "data_iter = iter(train_loader)\n",
    "fig, axes = plt.subplots(nrows=1, ncols=n_samples_show, figsize=(10, 3))\n",
    "\n",
    "while n_samples_show > 0:\n",
    "    images, targets = data_iter.__next__()\n",
    "\n",
    "    axes[n_samples_show - 1].imshow(images[0].numpy().squeeze(), cmap='gray')\n",
    "    axes[n_samples_show - 1].set_xticks([])\n",
    "    axes[n_samples_show - 1].set_yticks([])\n",
    "    axes[n_samples_show - 1].set_title(\"Labeled: {}\".format(targets.item()))\n",
    "    \n",
    "    n_samples_show -= 1"
   ]
  },
  {
   "cell_type": "markdown",
   "metadata": {},
   "source": [
    "#### Testing data"
   ]
  },
  {
   "cell_type": "code",
   "execution_count": 7,
   "metadata": {},
   "outputs": [],
   "source": [
    "n_samples = 50\n",
    "\n",
    "X_test = datasets.MNIST(root='./data', train=False, download=True,\n",
    "                        transform=transforms.Compose([transforms.ToTensor()]))\n",
    "\n",
    "idx = np.append(np.where(X_test.targets == 0)[0][:n_samples], \n",
    "                np.where(X_test.targets == 1)[0][:n_samples])\n",
    "\n",
    "X_test.data = X_test.data[idx]\n",
    "X_test.targets = X_test.targets[idx]\n",
    "\n",
    "test_loader = torch.utils.data.DataLoader(X_test, batch_size=1, shuffle=True)"
   ]
  },
  {
   "cell_type": "markdown",
   "metadata": {},
   "source": [
    "So far, we have loaded the data and coded a class that creates our quantum circuit which contains 1 trainable parameter. This quantum parameter will be inserted into a classical neural network along with the other classical parameters to form the hybrid neural network. We also created backward and forward pass functions that allow us to do backpropagation and optimise our neural network. Lastly, we need to specify our neural network architecture such that we can begin to train our parameters using optimisation techniques provided by PyTorch. \n",
    "\n",
    "\n",
    "### Creating the Hybrid Neural Network <a id='hybrid-nn'></a>\n",
    "We can use a neat PyTorch pipeline to create a neural network architecture. The network will need to be compatible in terms of its dimensionality when we insert the quantum layer (i.e. our quantum circuit). Since our quantum  in this example contains 1 parameter, we must ensure the network condenses neurons down to size 1. We create a typical Convolutional Neural Network with two fully-connected layers at the end. The value of the last neuron of the fully-connected layer is fed as the parameter $\\theta$ into our quantum circuit. The circuit measurement then serves as the final prediction for 0 or 1 as provided by a $\\sigma_z$ measurement."
   ]
  },
  {
   "cell_type": "code",
   "execution_count": 8,
   "metadata": {},
   "outputs": [],
   "source": [
    "class Net(nn.Module):\n",
    "    def __init__(self):\n",
    "        super(Net, self).__init__()\n",
    "        self.conv1 = nn.Conv2d(1, 6, kernel_size=5)\n",
    "        self.conv2 = nn.Conv2d(6, 16, kernel_size=5)\n",
    "        self.dropout = nn.Dropout2d()\n",
    "        self.fc1 = nn.Linear(256, 64)\n",
    "        self.fc2 = nn.Linear(64, 1)\n",
    "        self.hybrid = Hybrid(qiskit.Aer.get_backend('aer_simulator'), 100, np.pi / 2)\n",
    "\n",
    "    def forward(self, x):\n",
    "        x = F.relu(self.conv1(x))\n",
    "        x = F.max_pool2d(x, 2)\n",
    "        x = F.relu(self.conv2(x))\n",
    "        x = F.max_pool2d(x, 2)\n",
    "        x = self.dropout(x)\n",
    "        x = x.view(1, -1)\n",
    "        x = F.relu(self.fc1(x))\n",
    "        x = self.fc2(x)\n",
    "        x = self.hybrid(x)\n",
    "        return torch.cat((x, 1 - x), -1)\n"
   ]
  },
  {
   "cell_type": "markdown",
   "metadata": {},
   "source": [
    "###Training the Network <a id='training'></a>\n",
    "We now have all the ingredients to train our hybrid network! We can specify any [PyTorch optimiser](https://pytorch.org/docs/stable/optim.html), [learning rate](https://en.wikipedia.org/wiki/Learning_rate) and [cost/loss function](https://en.wikipedia.org/wiki/Loss_function) in order to train over multiple epochs. In this instance, we use the [Adam optimiser](https://arxiv.org/abs/1412.6980), a learning rate of 0.001 and the [negative log-likelihood loss function](https://pytorch.org/docs/stable/_modules/torch/nn/modules/loss.html)."
   ]
  },
  {
   "cell_type": "code",
   "execution_count": 9,
   "metadata": {},
   "outputs": [
    {
     "name": "stderr",
     "output_type": "stream",
     "text": [
      "/usr/local/anaconda3/lib/python3.7/site-packages/ipykernel_launcher.py:32: FutureWarning: The input object of type 'Tensor' is an array-like implementing one of the corresponding protocols (`__array__`, `__array_interface__` or `__array_struct__`); but not a sequence (or 0-D). In the future, this object will be coerced as if it was first converted using `np.array(obj)`. To retain the old behaviour, you have to either modify the type 'Tensor', or assign to an empty array created with `np.empty(correct_shape, dtype=object)`.\n"
     ]
    },
    {
     "name": "stdout",
     "output_type": "stream",
     "text": [
      "Training [5%]\tLoss: -0.7741\n",
      "Training [10%]\tLoss: -0.9155\n",
      "Training [15%]\tLoss: -0.9489\n",
      "Training [20%]\tLoss: -0.9400\n",
      "Training [25%]\tLoss: -0.9496\n",
      "Training [30%]\tLoss: -0.9561\n",
      "Training [35%]\tLoss: -0.9627\n",
      "Training [40%]\tLoss: -0.9499\n",
      "Training [45%]\tLoss: -0.9664\n",
      "Training [50%]\tLoss: -0.9676\n",
      "Training [55%]\tLoss: -0.9761\n",
      "Training [60%]\tLoss: -0.9790\n",
      "Training [65%]\tLoss: -0.9846\n",
      "Training [70%]\tLoss: -0.9836\n",
      "Training [75%]\tLoss: -0.9857\n",
      "Training [80%]\tLoss: -0.9877\n",
      "Training [85%]\tLoss: -0.9895\n",
      "Training [90%]\tLoss: -0.9912\n",
      "Training [95%]\tLoss: -0.9936\n",
      "Training [100%]\tLoss: -0.9901\n"
     ]
    }
   ],
   "source": [
    "model = Net()\n",
    "optimizer = optim.Adam(model.parameters(), lr=0.001)\n",
    "loss_func = nn.NLLLoss()\n",
    "\n",
    "epochs = 20\n",
    "loss_list = []\n",
    "\n",
    "model.train()\n",
    "for epoch in range(epochs):\n",
    "    total_loss = []\n",
    "    for batch_idx, (data, target) in enumerate(train_loader):\n",
    "        optimizer.zero_grad()\n",
    "        # Forward pass\n",
    "        output = model(data)\n",
    "        # Calculating loss\n",
    "        loss = loss_func(output, target)\n",
    "        # Backward pass\n",
    "        loss.backward()\n",
    "        # Optimize the weights\n",
    "        optimizer.step()\n",
    "        \n",
    "        total_loss.append(loss.item())\n",
    "    loss_list.append(sum(total_loss)/len(total_loss))\n",
    "    print('Training [{:.0f}%]\\tLoss: {:.4f}'.format(\n",
    "        100. * (epoch + 1) / epochs, loss_list[-1]))"
   ]
  },
  {
   "cell_type": "markdown",
   "metadata": {},
   "source": [
    "Plot the training graph"
   ]
  },
  {
   "cell_type": "code",
   "execution_count": 10,
   "metadata": {},
   "outputs": [
    {
     "data": {
      "text/plain": [
       "Text(0, 0.5, 'Neg Log Likelihood Loss')"
      ]
     },
     "execution_count": 10,
     "metadata": {},
     "output_type": "execute_result"
    },
    {
     "data": {
      "image/svg+xml": "<?xml version=\"1.0\" encoding=\"utf-8\" standalone=\"no\"?>\n<!DOCTYPE svg PUBLIC \"-//W3C//DTD SVG 1.1//EN\"\n  \"http://www.w3.org/Graphics/SVG/1.1/DTD/svg11.dtd\">\n<!-- Created with matplotlib (https://matplotlib.org/) -->\n<svg height=\"277.314375pt\" version=\"1.1\" viewBox=\"0 0 400.523437 277.314375\" width=\"400.523437pt\" xmlns=\"http://www.w3.org/2000/svg\" xmlns:xlink=\"http://www.w3.org/1999/xlink\">\n <defs>\n  <style type=\"text/css\">\n*{stroke-linecap:butt;stroke-linejoin:round;}\n  </style>\n </defs>\n <g id=\"figure_1\">\n  <g id=\"patch_1\">\n   <path d=\"M 0 277.314375 \nL 400.523437 277.314375 \nL 400.523437 0 \nL 0 0 \nz\n\" style=\"fill:none;\"/>\n  </g>\n  <g id=\"axes_1\">\n   <g id=\"patch_2\">\n    <path d=\"M 58.523438 239.758125 \nL 393.323438 239.758125 \nL 393.323438 22.318125 \nL 58.523438 22.318125 \nz\n\" style=\"fill:#ffffff;\"/>\n   </g>\n   <g id=\"matplotlib.axis_1\">\n    <g id=\"xtick_1\">\n     <g id=\"line2d_1\">\n      <defs>\n       <path d=\"M 0 0 \nL 0 3.5 \n\" id=\"m6b0e646a2d\" style=\"stroke:#000000;stroke-width:0.8;\"/>\n      </defs>\n      <g>\n       <use style=\"stroke:#000000;stroke-width:0.8;\" x=\"73.741619\" xlink:href=\"#m6b0e646a2d\" y=\"239.758125\"/>\n      </g>\n     </g>\n     <g id=\"text_1\">\n      <!-- 0.0 -->\n      <defs>\n       <path d=\"M 31.78125 66.40625 \nQ 24.171875 66.40625 20.328125 58.90625 \nQ 16.5 51.421875 16.5 36.375 \nQ 16.5 21.390625 20.328125 13.890625 \nQ 24.171875 6.390625 31.78125 6.390625 \nQ 39.453125 6.390625 43.28125 13.890625 \nQ 47.125 21.390625 47.125 36.375 \nQ 47.125 51.421875 43.28125 58.90625 \nQ 39.453125 66.40625 31.78125 66.40625 \nz\nM 31.78125 74.21875 \nQ 44.046875 74.21875 50.515625 64.515625 \nQ 56.984375 54.828125 56.984375 36.375 \nQ 56.984375 17.96875 50.515625 8.265625 \nQ 44.046875 -1.421875 31.78125 -1.421875 \nQ 19.53125 -1.421875 13.0625 8.265625 \nQ 6.59375 17.96875 6.59375 36.375 \nQ 6.59375 54.828125 13.0625 64.515625 \nQ 19.53125 74.21875 31.78125 74.21875 \nz\n\" id=\"DejaVuSans-48\"/>\n       <path d=\"M 10.6875 12.40625 \nL 21 12.40625 \nL 21 0 \nL 10.6875 0 \nz\n\" id=\"DejaVuSans-46\"/>\n      </defs>\n      <g transform=\"translate(65.790057 254.356562)scale(0.1 -0.1)\">\n       <use xlink:href=\"#DejaVuSans-48\"/>\n       <use x=\"63.623047\" xlink:href=\"#DejaVuSans-46\"/>\n       <use x=\"95.410156\" xlink:href=\"#DejaVuSans-48\"/>\n      </g>\n     </g>\n    </g>\n    <g id=\"xtick_2\">\n     <g id=\"line2d_2\">\n      <g>\n       <use style=\"stroke:#000000;stroke-width:0.8;\" x=\"113.789466\" xlink:href=\"#m6b0e646a2d\" y=\"239.758125\"/>\n      </g>\n     </g>\n     <g id=\"text_2\">\n      <!-- 2.5 -->\n      <defs>\n       <path d=\"M 19.1875 8.296875 \nL 53.609375 8.296875 \nL 53.609375 0 \nL 7.328125 0 \nL 7.328125 8.296875 \nQ 12.9375 14.109375 22.625 23.890625 \nQ 32.328125 33.6875 34.8125 36.53125 \nQ 39.546875 41.84375 41.421875 45.53125 \nQ 43.3125 49.21875 43.3125 52.78125 \nQ 43.3125 58.59375 39.234375 62.25 \nQ 35.15625 65.921875 28.609375 65.921875 \nQ 23.96875 65.921875 18.8125 64.3125 \nQ 13.671875 62.703125 7.8125 59.421875 \nL 7.8125 69.390625 \nQ 13.765625 71.78125 18.9375 73 \nQ 24.125 74.21875 28.421875 74.21875 \nQ 39.75 74.21875 46.484375 68.546875 \nQ 53.21875 62.890625 53.21875 53.421875 \nQ 53.21875 48.921875 51.53125 44.890625 \nQ 49.859375 40.875 45.40625 35.40625 \nQ 44.1875 33.984375 37.640625 27.21875 \nQ 31.109375 20.453125 19.1875 8.296875 \nz\n\" id=\"DejaVuSans-50\"/>\n       <path d=\"M 10.796875 72.90625 \nL 49.515625 72.90625 \nL 49.515625 64.59375 \nL 19.828125 64.59375 \nL 19.828125 46.734375 \nQ 21.96875 47.46875 24.109375 47.828125 \nQ 26.265625 48.1875 28.421875 48.1875 \nQ 40.625 48.1875 47.75 41.5 \nQ 54.890625 34.8125 54.890625 23.390625 \nQ 54.890625 11.625 47.5625 5.09375 \nQ 40.234375 -1.421875 26.90625 -1.421875 \nQ 22.3125 -1.421875 17.546875 -0.640625 \nQ 12.796875 0.140625 7.71875 1.703125 \nL 7.71875 11.625 \nQ 12.109375 9.234375 16.796875 8.0625 \nQ 21.484375 6.890625 26.703125 6.890625 \nQ 35.15625 6.890625 40.078125 11.328125 \nQ 45.015625 15.765625 45.015625 23.390625 \nQ 45.015625 31 40.078125 35.4375 \nQ 35.15625 39.890625 26.703125 39.890625 \nQ 22.75 39.890625 18.8125 39.015625 \nQ 14.890625 38.140625 10.796875 36.28125 \nz\n\" id=\"DejaVuSans-53\"/>\n      </defs>\n      <g transform=\"translate(105.837904 254.356562)scale(0.1 -0.1)\">\n       <use xlink:href=\"#DejaVuSans-50\"/>\n       <use x=\"63.623047\" xlink:href=\"#DejaVuSans-46\"/>\n       <use x=\"95.410156\" xlink:href=\"#DejaVuSans-53\"/>\n      </g>\n     </g>\n    </g>\n    <g id=\"xtick_3\">\n     <g id=\"line2d_3\">\n      <g>\n       <use style=\"stroke:#000000;stroke-width:0.8;\" x=\"153.837313\" xlink:href=\"#m6b0e646a2d\" y=\"239.758125\"/>\n      </g>\n     </g>\n     <g id=\"text_3\">\n      <!-- 5.0 -->\n      <g transform=\"translate(145.885751 254.356562)scale(0.1 -0.1)\">\n       <use xlink:href=\"#DejaVuSans-53\"/>\n       <use x=\"63.623047\" xlink:href=\"#DejaVuSans-46\"/>\n       <use x=\"95.410156\" xlink:href=\"#DejaVuSans-48\"/>\n      </g>\n     </g>\n    </g>\n    <g id=\"xtick_4\">\n     <g id=\"line2d_4\">\n      <g>\n       <use style=\"stroke:#000000;stroke-width:0.8;\" x=\"193.88516\" xlink:href=\"#m6b0e646a2d\" y=\"239.758125\"/>\n      </g>\n     </g>\n     <g id=\"text_4\">\n      <!-- 7.5 -->\n      <defs>\n       <path d=\"M 8.203125 72.90625 \nL 55.078125 72.90625 \nL 55.078125 68.703125 \nL 28.609375 0 \nL 18.3125 0 \nL 43.21875 64.59375 \nL 8.203125 64.59375 \nz\n\" id=\"DejaVuSans-55\"/>\n      </defs>\n      <g transform=\"translate(185.933597 254.356562)scale(0.1 -0.1)\">\n       <use xlink:href=\"#DejaVuSans-55\"/>\n       <use x=\"63.623047\" xlink:href=\"#DejaVuSans-46\"/>\n       <use x=\"95.410156\" xlink:href=\"#DejaVuSans-53\"/>\n      </g>\n     </g>\n    </g>\n    <g id=\"xtick_5\">\n     <g id=\"line2d_5\">\n      <g>\n       <use style=\"stroke:#000000;stroke-width:0.8;\" x=\"233.933007\" xlink:href=\"#m6b0e646a2d\" y=\"239.758125\"/>\n      </g>\n     </g>\n     <g id=\"text_5\">\n      <!-- 10.0 -->\n      <defs>\n       <path d=\"M 12.40625 8.296875 \nL 28.515625 8.296875 \nL 28.515625 63.921875 \nL 10.984375 60.40625 \nL 10.984375 69.390625 \nL 28.421875 72.90625 \nL 38.28125 72.90625 \nL 38.28125 8.296875 \nL 54.390625 8.296875 \nL 54.390625 0 \nL 12.40625 0 \nz\n\" id=\"DejaVuSans-49\"/>\n      </defs>\n      <g transform=\"translate(222.800194 254.356562)scale(0.1 -0.1)\">\n       <use xlink:href=\"#DejaVuSans-49\"/>\n       <use x=\"63.623047\" xlink:href=\"#DejaVuSans-48\"/>\n       <use x=\"127.246094\" xlink:href=\"#DejaVuSans-46\"/>\n       <use x=\"159.033203\" xlink:href=\"#DejaVuSans-48\"/>\n      </g>\n     </g>\n    </g>\n    <g id=\"xtick_6\">\n     <g id=\"line2d_6\">\n      <g>\n       <use style=\"stroke:#000000;stroke-width:0.8;\" x=\"273.980854\" xlink:href=\"#m6b0e646a2d\" y=\"239.758125\"/>\n      </g>\n     </g>\n     <g id=\"text_6\">\n      <!-- 12.5 -->\n      <g transform=\"translate(262.848041 254.356562)scale(0.1 -0.1)\">\n       <use xlink:href=\"#DejaVuSans-49\"/>\n       <use x=\"63.623047\" xlink:href=\"#DejaVuSans-50\"/>\n       <use x=\"127.246094\" xlink:href=\"#DejaVuSans-46\"/>\n       <use x=\"159.033203\" xlink:href=\"#DejaVuSans-53\"/>\n      </g>\n     </g>\n    </g>\n    <g id=\"xtick_7\">\n     <g id=\"line2d_7\">\n      <g>\n       <use style=\"stroke:#000000;stroke-width:0.8;\" x=\"314.028701\" xlink:href=\"#m6b0e646a2d\" y=\"239.758125\"/>\n      </g>\n     </g>\n     <g id=\"text_7\">\n      <!-- 15.0 -->\n      <g transform=\"translate(302.895888 254.356562)scale(0.1 -0.1)\">\n       <use xlink:href=\"#DejaVuSans-49\"/>\n       <use x=\"63.623047\" xlink:href=\"#DejaVuSans-53\"/>\n       <use x=\"127.246094\" xlink:href=\"#DejaVuSans-46\"/>\n       <use x=\"159.033203\" xlink:href=\"#DejaVuSans-48\"/>\n      </g>\n     </g>\n    </g>\n    <g id=\"xtick_8\">\n     <g id=\"line2d_8\">\n      <g>\n       <use style=\"stroke:#000000;stroke-width:0.8;\" x=\"354.076548\" xlink:href=\"#m6b0e646a2d\" y=\"239.758125\"/>\n      </g>\n     </g>\n     <g id=\"text_8\">\n      <!-- 17.5 -->\n      <g transform=\"translate(342.943735 254.356562)scale(0.1 -0.1)\">\n       <use xlink:href=\"#DejaVuSans-49\"/>\n       <use x=\"63.623047\" xlink:href=\"#DejaVuSans-55\"/>\n       <use x=\"127.246094\" xlink:href=\"#DejaVuSans-46\"/>\n       <use x=\"159.033203\" xlink:href=\"#DejaVuSans-53\"/>\n      </g>\n     </g>\n    </g>\n    <g id=\"text_9\">\n     <!-- Training Iterations -->\n     <defs>\n      <path d=\"M -0.296875 72.90625 \nL 61.375 72.90625 \nL 61.375 64.59375 \nL 35.5 64.59375 \nL 35.5 0 \nL 25.59375 0 \nL 25.59375 64.59375 \nL -0.296875 64.59375 \nz\n\" id=\"DejaVuSans-84\"/>\n      <path d=\"M 41.109375 46.296875 \nQ 39.59375 47.171875 37.8125 47.578125 \nQ 36.03125 48 33.890625 48 \nQ 26.265625 48 22.1875 43.046875 \nQ 18.109375 38.09375 18.109375 28.8125 \nL 18.109375 0 \nL 9.078125 0 \nL 9.078125 54.6875 \nL 18.109375 54.6875 \nL 18.109375 46.1875 \nQ 20.953125 51.171875 25.484375 53.578125 \nQ 30.03125 56 36.53125 56 \nQ 37.453125 56 38.578125 55.875 \nQ 39.703125 55.765625 41.0625 55.515625 \nz\n\" id=\"DejaVuSans-114\"/>\n      <path d=\"M 34.28125 27.484375 \nQ 23.390625 27.484375 19.1875 25 \nQ 14.984375 22.515625 14.984375 16.5 \nQ 14.984375 11.71875 18.140625 8.90625 \nQ 21.296875 6.109375 26.703125 6.109375 \nQ 34.1875 6.109375 38.703125 11.40625 \nQ 43.21875 16.703125 43.21875 25.484375 \nL 43.21875 27.484375 \nz\nM 52.203125 31.203125 \nL 52.203125 0 \nL 43.21875 0 \nL 43.21875 8.296875 \nQ 40.140625 3.328125 35.546875 0.953125 \nQ 30.953125 -1.421875 24.3125 -1.421875 \nQ 15.921875 -1.421875 10.953125 3.296875 \nQ 6 8.015625 6 15.921875 \nQ 6 25.140625 12.171875 29.828125 \nQ 18.359375 34.515625 30.609375 34.515625 \nL 43.21875 34.515625 \nL 43.21875 35.40625 \nQ 43.21875 41.609375 39.140625 45 \nQ 35.0625 48.390625 27.6875 48.390625 \nQ 23 48.390625 18.546875 47.265625 \nQ 14.109375 46.140625 10.015625 43.890625 \nL 10.015625 52.203125 \nQ 14.9375 54.109375 19.578125 55.046875 \nQ 24.21875 56 28.609375 56 \nQ 40.484375 56 46.34375 49.84375 \nQ 52.203125 43.703125 52.203125 31.203125 \nz\n\" id=\"DejaVuSans-97\"/>\n      <path d=\"M 9.421875 54.6875 \nL 18.40625 54.6875 \nL 18.40625 0 \nL 9.421875 0 \nz\nM 9.421875 75.984375 \nL 18.40625 75.984375 \nL 18.40625 64.59375 \nL 9.421875 64.59375 \nz\n\" id=\"DejaVuSans-105\"/>\n      <path d=\"M 54.890625 33.015625 \nL 54.890625 0 \nL 45.90625 0 \nL 45.90625 32.71875 \nQ 45.90625 40.484375 42.875 44.328125 \nQ 39.84375 48.1875 33.796875 48.1875 \nQ 26.515625 48.1875 22.3125 43.546875 \nQ 18.109375 38.921875 18.109375 30.90625 \nL 18.109375 0 \nL 9.078125 0 \nL 9.078125 54.6875 \nL 18.109375 54.6875 \nL 18.109375 46.1875 \nQ 21.34375 51.125 25.703125 53.5625 \nQ 30.078125 56 35.796875 56 \nQ 45.21875 56 50.046875 50.171875 \nQ 54.890625 44.34375 54.890625 33.015625 \nz\n\" id=\"DejaVuSans-110\"/>\n      <path d=\"M 45.40625 27.984375 \nQ 45.40625 37.75 41.375 43.109375 \nQ 37.359375 48.484375 30.078125 48.484375 \nQ 22.859375 48.484375 18.828125 43.109375 \nQ 14.796875 37.75 14.796875 27.984375 \nQ 14.796875 18.265625 18.828125 12.890625 \nQ 22.859375 7.515625 30.078125 7.515625 \nQ 37.359375 7.515625 41.375 12.890625 \nQ 45.40625 18.265625 45.40625 27.984375 \nz\nM 54.390625 6.78125 \nQ 54.390625 -7.171875 48.1875 -13.984375 \nQ 42 -20.796875 29.203125 -20.796875 \nQ 24.46875 -20.796875 20.265625 -20.09375 \nQ 16.0625 -19.390625 12.109375 -17.921875 \nL 12.109375 -9.1875 \nQ 16.0625 -11.328125 19.921875 -12.34375 \nQ 23.78125 -13.375 27.78125 -13.375 \nQ 36.625 -13.375 41.015625 -8.765625 \nQ 45.40625 -4.15625 45.40625 5.171875 \nL 45.40625 9.625 \nQ 42.625 4.78125 38.28125 2.390625 \nQ 33.9375 0 27.875 0 \nQ 17.828125 0 11.671875 7.65625 \nQ 5.515625 15.328125 5.515625 27.984375 \nQ 5.515625 40.671875 11.671875 48.328125 \nQ 17.828125 56 27.875 56 \nQ 33.9375 56 38.28125 53.609375 \nQ 42.625 51.21875 45.40625 46.390625 \nL 45.40625 54.6875 \nL 54.390625 54.6875 \nz\n\" id=\"DejaVuSans-103\"/>\n      <path id=\"DejaVuSans-32\"/>\n      <path d=\"M 9.8125 72.90625 \nL 19.671875 72.90625 \nL 19.671875 0 \nL 9.8125 0 \nz\n\" id=\"DejaVuSans-73\"/>\n      <path d=\"M 18.3125 70.21875 \nL 18.3125 54.6875 \nL 36.8125 54.6875 \nL 36.8125 47.703125 \nL 18.3125 47.703125 \nL 18.3125 18.015625 \nQ 18.3125 11.328125 20.140625 9.421875 \nQ 21.96875 7.515625 27.59375 7.515625 \nL 36.8125 7.515625 \nL 36.8125 0 \nL 27.59375 0 \nQ 17.1875 0 13.234375 3.875 \nQ 9.28125 7.765625 9.28125 18.015625 \nL 9.28125 47.703125 \nL 2.6875 47.703125 \nL 2.6875 54.6875 \nL 9.28125 54.6875 \nL 9.28125 70.21875 \nz\n\" id=\"DejaVuSans-116\"/>\n      <path d=\"M 56.203125 29.59375 \nL 56.203125 25.203125 \nL 14.890625 25.203125 \nQ 15.484375 15.921875 20.484375 11.0625 \nQ 25.484375 6.203125 34.421875 6.203125 \nQ 39.59375 6.203125 44.453125 7.46875 \nQ 49.3125 8.734375 54.109375 11.28125 \nL 54.109375 2.78125 \nQ 49.265625 0.734375 44.1875 -0.34375 \nQ 39.109375 -1.421875 33.890625 -1.421875 \nQ 20.796875 -1.421875 13.15625 6.1875 \nQ 5.515625 13.8125 5.515625 26.8125 \nQ 5.515625 40.234375 12.765625 48.109375 \nQ 20.015625 56 32.328125 56 \nQ 43.359375 56 49.78125 48.890625 \nQ 56.203125 41.796875 56.203125 29.59375 \nz\nM 47.21875 32.234375 \nQ 47.125 39.59375 43.09375 43.984375 \nQ 39.0625 48.390625 32.421875 48.390625 \nQ 24.90625 48.390625 20.390625 44.140625 \nQ 15.875 39.890625 15.1875 32.171875 \nz\n\" id=\"DejaVuSans-101\"/>\n      <path d=\"M 30.609375 48.390625 \nQ 23.390625 48.390625 19.1875 42.75 \nQ 14.984375 37.109375 14.984375 27.296875 \nQ 14.984375 17.484375 19.15625 11.84375 \nQ 23.34375 6.203125 30.609375 6.203125 \nQ 37.796875 6.203125 41.984375 11.859375 \nQ 46.1875 17.53125 46.1875 27.296875 \nQ 46.1875 37.015625 41.984375 42.703125 \nQ 37.796875 48.390625 30.609375 48.390625 \nz\nM 30.609375 56 \nQ 42.328125 56 49.015625 48.375 \nQ 55.71875 40.765625 55.71875 27.296875 \nQ 55.71875 13.875 49.015625 6.21875 \nQ 42.328125 -1.421875 30.609375 -1.421875 \nQ 18.84375 -1.421875 12.171875 6.21875 \nQ 5.515625 13.875 5.515625 27.296875 \nQ 5.515625 40.765625 12.171875 48.375 \nQ 18.84375 56 30.609375 56 \nz\n\" id=\"DejaVuSans-111\"/>\n      <path d=\"M 44.28125 53.078125 \nL 44.28125 44.578125 \nQ 40.484375 46.53125 36.375 47.5 \nQ 32.28125 48.484375 27.875 48.484375 \nQ 21.1875 48.484375 17.84375 46.4375 \nQ 14.5 44.390625 14.5 40.28125 \nQ 14.5 37.15625 16.890625 35.375 \nQ 19.28125 33.59375 26.515625 31.984375 \nL 29.59375 31.296875 \nQ 39.15625 29.25 43.1875 25.515625 \nQ 47.21875 21.78125 47.21875 15.09375 \nQ 47.21875 7.46875 41.1875 3.015625 \nQ 35.15625 -1.421875 24.609375 -1.421875 \nQ 20.21875 -1.421875 15.453125 -0.5625 \nQ 10.6875 0.296875 5.421875 2 \nL 5.421875 11.28125 \nQ 10.40625 8.6875 15.234375 7.390625 \nQ 20.0625 6.109375 24.8125 6.109375 \nQ 31.15625 6.109375 34.5625 8.28125 \nQ 37.984375 10.453125 37.984375 14.40625 \nQ 37.984375 18.0625 35.515625 20.015625 \nQ 33.0625 21.96875 24.703125 23.78125 \nL 21.578125 24.515625 \nQ 13.234375 26.265625 9.515625 29.90625 \nQ 5.8125 33.546875 5.8125 39.890625 \nQ 5.8125 47.609375 11.28125 51.796875 \nQ 16.75 56 26.8125 56 \nQ 31.78125 56 36.171875 55.265625 \nQ 40.578125 54.546875 44.28125 53.078125 \nz\n\" id=\"DejaVuSans-115\"/>\n     </defs>\n     <g transform=\"translate(180.795312 268.034687)scale(0.1 -0.1)\">\n      <use xlink:href=\"#DejaVuSans-84\"/>\n      <use x=\"46.333984\" xlink:href=\"#DejaVuSans-114\"/>\n      <use x=\"87.447266\" xlink:href=\"#DejaVuSans-97\"/>\n      <use x=\"148.726562\" xlink:href=\"#DejaVuSans-105\"/>\n      <use x=\"176.509766\" xlink:href=\"#DejaVuSans-110\"/>\n      <use x=\"239.888672\" xlink:href=\"#DejaVuSans-105\"/>\n      <use x=\"267.671875\" xlink:href=\"#DejaVuSans-110\"/>\n      <use x=\"331.050781\" xlink:href=\"#DejaVuSans-103\"/>\n      <use x=\"394.527344\" xlink:href=\"#DejaVuSans-32\"/>\n      <use x=\"426.314453\" xlink:href=\"#DejaVuSans-73\"/>\n      <use x=\"455.806641\" xlink:href=\"#DejaVuSans-116\"/>\n      <use x=\"495.015625\" xlink:href=\"#DejaVuSans-101\"/>\n      <use x=\"556.539062\" xlink:href=\"#DejaVuSans-114\"/>\n      <use x=\"597.652344\" xlink:href=\"#DejaVuSans-97\"/>\n      <use x=\"658.931641\" xlink:href=\"#DejaVuSans-116\"/>\n      <use x=\"698.140625\" xlink:href=\"#DejaVuSans-105\"/>\n      <use x=\"725.923828\" xlink:href=\"#DejaVuSans-111\"/>\n      <use x=\"787.105469\" xlink:href=\"#DejaVuSans-110\"/>\n      <use x=\"850.484375\" xlink:href=\"#DejaVuSans-115\"/>\n     </g>\n    </g>\n   </g>\n   <g id=\"matplotlib.axis_2\">\n    <g id=\"ytick_1\">\n     <g id=\"line2d_9\">\n      <defs>\n       <path d=\"M 0 0 \nL -3.5 0 \n\" id=\"m9201cb8b91\" style=\"stroke:#000000;stroke-width:0.8;\"/>\n      </defs>\n      <g>\n       <use style=\"stroke:#000000;stroke-width:0.8;\" x=\"58.523438\" xlink:href=\"#m9201cb8b91\" y=\"235.638067\"/>\n      </g>\n     </g>\n     <g id=\"text_10\">\n      <!-- −1.00 -->\n      <defs>\n       <path d=\"M 10.59375 35.5 \nL 73.1875 35.5 \nL 73.1875 27.203125 \nL 10.59375 27.203125 \nz\n\" id=\"DejaVuSans-8722\"/>\n      </defs>\n      <g transform=\"translate(20.878125 239.437286)scale(0.1 -0.1)\">\n       <use xlink:href=\"#DejaVuSans-8722\"/>\n       <use x=\"83.789062\" xlink:href=\"#DejaVuSans-49\"/>\n       <use x=\"147.412109\" xlink:href=\"#DejaVuSans-46\"/>\n       <use x=\"179.199219\" xlink:href=\"#DejaVuSans-48\"/>\n       <use x=\"242.822266\" xlink:href=\"#DejaVuSans-48\"/>\n      </g>\n     </g>\n    </g>\n    <g id=\"ytick_2\">\n     <g id=\"line2d_10\">\n      <g>\n       <use style=\"stroke:#000000;stroke-width:0.8;\" x=\"58.523438\" xlink:href=\"#m9201cb8b91\" y=\"190.610111\"/>\n      </g>\n     </g>\n     <g id=\"text_11\">\n      <!-- −0.95 -->\n      <defs>\n       <path d=\"M 10.984375 1.515625 \nL 10.984375 10.5 \nQ 14.703125 8.734375 18.5 7.8125 \nQ 22.3125 6.890625 25.984375 6.890625 \nQ 35.75 6.890625 40.890625 13.453125 \nQ 46.046875 20.015625 46.78125 33.40625 \nQ 43.953125 29.203125 39.59375 26.953125 \nQ 35.25 24.703125 29.984375 24.703125 \nQ 19.046875 24.703125 12.671875 31.3125 \nQ 6.296875 37.9375 6.296875 49.421875 \nQ 6.296875 60.640625 12.9375 67.421875 \nQ 19.578125 74.21875 30.609375 74.21875 \nQ 43.265625 74.21875 49.921875 64.515625 \nQ 56.59375 54.828125 56.59375 36.375 \nQ 56.59375 19.140625 48.40625 8.859375 \nQ 40.234375 -1.421875 26.421875 -1.421875 \nQ 22.703125 -1.421875 18.890625 -0.6875 \nQ 15.09375 0.046875 10.984375 1.515625 \nz\nM 30.609375 32.421875 \nQ 37.25 32.421875 41.125 36.953125 \nQ 45.015625 41.5 45.015625 49.421875 \nQ 45.015625 57.28125 41.125 61.84375 \nQ 37.25 66.40625 30.609375 66.40625 \nQ 23.96875 66.40625 20.09375 61.84375 \nQ 16.21875 57.28125 16.21875 49.421875 \nQ 16.21875 41.5 20.09375 36.953125 \nQ 23.96875 32.421875 30.609375 32.421875 \nz\n\" id=\"DejaVuSans-57\"/>\n      </defs>\n      <g transform=\"translate(20.878125 194.40933)scale(0.1 -0.1)\">\n       <use xlink:href=\"#DejaVuSans-8722\"/>\n       <use x=\"83.789062\" xlink:href=\"#DejaVuSans-48\"/>\n       <use x=\"147.412109\" xlink:href=\"#DejaVuSans-46\"/>\n       <use x=\"179.199219\" xlink:href=\"#DejaVuSans-57\"/>\n       <use x=\"242.822266\" xlink:href=\"#DejaVuSans-53\"/>\n      </g>\n     </g>\n    </g>\n    <g id=\"ytick_3\">\n     <g id=\"line2d_11\">\n      <g>\n       <use style=\"stroke:#000000;stroke-width:0.8;\" x=\"58.523438\" xlink:href=\"#m9201cb8b91\" y=\"145.582155\"/>\n      </g>\n     </g>\n     <g id=\"text_12\">\n      <!-- −0.90 -->\n      <g transform=\"translate(20.878125 149.381374)scale(0.1 -0.1)\">\n       <use xlink:href=\"#DejaVuSans-8722\"/>\n       <use x=\"83.789062\" xlink:href=\"#DejaVuSans-48\"/>\n       <use x=\"147.412109\" xlink:href=\"#DejaVuSans-46\"/>\n       <use x=\"179.199219\" xlink:href=\"#DejaVuSans-57\"/>\n       <use x=\"242.822266\" xlink:href=\"#DejaVuSans-48\"/>\n      </g>\n     </g>\n    </g>\n    <g id=\"ytick_4\">\n     <g id=\"line2d_12\">\n      <g>\n       <use style=\"stroke:#000000;stroke-width:0.8;\" x=\"58.523438\" xlink:href=\"#m9201cb8b91\" y=\"100.554199\"/>\n      </g>\n     </g>\n     <g id=\"text_13\">\n      <!-- −0.85 -->\n      <defs>\n       <path d=\"M 31.78125 34.625 \nQ 24.75 34.625 20.71875 30.859375 \nQ 16.703125 27.09375 16.703125 20.515625 \nQ 16.703125 13.921875 20.71875 10.15625 \nQ 24.75 6.390625 31.78125 6.390625 \nQ 38.8125 6.390625 42.859375 10.171875 \nQ 46.921875 13.96875 46.921875 20.515625 \nQ 46.921875 27.09375 42.890625 30.859375 \nQ 38.875 34.625 31.78125 34.625 \nz\nM 21.921875 38.8125 \nQ 15.578125 40.375 12.03125 44.71875 \nQ 8.5 49.078125 8.5 55.328125 \nQ 8.5 64.0625 14.71875 69.140625 \nQ 20.953125 74.21875 31.78125 74.21875 \nQ 42.671875 74.21875 48.875 69.140625 \nQ 55.078125 64.0625 55.078125 55.328125 \nQ 55.078125 49.078125 51.53125 44.71875 \nQ 48 40.375 41.703125 38.8125 \nQ 48.828125 37.15625 52.796875 32.3125 \nQ 56.78125 27.484375 56.78125 20.515625 \nQ 56.78125 9.90625 50.3125 4.234375 \nQ 43.84375 -1.421875 31.78125 -1.421875 \nQ 19.734375 -1.421875 13.25 4.234375 \nQ 6.78125 9.90625 6.78125 20.515625 \nQ 6.78125 27.484375 10.78125 32.3125 \nQ 14.796875 37.15625 21.921875 38.8125 \nz\nM 18.3125 54.390625 \nQ 18.3125 48.734375 21.84375 45.5625 \nQ 25.390625 42.390625 31.78125 42.390625 \nQ 38.140625 42.390625 41.71875 45.5625 \nQ 45.3125 48.734375 45.3125 54.390625 \nQ 45.3125 60.0625 41.71875 63.234375 \nQ 38.140625 66.40625 31.78125 66.40625 \nQ 25.390625 66.40625 21.84375 63.234375 \nQ 18.3125 60.0625 18.3125 54.390625 \nz\n\" id=\"DejaVuSans-56\"/>\n      </defs>\n      <g transform=\"translate(20.878125 104.353417)scale(0.1 -0.1)\">\n       <use xlink:href=\"#DejaVuSans-8722\"/>\n       <use x=\"83.789062\" xlink:href=\"#DejaVuSans-48\"/>\n       <use x=\"147.412109\" xlink:href=\"#DejaVuSans-46\"/>\n       <use x=\"179.199219\" xlink:href=\"#DejaVuSans-56\"/>\n       <use x=\"242.822266\" xlink:href=\"#DejaVuSans-53\"/>\n      </g>\n     </g>\n    </g>\n    <g id=\"ytick_5\">\n     <g id=\"line2d_13\">\n      <g>\n       <use style=\"stroke:#000000;stroke-width:0.8;\" x=\"58.523438\" xlink:href=\"#m9201cb8b91\" y=\"55.526243\"/>\n      </g>\n     </g>\n     <g id=\"text_14\">\n      <!-- −0.80 -->\n      <g transform=\"translate(20.878125 59.325461)scale(0.1 -0.1)\">\n       <use xlink:href=\"#DejaVuSans-8722\"/>\n       <use x=\"83.789062\" xlink:href=\"#DejaVuSans-48\"/>\n       <use x=\"147.412109\" xlink:href=\"#DejaVuSans-46\"/>\n       <use x=\"179.199219\" xlink:href=\"#DejaVuSans-56\"/>\n       <use x=\"242.822266\" xlink:href=\"#DejaVuSans-48\"/>\n      </g>\n     </g>\n    </g>\n    <g id=\"text_15\">\n     <!-- Neg Log Likelihood Loss -->\n     <defs>\n      <path d=\"M 9.8125 72.90625 \nL 23.09375 72.90625 \nL 55.421875 11.921875 \nL 55.421875 72.90625 \nL 64.984375 72.90625 \nL 64.984375 0 \nL 51.703125 0 \nL 19.390625 60.984375 \nL 19.390625 0 \nL 9.8125 0 \nz\n\" id=\"DejaVuSans-78\"/>\n      <path d=\"M 9.8125 72.90625 \nL 19.671875 72.90625 \nL 19.671875 8.296875 \nL 55.171875 8.296875 \nL 55.171875 0 \nL 9.8125 0 \nz\n\" id=\"DejaVuSans-76\"/>\n      <path d=\"M 9.078125 75.984375 \nL 18.109375 75.984375 \nL 18.109375 31.109375 \nL 44.921875 54.6875 \nL 56.390625 54.6875 \nL 27.390625 29.109375 \nL 57.625 0 \nL 45.90625 0 \nL 18.109375 26.703125 \nL 18.109375 0 \nL 9.078125 0 \nz\n\" id=\"DejaVuSans-107\"/>\n      <path d=\"M 9.421875 75.984375 \nL 18.40625 75.984375 \nL 18.40625 0 \nL 9.421875 0 \nz\n\" id=\"DejaVuSans-108\"/>\n      <path d=\"M 54.890625 33.015625 \nL 54.890625 0 \nL 45.90625 0 \nL 45.90625 32.71875 \nQ 45.90625 40.484375 42.875 44.328125 \nQ 39.84375 48.1875 33.796875 48.1875 \nQ 26.515625 48.1875 22.3125 43.546875 \nQ 18.109375 38.921875 18.109375 30.90625 \nL 18.109375 0 \nL 9.078125 0 \nL 9.078125 75.984375 \nL 18.109375 75.984375 \nL 18.109375 46.1875 \nQ 21.34375 51.125 25.703125 53.5625 \nQ 30.078125 56 35.796875 56 \nQ 45.21875 56 50.046875 50.171875 \nQ 54.890625 44.34375 54.890625 33.015625 \nz\n\" id=\"DejaVuSans-104\"/>\n      <path d=\"M 45.40625 46.390625 \nL 45.40625 75.984375 \nL 54.390625 75.984375 \nL 54.390625 0 \nL 45.40625 0 \nL 45.40625 8.203125 \nQ 42.578125 3.328125 38.25 0.953125 \nQ 33.9375 -1.421875 27.875 -1.421875 \nQ 17.96875 -1.421875 11.734375 6.484375 \nQ 5.515625 14.40625 5.515625 27.296875 \nQ 5.515625 40.1875 11.734375 48.09375 \nQ 17.96875 56 27.875 56 \nQ 33.9375 56 38.25 53.625 \nQ 42.578125 51.265625 45.40625 46.390625 \nz\nM 14.796875 27.296875 \nQ 14.796875 17.390625 18.875 11.75 \nQ 22.953125 6.109375 30.078125 6.109375 \nQ 37.203125 6.109375 41.296875 11.75 \nQ 45.40625 17.390625 45.40625 27.296875 \nQ 45.40625 37.203125 41.296875 42.84375 \nQ 37.203125 48.484375 30.078125 48.484375 \nQ 22.953125 48.484375 18.875 42.84375 \nQ 14.796875 37.203125 14.796875 27.296875 \nz\n\" id=\"DejaVuSans-100\"/>\n     </defs>\n     <g transform=\"translate(14.798438 190.901406)rotate(-90)scale(0.1 -0.1)\">\n      <use xlink:href=\"#DejaVuSans-78\"/>\n      <use x=\"74.804688\" xlink:href=\"#DejaVuSans-101\"/>\n      <use x=\"136.328125\" xlink:href=\"#DejaVuSans-103\"/>\n      <use x=\"199.804688\" xlink:href=\"#DejaVuSans-32\"/>\n      <use x=\"231.591797\" xlink:href=\"#DejaVuSans-76\"/>\n      <use x=\"285.554688\" xlink:href=\"#DejaVuSans-111\"/>\n      <use x=\"346.736328\" xlink:href=\"#DejaVuSans-103\"/>\n      <use x=\"410.212891\" xlink:href=\"#DejaVuSans-32\"/>\n      <use x=\"442\" xlink:href=\"#DejaVuSans-76\"/>\n      <use x=\"497.712891\" xlink:href=\"#DejaVuSans-105\"/>\n      <use x=\"525.496094\" xlink:href=\"#DejaVuSans-107\"/>\n      <use x=\"579.78125\" xlink:href=\"#DejaVuSans-101\"/>\n      <use x=\"641.304688\" xlink:href=\"#DejaVuSans-108\"/>\n      <use x=\"669.087891\" xlink:href=\"#DejaVuSans-105\"/>\n      <use x=\"696.871094\" xlink:href=\"#DejaVuSans-104\"/>\n      <use x=\"760.25\" xlink:href=\"#DejaVuSans-111\"/>\n      <use x=\"821.431641\" xlink:href=\"#DejaVuSans-111\"/>\n      <use x=\"882.613281\" xlink:href=\"#DejaVuSans-100\"/>\n      <use x=\"946.089844\" xlink:href=\"#DejaVuSans-32\"/>\n      <use x=\"977.876953\" xlink:href=\"#DejaVuSans-76\"/>\n      <use x=\"1031.839844\" xlink:href=\"#DejaVuSans-111\"/>\n      <use x=\"1093.021484\" xlink:href=\"#DejaVuSans-115\"/>\n      <use x=\"1145.121094\" xlink:href=\"#DejaVuSans-115\"/>\n     </g>\n    </g>\n   </g>\n   <g id=\"line2d_14\">\n    <path clip-path=\"url(#p1f3d03418a)\" d=\"M 73.741619 32.201761 \nL 89.760758 159.585849 \nL 105.779897 189.619496 \nL 121.799036 181.559492 \nL 137.818174 190.294915 \nL 153.837313 196.103522 \nL 169.856452 202.047212 \nL 185.875591 190.565083 \nL 201.894729 205.424308 \nL 217.913868 206.504979 \nL 233.933007 214.114704 \nL 249.952146 216.726325 \nL 265.971284 221.724429 \nL 281.990423 220.868897 \nL 298.009562 222.760072 \nL 314.028701 224.516162 \nL 330.047839 226.137168 \nL 346.066978 227.758175 \nL 362.086117 229.874489 \nL 378.105256 226.76756 \n\" style=\"fill:none;stroke:#1f77b4;stroke-linecap:square;stroke-width:1.5;\"/>\n   </g>\n   <g id=\"patch_3\">\n    <path d=\"M 58.523438 239.758125 \nL 58.523438 22.318125 \n\" style=\"fill:none;stroke:#000000;stroke-linecap:square;stroke-linejoin:miter;stroke-width:0.8;\"/>\n   </g>\n   <g id=\"patch_4\">\n    <path d=\"M 393.323438 239.758125 \nL 393.323438 22.318125 \n\" style=\"fill:none;stroke:#000000;stroke-linecap:square;stroke-linejoin:miter;stroke-width:0.8;\"/>\n   </g>\n   <g id=\"patch_5\">\n    <path d=\"M 58.523438 239.758125 \nL 393.323437 239.758125 \n\" style=\"fill:none;stroke:#000000;stroke-linecap:square;stroke-linejoin:miter;stroke-width:0.8;\"/>\n   </g>\n   <g id=\"patch_6\">\n    <path d=\"M 58.523438 22.318125 \nL 393.323437 22.318125 \n\" style=\"fill:none;stroke:#000000;stroke-linecap:square;stroke-linejoin:miter;stroke-width:0.8;\"/>\n   </g>\n   <g id=\"text_16\">\n    <!-- Hybrid NN Training Convergence -->\n    <defs>\n     <path d=\"M 9.8125 72.90625 \nL 19.671875 72.90625 \nL 19.671875 43.015625 \nL 55.515625 43.015625 \nL 55.515625 72.90625 \nL 65.375 72.90625 \nL 65.375 0 \nL 55.515625 0 \nL 55.515625 34.71875 \nL 19.671875 34.71875 \nL 19.671875 0 \nL 9.8125 0 \nz\n\" id=\"DejaVuSans-72\"/>\n     <path d=\"M 32.171875 -5.078125 \nQ 28.375 -14.84375 24.75 -17.8125 \nQ 21.140625 -20.796875 15.09375 -20.796875 \nL 7.90625 -20.796875 \nL 7.90625 -13.28125 \nL 13.1875 -13.28125 \nQ 16.890625 -13.28125 18.9375 -11.515625 \nQ 21 -9.765625 23.484375 -3.21875 \nL 25.09375 0.875 \nL 2.984375 54.6875 \nL 12.5 54.6875 \nL 29.59375 11.921875 \nL 46.6875 54.6875 \nL 56.203125 54.6875 \nz\n\" id=\"DejaVuSans-121\"/>\n     <path d=\"M 48.6875 27.296875 \nQ 48.6875 37.203125 44.609375 42.84375 \nQ 40.53125 48.484375 33.40625 48.484375 \nQ 26.265625 48.484375 22.1875 42.84375 \nQ 18.109375 37.203125 18.109375 27.296875 \nQ 18.109375 17.390625 22.1875 11.75 \nQ 26.265625 6.109375 33.40625 6.109375 \nQ 40.53125 6.109375 44.609375 11.75 \nQ 48.6875 17.390625 48.6875 27.296875 \nz\nM 18.109375 46.390625 \nQ 20.953125 51.265625 25.265625 53.625 \nQ 29.59375 56 35.59375 56 \nQ 45.5625 56 51.78125 48.09375 \nQ 58.015625 40.1875 58.015625 27.296875 \nQ 58.015625 14.40625 51.78125 6.484375 \nQ 45.5625 -1.421875 35.59375 -1.421875 \nQ 29.59375 -1.421875 25.265625 0.953125 \nQ 20.953125 3.328125 18.109375 8.203125 \nL 18.109375 0 \nL 9.078125 0 \nL 9.078125 75.984375 \nL 18.109375 75.984375 \nz\n\" id=\"DejaVuSans-98\"/>\n     <path d=\"M 64.40625 67.28125 \nL 64.40625 56.890625 \nQ 59.421875 61.53125 53.78125 63.8125 \nQ 48.140625 66.109375 41.796875 66.109375 \nQ 29.296875 66.109375 22.65625 58.46875 \nQ 16.015625 50.828125 16.015625 36.375 \nQ 16.015625 21.96875 22.65625 14.328125 \nQ 29.296875 6.6875 41.796875 6.6875 \nQ 48.140625 6.6875 53.78125 8.984375 \nQ 59.421875 11.28125 64.40625 15.921875 \nL 64.40625 5.609375 \nQ 59.234375 2.09375 53.4375 0.328125 \nQ 47.65625 -1.421875 41.21875 -1.421875 \nQ 24.65625 -1.421875 15.125 8.703125 \nQ 5.609375 18.84375 5.609375 36.375 \nQ 5.609375 53.953125 15.125 64.078125 \nQ 24.65625 74.21875 41.21875 74.21875 \nQ 47.75 74.21875 53.53125 72.484375 \nQ 59.328125 70.75 64.40625 67.28125 \nz\n\" id=\"DejaVuSans-67\"/>\n     <path d=\"M 2.984375 54.6875 \nL 12.5 54.6875 \nL 29.59375 8.796875 \nL 46.6875 54.6875 \nL 56.203125 54.6875 \nL 35.6875 0 \nL 23.484375 0 \nz\n\" id=\"DejaVuSans-118\"/>\n     <path d=\"M 48.78125 52.59375 \nL 48.78125 44.1875 \nQ 44.96875 46.296875 41.140625 47.34375 \nQ 37.3125 48.390625 33.40625 48.390625 \nQ 24.65625 48.390625 19.8125 42.84375 \nQ 14.984375 37.3125 14.984375 27.296875 \nQ 14.984375 17.28125 19.8125 11.734375 \nQ 24.65625 6.203125 33.40625 6.203125 \nQ 37.3125 6.203125 41.140625 7.25 \nQ 44.96875 8.296875 48.78125 10.40625 \nL 48.78125 2.09375 \nQ 45.015625 0.34375 40.984375 -0.53125 \nQ 36.96875 -1.421875 32.421875 -1.421875 \nQ 20.0625 -1.421875 12.78125 6.34375 \nQ 5.515625 14.109375 5.515625 27.296875 \nQ 5.515625 40.671875 12.859375 48.328125 \nQ 20.21875 56 33.015625 56 \nQ 37.15625 56 41.109375 55.140625 \nQ 45.0625 54.296875 48.78125 52.59375 \nz\n\" id=\"DejaVuSans-99\"/>\n    </defs>\n    <g transform=\"translate(128.176875 16.318125)scale(0.12 -0.12)\">\n     <use xlink:href=\"#DejaVuSans-72\"/>\n     <use x=\"75.195312\" xlink:href=\"#DejaVuSans-121\"/>\n     <use x=\"134.375\" xlink:href=\"#DejaVuSans-98\"/>\n     <use x=\"197.851562\" xlink:href=\"#DejaVuSans-114\"/>\n     <use x=\"238.964844\" xlink:href=\"#DejaVuSans-105\"/>\n     <use x=\"266.748047\" xlink:href=\"#DejaVuSans-100\"/>\n     <use x=\"330.224609\" xlink:href=\"#DejaVuSans-32\"/>\n     <use x=\"362.011719\" xlink:href=\"#DejaVuSans-78\"/>\n     <use x=\"436.816406\" xlink:href=\"#DejaVuSans-78\"/>\n     <use x=\"511.621094\" xlink:href=\"#DejaVuSans-32\"/>\n     <use x=\"543.408203\" xlink:href=\"#DejaVuSans-84\"/>\n     <use x=\"589.742188\" xlink:href=\"#DejaVuSans-114\"/>\n     <use x=\"630.855469\" xlink:href=\"#DejaVuSans-97\"/>\n     <use x=\"692.134766\" xlink:href=\"#DejaVuSans-105\"/>\n     <use x=\"719.917969\" xlink:href=\"#DejaVuSans-110\"/>\n     <use x=\"783.296875\" xlink:href=\"#DejaVuSans-105\"/>\n     <use x=\"811.080078\" xlink:href=\"#DejaVuSans-110\"/>\n     <use x=\"874.458984\" xlink:href=\"#DejaVuSans-103\"/>\n     <use x=\"937.935547\" xlink:href=\"#DejaVuSans-32\"/>\n     <use x=\"969.722656\" xlink:href=\"#DejaVuSans-67\"/>\n     <use x=\"1039.546875\" xlink:href=\"#DejaVuSans-111\"/>\n     <use x=\"1100.728516\" xlink:href=\"#DejaVuSans-110\"/>\n     <use x=\"1164.107422\" xlink:href=\"#DejaVuSans-118\"/>\n     <use x=\"1223.287109\" xlink:href=\"#DejaVuSans-101\"/>\n     <use x=\"1284.810547\" xlink:href=\"#DejaVuSans-114\"/>\n     <use x=\"1324.173828\" xlink:href=\"#DejaVuSans-103\"/>\n     <use x=\"1387.650391\" xlink:href=\"#DejaVuSans-101\"/>\n     <use x=\"1449.173828\" xlink:href=\"#DejaVuSans-110\"/>\n     <use x=\"1512.552734\" xlink:href=\"#DejaVuSans-99\"/>\n     <use x=\"1567.533203\" xlink:href=\"#DejaVuSans-101\"/>\n    </g>\n   </g>\n  </g>\n </g>\n <defs>\n  <clipPath id=\"p1f3d03418a\">\n   <rect height=\"217.44\" width=\"334.8\" x=\"58.523438\" y=\"22.318125\"/>\n  </clipPath>\n </defs>\n</svg>\n",
      "text/plain": [
       "<Figure size 432x288 with 1 Axes>"
      ]
     },
     "metadata": {
      "needs_background": "light"
     },
     "output_type": "display_data"
    }
   ],
   "source": [
    "plt.plot(loss_list)\n",
    "plt.title('Hybrid NN Training Convergence')\n",
    "plt.xlabel('Training Iterations')\n",
    "plt.ylabel('Neg Log Likelihood Loss')"
   ]
  },
  {
   "cell_type": "markdown",
   "metadata": {},
   "source": [
    "### Testing the Network <a id='testing'></a>"
   ]
  },
  {
   "cell_type": "code",
   "execution_count": 11,
   "metadata": {},
   "outputs": [
    {
     "name": "stdout",
     "output_type": "stream",
     "text": [
      "Performance on test data:\n",
      "\tLoss: -0.9827\n",
      "\tAccuracy: 100.0%\n"
     ]
    }
   ],
   "source": [
    "model.eval()\n",
    "with torch.no_grad():\n",
    "    \n",
    "    correct = 0\n",
    "    for batch_idx, (data, target) in enumerate(test_loader):\n",
    "        output = model(data)\n",
    "        \n",
    "        pred = output.argmax(dim=1, keepdim=True) \n",
    "        correct += pred.eq(target.view_as(pred)).sum().item()\n",
    "        \n",
    "        loss = loss_func(output, target)\n",
    "        total_loss.append(loss.item())\n",
    "        \n",
    "    print('Performance on test data:\\n\\tLoss: {:.4f}\\n\\tAccuracy: {:.1f}%'.format(\n",
    "        sum(total_loss) / len(total_loss),\n",
    "        correct / len(test_loader) * 100)\n",
    "        )"
   ]
  },
  {
   "cell_type": "code",
   "execution_count": 12,
   "metadata": {},
   "outputs": [
    {
     "data": {
      "image/svg+xml": "<?xml version=\"1.0\" encoding=\"utf-8\" standalone=\"no\"?>\n<!DOCTYPE svg PUBLIC \"-//W3C//DTD SVG 1.1//EN\"\n  \"http://www.w3.org/Graphics/SVG/1.1/DTD/svg11.dtd\">\n<!-- Created with matplotlib (https://matplotlib.org/) -->\n<svg height=\"112.732411pt\" version=\"1.1\" viewBox=\"0 0 575.9 112.732411\" width=\"575.9pt\" xmlns=\"http://www.w3.org/2000/svg\" xmlns:xlink=\"http://www.w3.org/1999/xlink\">\n <defs>\n  <style type=\"text/css\">\n*{stroke-linecap:butt;stroke-linejoin:round;}\n  </style>\n </defs>\n <g id=\"figure_1\">\n  <g id=\"patch_1\">\n   <path d=\"M 0 112.732411 \nL 575.9 112.732411 \nL 575.9 -0 \nL 0 -0 \nz\n\" style=\"fill:none;\"/>\n  </g>\n  <g id=\"axes_1\">\n   <g id=\"patch_2\">\n    <path d=\"M 10.7 102.032411 \nL 90.414286 102.032411 \nL 90.414286 22.318125 \nL 10.7 22.318125 \nz\n\" style=\"fill:#ffffff;\"/>\n   </g>\n   <g clip-path=\"url(#p2e07161f37)\">\n    <image height=\"80\" id=\"imagec84c1b9a80\" transform=\"scale(1 -1)translate(0 -80)\" width=\"80\" x=\"10.7\" xlink:href=\"data:image/png;base64,\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\" y=\"-22.032411\"/>\n   </g>\n   <g id=\"matplotlib.axis_1\"/>\n   <g id=\"matplotlib.axis_2\"/>\n   <g id=\"patch_3\">\n    <path d=\"M 10.7 102.032411 \nL 10.7 22.318125 \n\" style=\"fill:none;stroke:#000000;stroke-linecap:square;stroke-linejoin:miter;stroke-width:0.8;\"/>\n   </g>\n   <g id=\"patch_4\">\n    <path d=\"M 90.414286 102.032411 \nL 90.414286 22.318125 \n\" style=\"fill:none;stroke:#000000;stroke-linecap:square;stroke-linejoin:miter;stroke-width:0.8;\"/>\n   </g>\n   <g id=\"patch_5\">\n    <path d=\"M 10.7 102.032411 \nL 90.414286 102.032411 \n\" style=\"fill:none;stroke:#000000;stroke-linecap:square;stroke-linejoin:miter;stroke-width:0.8;\"/>\n   </g>\n   <g id=\"patch_6\">\n    <path d=\"M 10.7 22.318125 \nL 90.414286 22.318125 \n\" style=\"fill:none;stroke:#000000;stroke-linecap:square;stroke-linejoin:miter;stroke-width:0.8;\"/>\n   </g>\n   <g id=\"text_1\">\n    <!-- Predicted 1 -->\n    <defs>\n     <path d=\"M 19.671875 64.796875 \nL 19.671875 37.40625 \nL 32.078125 37.40625 \nQ 38.96875 37.40625 42.71875 40.96875 \nQ 46.484375 44.53125 46.484375 51.125 \nQ 46.484375 57.671875 42.71875 61.234375 \nQ 38.96875 64.796875 32.078125 64.796875 \nz\nM 9.8125 72.90625 \nL 32.078125 72.90625 \nQ 44.34375 72.90625 50.609375 67.359375 \nQ 56.890625 61.8125 56.890625 51.125 \nQ 56.890625 40.328125 50.609375 34.8125 \nQ 44.34375 29.296875 32.078125 29.296875 \nL 19.671875 29.296875 \nL 19.671875 0 \nL 9.8125 0 \nz\n\" id=\"DejaVuSans-80\"/>\n     <path d=\"M 41.109375 46.296875 \nQ 39.59375 47.171875 37.8125 47.578125 \nQ 36.03125 48 33.890625 48 \nQ 26.265625 48 22.1875 43.046875 \nQ 18.109375 38.09375 18.109375 28.8125 \nL 18.109375 0 \nL 9.078125 0 \nL 9.078125 54.6875 \nL 18.109375 54.6875 \nL 18.109375 46.1875 \nQ 20.953125 51.171875 25.484375 53.578125 \nQ 30.03125 56 36.53125 56 \nQ 37.453125 56 38.578125 55.875 \nQ 39.703125 55.765625 41.0625 55.515625 \nz\n\" id=\"DejaVuSans-114\"/>\n     <path d=\"M 56.203125 29.59375 \nL 56.203125 25.203125 \nL 14.890625 25.203125 \nQ 15.484375 15.921875 20.484375 11.0625 \nQ 25.484375 6.203125 34.421875 6.203125 \nQ 39.59375 6.203125 44.453125 7.46875 \nQ 49.3125 8.734375 54.109375 11.28125 \nL 54.109375 2.78125 \nQ 49.265625 0.734375 44.1875 -0.34375 \nQ 39.109375 -1.421875 33.890625 -1.421875 \nQ 20.796875 -1.421875 13.15625 6.1875 \nQ 5.515625 13.8125 5.515625 26.8125 \nQ 5.515625 40.234375 12.765625 48.109375 \nQ 20.015625 56 32.328125 56 \nQ 43.359375 56 49.78125 48.890625 \nQ 56.203125 41.796875 56.203125 29.59375 \nz\nM 47.21875 32.234375 \nQ 47.125 39.59375 43.09375 43.984375 \nQ 39.0625 48.390625 32.421875 48.390625 \nQ 24.90625 48.390625 20.390625 44.140625 \nQ 15.875 39.890625 15.1875 32.171875 \nz\n\" id=\"DejaVuSans-101\"/>\n     <path d=\"M 45.40625 46.390625 \nL 45.40625 75.984375 \nL 54.390625 75.984375 \nL 54.390625 0 \nL 45.40625 0 \nL 45.40625 8.203125 \nQ 42.578125 3.328125 38.25 0.953125 \nQ 33.9375 -1.421875 27.875 -1.421875 \nQ 17.96875 -1.421875 11.734375 6.484375 \nQ 5.515625 14.40625 5.515625 27.296875 \nQ 5.515625 40.1875 11.734375 48.09375 \nQ 17.96875 56 27.875 56 \nQ 33.9375 56 38.25 53.625 \nQ 42.578125 51.265625 45.40625 46.390625 \nz\nM 14.796875 27.296875 \nQ 14.796875 17.390625 18.875 11.75 \nQ 22.953125 6.109375 30.078125 6.109375 \nQ 37.203125 6.109375 41.296875 11.75 \nQ 45.40625 17.390625 45.40625 27.296875 \nQ 45.40625 37.203125 41.296875 42.84375 \nQ 37.203125 48.484375 30.078125 48.484375 \nQ 22.953125 48.484375 18.875 42.84375 \nQ 14.796875 37.203125 14.796875 27.296875 \nz\n\" id=\"DejaVuSans-100\"/>\n     <path d=\"M 9.421875 54.6875 \nL 18.40625 54.6875 \nL 18.40625 0 \nL 9.421875 0 \nz\nM 9.421875 75.984375 \nL 18.40625 75.984375 \nL 18.40625 64.59375 \nL 9.421875 64.59375 \nz\n\" id=\"DejaVuSans-105\"/>\n     <path d=\"M 48.78125 52.59375 \nL 48.78125 44.1875 \nQ 44.96875 46.296875 41.140625 47.34375 \nQ 37.3125 48.390625 33.40625 48.390625 \nQ 24.65625 48.390625 19.8125 42.84375 \nQ 14.984375 37.3125 14.984375 27.296875 \nQ 14.984375 17.28125 19.8125 11.734375 \nQ 24.65625 6.203125 33.40625 6.203125 \nQ 37.3125 6.203125 41.140625 7.25 \nQ 44.96875 8.296875 48.78125 10.40625 \nL 48.78125 2.09375 \nQ 45.015625 0.34375 40.984375 -0.53125 \nQ 36.96875 -1.421875 32.421875 -1.421875 \nQ 20.0625 -1.421875 12.78125 6.34375 \nQ 5.515625 14.109375 5.515625 27.296875 \nQ 5.515625 40.671875 12.859375 48.328125 \nQ 20.21875 56 33.015625 56 \nQ 37.15625 56 41.109375 55.140625 \nQ 45.0625 54.296875 48.78125 52.59375 \nz\n\" id=\"DejaVuSans-99\"/>\n     <path d=\"M 18.3125 70.21875 \nL 18.3125 54.6875 \nL 36.8125 54.6875 \nL 36.8125 47.703125 \nL 18.3125 47.703125 \nL 18.3125 18.015625 \nQ 18.3125 11.328125 20.140625 9.421875 \nQ 21.96875 7.515625 27.59375 7.515625 \nL 36.8125 7.515625 \nL 36.8125 0 \nL 27.59375 0 \nQ 17.1875 0 13.234375 3.875 \nQ 9.28125 7.765625 9.28125 18.015625 \nL 9.28125 47.703125 \nL 2.6875 47.703125 \nL 2.6875 54.6875 \nL 9.28125 54.6875 \nL 9.28125 70.21875 \nz\n\" id=\"DejaVuSans-116\"/>\n     <path id=\"DejaVuSans-32\"/>\n     <path d=\"M 12.40625 8.296875 \nL 28.515625 8.296875 \nL 28.515625 63.921875 \nL 10.984375 60.40625 \nL 10.984375 69.390625 \nL 28.421875 72.90625 \nL 38.28125 72.90625 \nL 38.28125 8.296875 \nL 54.390625 8.296875 \nL 54.390625 0 \nL 12.40625 0 \nz\n\" id=\"DejaVuSans-49\"/>\n    </defs>\n    <g transform=\"translate(16.668393 16.318125)scale(0.12 -0.12)\">\n     <use xlink:href=\"#DejaVuSans-80\"/>\n     <use x=\"58.552734\" xlink:href=\"#DejaVuSans-114\"/>\n     <use x=\"97.416016\" xlink:href=\"#DejaVuSans-101\"/>\n     <use x=\"158.939453\" xlink:href=\"#DejaVuSans-100\"/>\n     <use x=\"222.416016\" xlink:href=\"#DejaVuSans-105\"/>\n     <use x=\"250.199219\" xlink:href=\"#DejaVuSans-99\"/>\n     <use x=\"305.179688\" xlink:href=\"#DejaVuSans-116\"/>\n     <use x=\"344.388672\" xlink:href=\"#DejaVuSans-101\"/>\n     <use x=\"405.912109\" xlink:href=\"#DejaVuSans-100\"/>\n     <use x=\"469.388672\" xlink:href=\"#DejaVuSans-32\"/>\n     <use x=\"501.175781\" xlink:href=\"#DejaVuSans-49\"/>\n    </g>\n   </g>\n  </g>\n  <g id=\"axes_2\">\n   <g id=\"patch_7\">\n    <path d=\"M 106.357143 102.032411 \nL 186.071429 102.032411 \nL 186.071429 22.318125 \nL 106.357143 22.318125 \nz\n\" style=\"fill:#ffffff;\"/>\n   </g>\n   <g clip-path=\"url(#p77c6ff1e64)\">\n    <image height=\"80\" id=\"image115c6df643\" transform=\"scale(1 -1)translate(0 -80)\" width=\"80\" x=\"106.357143\" xlink:href=\"data:image/png;base64,\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\" y=\"-22.032411\"/>\n   </g>\n   <g id=\"matplotlib.axis_3\"/>\n   <g id=\"matplotlib.axis_4\"/>\n   <g id=\"patch_8\">\n    <path d=\"M 106.357143 102.032411 \nL 106.357143 22.318125 \n\" style=\"fill:none;stroke:#000000;stroke-linecap:square;stroke-linejoin:miter;stroke-width:0.8;\"/>\n   </g>\n   <g id=\"patch_9\">\n    <path d=\"M 186.071429 102.032411 \nL 186.071429 22.318125 \n\" style=\"fill:none;stroke:#000000;stroke-linecap:square;stroke-linejoin:miter;stroke-width:0.8;\"/>\n   </g>\n   <g id=\"patch_10\">\n    <path d=\"M 106.357143 102.032411 \nL 186.071429 102.032411 \n\" style=\"fill:none;stroke:#000000;stroke-linecap:square;stroke-linejoin:miter;stroke-width:0.8;\"/>\n   </g>\n   <g id=\"patch_11\">\n    <path d=\"M 106.357143 22.318125 \nL 186.071429 22.318125 \n\" style=\"fill:none;stroke:#000000;stroke-linecap:square;stroke-linejoin:miter;stroke-width:0.8;\"/>\n   </g>\n   <g id=\"text_2\">\n    <!-- Predicted 0 -->\n    <defs>\n     <path d=\"M 31.78125 66.40625 \nQ 24.171875 66.40625 20.328125 58.90625 \nQ 16.5 51.421875 16.5 36.375 \nQ 16.5 21.390625 20.328125 13.890625 \nQ 24.171875 6.390625 31.78125 6.390625 \nQ 39.453125 6.390625 43.28125 13.890625 \nQ 47.125 21.390625 47.125 36.375 \nQ 47.125 51.421875 43.28125 58.90625 \nQ 39.453125 66.40625 31.78125 66.40625 \nz\nM 31.78125 74.21875 \nQ 44.046875 74.21875 50.515625 64.515625 \nQ 56.984375 54.828125 56.984375 36.375 \nQ 56.984375 17.96875 50.515625 8.265625 \nQ 44.046875 -1.421875 31.78125 -1.421875 \nQ 19.53125 -1.421875 13.0625 8.265625 \nQ 6.59375 17.96875 6.59375 36.375 \nQ 6.59375 54.828125 13.0625 64.515625 \nQ 19.53125 74.21875 31.78125 74.21875 \nz\n\" id=\"DejaVuSans-48\"/>\n    </defs>\n    <g transform=\"translate(112.325536 16.318125)scale(0.12 -0.12)\">\n     <use xlink:href=\"#DejaVuSans-80\"/>\n     <use x=\"58.552734\" xlink:href=\"#DejaVuSans-114\"/>\n     <use x=\"97.416016\" xlink:href=\"#DejaVuSans-101\"/>\n     <use x=\"158.939453\" xlink:href=\"#DejaVuSans-100\"/>\n     <use x=\"222.416016\" xlink:href=\"#DejaVuSans-105\"/>\n     <use x=\"250.199219\" xlink:href=\"#DejaVuSans-99\"/>\n     <use x=\"305.179688\" xlink:href=\"#DejaVuSans-116\"/>\n     <use x=\"344.388672\" xlink:href=\"#DejaVuSans-101\"/>\n     <use x=\"405.912109\" xlink:href=\"#DejaVuSans-100\"/>\n     <use x=\"469.388672\" xlink:href=\"#DejaVuSans-32\"/>\n     <use x=\"501.175781\" xlink:href=\"#DejaVuSans-48\"/>\n    </g>\n   </g>\n  </g>\n  <g id=\"axes_3\">\n   <g id=\"patch_12\">\n    <path d=\"M 202.014286 102.032411 \nL 281.728571 102.032411 \nL 281.728571 22.318125 \nL 202.014286 22.318125 \nz\n\" style=\"fill:#ffffff;\"/>\n   </g>\n   <g clip-path=\"url(#p42940cbb77)\">\n    <image height=\"80\" id=\"imagebc7f54409a\" transform=\"scale(1 -1)translate(0 -80)\" width=\"80\" x=\"202.014286\" xlink:href=\"data:image/png;base64,\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\" y=\"-22.032411\"/>\n   </g>\n   <g id=\"matplotlib.axis_5\"/>\n   <g id=\"matplotlib.axis_6\"/>\n   <g id=\"patch_13\">\n    <path d=\"M 202.014286 102.032411 \nL 202.014286 22.318125 \n\" style=\"fill:none;stroke:#000000;stroke-linecap:square;stroke-linejoin:miter;stroke-width:0.8;\"/>\n   </g>\n   <g id=\"patch_14\">\n    <path d=\"M 281.728571 102.032411 \nL 281.728571 22.318125 \n\" style=\"fill:none;stroke:#000000;stroke-linecap:square;stroke-linejoin:miter;stroke-width:0.8;\"/>\n   </g>\n   <g id=\"patch_15\">\n    <path d=\"M 202.014286 102.032411 \nL 281.728571 102.032411 \n\" style=\"fill:none;stroke:#000000;stroke-linecap:square;stroke-linejoin:miter;stroke-width:0.8;\"/>\n   </g>\n   <g id=\"patch_16\">\n    <path d=\"M 202.014286 22.318125 \nL 281.728571 22.318125 \n\" style=\"fill:none;stroke:#000000;stroke-linecap:square;stroke-linejoin:miter;stroke-width:0.8;\"/>\n   </g>\n   <g id=\"text_3\">\n    <!-- Predicted 0 -->\n    <g transform=\"translate(207.982679 16.318125)scale(0.12 -0.12)\">\n     <use xlink:href=\"#DejaVuSans-80\"/>\n     <use x=\"58.552734\" xlink:href=\"#DejaVuSans-114\"/>\n     <use x=\"97.416016\" xlink:href=\"#DejaVuSans-101\"/>\n     <use x=\"158.939453\" xlink:href=\"#DejaVuSans-100\"/>\n     <use x=\"222.416016\" xlink:href=\"#DejaVuSans-105\"/>\n     <use x=\"250.199219\" xlink:href=\"#DejaVuSans-99\"/>\n     <use x=\"305.179688\" xlink:href=\"#DejaVuSans-116\"/>\n     <use x=\"344.388672\" xlink:href=\"#DejaVuSans-101\"/>\n     <use x=\"405.912109\" xlink:href=\"#DejaVuSans-100\"/>\n     <use x=\"469.388672\" xlink:href=\"#DejaVuSans-32\"/>\n     <use x=\"501.175781\" xlink:href=\"#DejaVuSans-48\"/>\n    </g>\n   </g>\n  </g>\n  <g id=\"axes_4\">\n   <g id=\"patch_17\">\n    <path d=\"M 297.671429 102.032411 \nL 377.385714 102.032411 \nL 377.385714 22.318125 \nL 297.671429 22.318125 \nz\n\" style=\"fill:#ffffff;\"/>\n   </g>\n   <g clip-path=\"url(#p6ba3ea390d)\">\n    <image height=\"80\" id=\"imagec11a4f5d55\" transform=\"scale(1 -1)translate(0 -80)\" width=\"80\" x=\"297.671429\" xlink:href=\"data:image/png;base64,\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\" y=\"-22.032411\"/>\n   </g>\n   <g id=\"matplotlib.axis_7\"/>\n   <g id=\"matplotlib.axis_8\"/>\n   <g id=\"patch_18\">\n    <path d=\"M 297.671429 102.032411 \nL 297.671429 22.318125 \n\" style=\"fill:none;stroke:#000000;stroke-linecap:square;stroke-linejoin:miter;stroke-width:0.8;\"/>\n   </g>\n   <g id=\"patch_19\">\n    <path d=\"M 377.385714 102.032411 \nL 377.385714 22.318125 \n\" style=\"fill:none;stroke:#000000;stroke-linecap:square;stroke-linejoin:miter;stroke-width:0.8;\"/>\n   </g>\n   <g id=\"patch_20\">\n    <path d=\"M 297.671429 102.032411 \nL 377.385714 102.032411 \n\" style=\"fill:none;stroke:#000000;stroke-linecap:square;stroke-linejoin:miter;stroke-width:0.8;\"/>\n   </g>\n   <g id=\"patch_21\">\n    <path d=\"M 297.671429 22.318125 \nL 377.385714 22.318125 \n\" style=\"fill:none;stroke:#000000;stroke-linecap:square;stroke-linejoin:miter;stroke-width:0.8;\"/>\n   </g>\n   <g id=\"text_4\">\n    <!-- Predicted 1 -->\n    <g transform=\"translate(303.639821 16.318125)scale(0.12 -0.12)\">\n     <use xlink:href=\"#DejaVuSans-80\"/>\n     <use x=\"58.552734\" xlink:href=\"#DejaVuSans-114\"/>\n     <use x=\"97.416016\" xlink:href=\"#DejaVuSans-101\"/>\n     <use x=\"158.939453\" xlink:href=\"#DejaVuSans-100\"/>\n     <use x=\"222.416016\" xlink:href=\"#DejaVuSans-105\"/>\n     <use x=\"250.199219\" xlink:href=\"#DejaVuSans-99\"/>\n     <use x=\"305.179688\" xlink:href=\"#DejaVuSans-116\"/>\n     <use x=\"344.388672\" xlink:href=\"#DejaVuSans-101\"/>\n     <use x=\"405.912109\" xlink:href=\"#DejaVuSans-100\"/>\n     <use x=\"469.388672\" xlink:href=\"#DejaVuSans-32\"/>\n     <use x=\"501.175781\" xlink:href=\"#DejaVuSans-49\"/>\n    </g>\n   </g>\n  </g>\n  <g id=\"axes_5\">\n   <g id=\"patch_22\">\n    <path d=\"M 393.328571 102.032411 \nL 473.042857 102.032411 \nL 473.042857 22.318125 \nL 393.328571 22.318125 \nz\n\" style=\"fill:#ffffff;\"/>\n   </g>\n   <g clip-path=\"url(#pa2913c811f)\">\n    <image height=\"80\" id=\"image989b80ada7\" transform=\"scale(1 -1)translate(0 -80)\" width=\"80\" x=\"393.328571\" xlink:href=\"data:image/png;base64,\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\" y=\"-22.032411\"/>\n   </g>\n   <g id=\"matplotlib.axis_9\"/>\n   <g id=\"matplotlib.axis_10\"/>\n   <g id=\"patch_23\">\n    <path d=\"M 393.328571 102.032411 \nL 393.328571 22.318125 \n\" style=\"fill:none;stroke:#000000;stroke-linecap:square;stroke-linejoin:miter;stroke-width:0.8;\"/>\n   </g>\n   <g id=\"patch_24\">\n    <path d=\"M 473.042857 102.032411 \nL 473.042857 22.318125 \n\" style=\"fill:none;stroke:#000000;stroke-linecap:square;stroke-linejoin:miter;stroke-width:0.8;\"/>\n   </g>\n   <g id=\"patch_25\">\n    <path d=\"M 393.328571 102.032411 \nL 473.042857 102.032411 \n\" style=\"fill:none;stroke:#000000;stroke-linecap:square;stroke-linejoin:miter;stroke-width:0.8;\"/>\n   </g>\n   <g id=\"patch_26\">\n    <path d=\"M 393.328571 22.318125 \nL 473.042857 22.318125 \n\" style=\"fill:none;stroke:#000000;stroke-linecap:square;stroke-linejoin:miter;stroke-width:0.8;\"/>\n   </g>\n   <g id=\"text_5\">\n    <!-- Predicted 1 -->\n    <g transform=\"translate(399.296964 16.318125)scale(0.12 -0.12)\">\n     <use xlink:href=\"#DejaVuSans-80\"/>\n     <use x=\"58.552734\" xlink:href=\"#DejaVuSans-114\"/>\n     <use x=\"97.416016\" xlink:href=\"#DejaVuSans-101\"/>\n     <use x=\"158.939453\" xlink:href=\"#DejaVuSans-100\"/>\n     <use x=\"222.416016\" xlink:href=\"#DejaVuSans-105\"/>\n     <use x=\"250.199219\" xlink:href=\"#DejaVuSans-99\"/>\n     <use x=\"305.179688\" xlink:href=\"#DejaVuSans-116\"/>\n     <use x=\"344.388672\" xlink:href=\"#DejaVuSans-101\"/>\n     <use x=\"405.912109\" xlink:href=\"#DejaVuSans-100\"/>\n     <use x=\"469.388672\" xlink:href=\"#DejaVuSans-32\"/>\n     <use x=\"501.175781\" xlink:href=\"#DejaVuSans-49\"/>\n    </g>\n   </g>\n  </g>\n  <g id=\"axes_6\">\n   <g id=\"patch_27\">\n    <path d=\"M 488.985714 102.032411 \nL 568.7 102.032411 \nL 568.7 22.318125 \nL 488.985714 22.318125 \nz\n\" style=\"fill:#ffffff;\"/>\n   </g>\n   <g clip-path=\"url(#pd328bfbf4f)\">\n    <image height=\"80\" id=\"imagede80521737\" transform=\"scale(1 -1)translate(0 -80)\" width=\"80\" x=\"488.985714\" xlink:href=\"data:image/png;base64,\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\" y=\"-22.032411\"/>\n   </g>\n   <g id=\"matplotlib.axis_11\"/>\n   <g id=\"matplotlib.axis_12\"/>\n   <g id=\"patch_28\">\n    <path d=\"M 488.985714 102.032411 \nL 488.985714 22.318125 \n\" style=\"fill:none;stroke:#000000;stroke-linecap:square;stroke-linejoin:miter;stroke-width:0.8;\"/>\n   </g>\n   <g id=\"patch_29\">\n    <path d=\"M 568.7 102.032411 \nL 568.7 22.318125 \n\" style=\"fill:none;stroke:#000000;stroke-linecap:square;stroke-linejoin:miter;stroke-width:0.8;\"/>\n   </g>\n   <g id=\"patch_30\">\n    <path d=\"M 488.985714 102.032411 \nL 568.7 102.032411 \n\" style=\"fill:none;stroke:#000000;stroke-linecap:square;stroke-linejoin:miter;stroke-width:0.8;\"/>\n   </g>\n   <g id=\"patch_31\">\n    <path d=\"M 488.985714 22.318125 \nL 568.7 22.318125 \n\" style=\"fill:none;stroke:#000000;stroke-linecap:square;stroke-linejoin:miter;stroke-width:0.8;\"/>\n   </g>\n   <g id=\"text_6\">\n    <!-- Predicted 1 -->\n    <g transform=\"translate(494.954107 16.318125)scale(0.12 -0.12)\">\n     <use xlink:href=\"#DejaVuSans-80\"/>\n     <use x=\"58.552734\" xlink:href=\"#DejaVuSans-114\"/>\n     <use x=\"97.416016\" xlink:href=\"#DejaVuSans-101\"/>\n     <use x=\"158.939453\" xlink:href=\"#DejaVuSans-100\"/>\n     <use x=\"222.416016\" xlink:href=\"#DejaVuSans-105\"/>\n     <use x=\"250.199219\" xlink:href=\"#DejaVuSans-99\"/>\n     <use x=\"305.179688\" xlink:href=\"#DejaVuSans-116\"/>\n     <use x=\"344.388672\" xlink:href=\"#DejaVuSans-101\"/>\n     <use x=\"405.912109\" xlink:href=\"#DejaVuSans-100\"/>\n     <use x=\"469.388672\" xlink:href=\"#DejaVuSans-32\"/>\n     <use x=\"501.175781\" xlink:href=\"#DejaVuSans-49\"/>\n    </g>\n   </g>\n  </g>\n </g>\n <defs>\n  <clipPath id=\"p2e07161f37\">\n   <rect height=\"79.714286\" width=\"79.714286\" x=\"10.7\" y=\"22.318125\"/>\n  </clipPath>\n  <clipPath id=\"p77c6ff1e64\">\n   <rect height=\"79.714286\" width=\"79.714286\" x=\"106.357143\" y=\"22.318125\"/>\n  </clipPath>\n  <clipPath id=\"p42940cbb77\">\n   <rect height=\"79.714286\" width=\"79.714286\" x=\"202.014286\" y=\"22.318125\"/>\n  </clipPath>\n  <clipPath id=\"p6ba3ea390d\">\n   <rect height=\"79.714286\" width=\"79.714286\" x=\"297.671429\" y=\"22.318125\"/>\n  </clipPath>\n  <clipPath id=\"pa2913c811f\">\n   <rect height=\"79.714286\" width=\"79.714286\" x=\"393.328571\" y=\"22.318125\"/>\n  </clipPath>\n  <clipPath id=\"pd328bfbf4f\">\n   <rect height=\"79.714286\" width=\"79.714286\" x=\"488.985714\" y=\"22.318125\"/>\n  </clipPath>\n </defs>\n</svg>\n",
      "text/plain": [
       "<Figure size 720x216 with 6 Axes>"
      ]
     },
     "metadata": {},
     "output_type": "display_data"
    }
   ],
   "source": [
    "n_samples_show = 6\n",
    "count = 0\n",
    "fig, axes = plt.subplots(nrows=1, ncols=n_samples_show, figsize=(10, 3))\n",
    "\n",
    "model.eval()\n",
    "with torch.no_grad():\n",
    "    for batch_idx, (data, target) in enumerate(test_loader):\n",
    "        if count == n_samples_show:\n",
    "            break\n",
    "        output = model(data)\n",
    "        \n",
    "        pred = output.argmax(dim=1, keepdim=True) \n",
    "\n",
    "        axes[count].imshow(data[0].numpy().squeeze(), cmap='gray')\n",
    "\n",
    "        axes[count].set_xticks([])\n",
    "        axes[count].set_yticks([])\n",
    "        axes[count].set_title('Predicted {}'.format(pred.item()))\n",
    "        \n",
    "        count += 1"
   ]
  }
 ],
 "metadata": {
  "kernelspec": {
   "display_name": "Qiskit v0.35.0 (ipykernel)",
   "language": "python",
   "name": "python3"
  },
  "language_info": {
   "codemirror_mode": {
    "name": "ipython",
    "version": 3
   },
   "file_extension": ".py",
   "mimetype": "text/x-python",
   "name": "python",
   "nbconvert_exporter": "python",
   "pygments_lexer": "ipython3",
   "version": "3.8.13"
  },
  "widgets": {
   "application/vnd.jupyter.widget-state+json": {
    "state": {
     "0a8c89e9ff2745b7b46f6aa1a7a26c63": {
      "model_module": "@jupyter-widgets/controls",
      "model_module_version": "1.5.0",
      "model_name": "HBoxModel",
      "state": {
       "children": [
        "IPY_MODEL_f68102a0a06a4dd28e16dea4f8a0d5f2",
        "IPY_MODEL_16861440b6e544e1bfe3ab749a68a5ec",
        "IPY_MODEL_372a139c9b3842a3aae9bf31df641b76"
       ],
       "layout": "IPY_MODEL_6339bfe192b044c0a945cca2453e3b69"
      }
     },
     "16861440b6e544e1bfe3ab749a68a5ec": {
      "model_module": "@jupyter-widgets/controls",
      "model_module_version": "1.5.0",
      "model_name": "FloatProgressModel",
      "state": {
       "bar_style": "success",
       "layout": "IPY_MODEL_d1ea141420694caaa2fa6d2d9de9e634",
       "max": 170498071,
       "style": "IPY_MODEL_4263fab750a44512af7e192a4fbb0a9e",
       "value": 170498071
      }
     },
     "372a139c9b3842a3aae9bf31df641b76": {
      "model_module": "@jupyter-widgets/controls",
      "model_module_version": "1.5.0",
      "model_name": "HTMLModel",
      "state": {
       "layout": "IPY_MODEL_a2b659e6031946edbccae8e6ef23dc42",
       "style": "IPY_MODEL_e9378790b6e04f90a17b1a781c798877",
       "value": " 170499072/? [00:11&lt;00:00, 67726159.02it/s]"
      }
     },
     "4263fab750a44512af7e192a4fbb0a9e": {
      "model_module": "@jupyter-widgets/controls",
      "model_module_version": "1.5.0",
      "model_name": "ProgressStyleModel",
      "state": {
       "description_width": ""
      }
     },
     "6339bfe192b044c0a945cca2453e3b69": {
      "model_module": "@jupyter-widgets/base",
      "model_module_version": "1.2.0",
      "model_name": "LayoutModel",
      "state": {}
     },
     "a2b659e6031946edbccae8e6ef23dc42": {
      "model_module": "@jupyter-widgets/base",
      "model_module_version": "1.2.0",
      "model_name": "LayoutModel",
      "state": {}
     },
     "a78952f9be3849228d107204cdd569f5": {
      "model_module": "@jupyter-widgets/controls",
      "model_module_version": "1.5.0",
      "model_name": "DescriptionStyleModel",
      "state": {
       "description_width": ""
      }
     },
     "d1ea141420694caaa2fa6d2d9de9e634": {
      "model_module": "@jupyter-widgets/base",
      "model_module_version": "1.2.0",
      "model_name": "LayoutModel",
      "state": {}
     },
     "d8e2f6ff1f9e4aaa853052b4b94460c7": {
      "model_module": "@jupyter-widgets/base",
      "model_module_version": "1.2.0",
      "model_name": "LayoutModel",
      "state": {}
     },
     "e9378790b6e04f90a17b1a781c798877": {
      "model_module": "@jupyter-widgets/controls",
      "model_module_version": "1.5.0",
      "model_name": "DescriptionStyleModel",
      "state": {
       "description_width": ""
      }
     },
     "f68102a0a06a4dd28e16dea4f8a0d5f2": {
      "model_module": "@jupyter-widgets/controls",
      "model_module_version": "1.5.0",
      "model_name": "HTMLModel",
      "state": {
       "layout": "IPY_MODEL_d8e2f6ff1f9e4aaa853052b4b94460c7",
       "style": "IPY_MODEL_a78952f9be3849228d107204cdd569f5"
      }
     }
    },
    "version_major": 2,
    "version_minor": 0
   }
  }
 },
 "nbformat": 4,
 "nbformat_minor": 4
}
